{
 "cells": [
  {
   "cell_type": "markdown",
   "metadata": {
    "id": "5s7KdBQNpX9q"
   },
   "source": [
    "# Применение статистических методов\n",
    "\n",
    "Этот семинар призван помочь освоиться на практике со статистическими методами, которые изучались на лекции. [Ссылка](https://colab.research.google.com/drive/12JisoRiIP2RdVsZ8QvPC2MUHHeQGHx4U?usp=sharing) на тетрадку.\n",
    "\n",
    "Вам будет дан ряд экспериментов — часть по реальным данным, часть по сгенерированным — и их результаты будет нужно необходимо статистически обработать.\n",
    "\n",
    "Применяя каждый критерий, проходите по всем стадиям статистического вывода:\n",
    "\n",
    "- сформулируйте нулевую и альтернативную гипотезы\n",
    "- выберите уровень значимости (p<0.05, p<0.01, p<0.001)\n",
    "- выберите тест на основании вида ваших данных\n",
    "- произведите вычисления\n",
    "- сделайте вывод о значимости различий\n",
    "- сделайте итоговый вывод из эксперимента\n",
    "\n",
    "Критерии, из которых следует выбирать в заданиях:\n",
    "\n",
    "- t-критерий\n",
    "  - одновыборочный\n",
    "  - двухвыборочный\n",
    "- U-критерий Манна-Уитни\n",
    "- критерий $\\chi^2$\n",
    "- критерий Фишера\n",
    "\n",
    "см. таблицу на предпоследнем слайде лекции, где обсуждается выбор критерия; ниже не встречается случаев, для которых нужен критерий Вилкоксона или биномиальный тест\n",
    "\n",
    "Дополнительно, в конкретном задании вам может быть нужно изменить форму данных: преобразовать вид таблички или скопировать числа из нужного места."
   ]
  },
  {
   "cell_type": "markdown",
   "metadata": {
    "id": "FYtHJ9TlhWUI"
   },
   "source": [
    "## Тесты из Питона\n",
    "\n",
    "Естественно, все перечисленные тесты можно запустить из Питона\n",
    "\n",
    "- ttest() из модуля researchpy (есть все варианты [теста](https://researchpy.readthedocs.io/en/latest/ttest_documentation.html))\n",
    "- chi2_contingency() модуля scipy.stats\n",
    "- mannwhitneyu() модуля scipy.stats\n",
    "\n",
    "и т. д.\n",
    "\n",
    "В целом они применяются несложно — код ниже. Обычно самое сложное — понять, в каком формате подавать им данные"
   ]
  },
  {
   "cell_type": "code",
   "execution_count": 18,
   "metadata": {
    "id": "dIHLXXQ2jCWH"
   },
   "outputs": [],
   "source": [
    "%%capture\n",
    "!pip install scipy"
   ]
  },
  {
   "cell_type": "code",
   "execution_count": 31,
   "metadata": {
    "id": "8YlC0_r0k_R5"
   },
   "outputs": [],
   "source": [
    "import pandas as pd\n",
    "from scipy import stats"
   ]
  },
  {
   "cell_type": "code",
   "execution_count": 3,
   "metadata": {
    "colab": {
     "base_uri": "https://localhost:8080/"
    },
    "id": "gsqwNfk1pOov",
    "outputId": "6c4061b4-d4cd-482f-abfd-01cf8620386c"
   },
   "outputs": [
    {
     "data": {
      "text/html": [
       "<div>\n",
       "<style scoped>\n",
       "    .dataframe tbody tr th:only-of-type {\n",
       "        vertical-align: middle;\n",
       "    }\n",
       "\n",
       "    .dataframe tbody tr th {\n",
       "        vertical-align: top;\n",
       "    }\n",
       "\n",
       "    .dataframe thead th {\n",
       "        text-align: right;\n",
       "    }\n",
       "</style>\n",
       "<table border=\"1\" class=\"dataframe\">\n",
       "  <thead>\n",
       "    <tr style=\"text-align: right;\">\n",
       "      <th></th>\n",
       "      <th>sample_one</th>\n",
       "      <th>sample_two</th>\n",
       "    </tr>\n",
       "  </thead>\n",
       "  <tbody>\n",
       "    <tr>\n",
       "      <th>0</th>\n",
       "      <td>174</td>\n",
       "      <td>182</td>\n",
       "    </tr>\n",
       "    <tr>\n",
       "      <th>1</th>\n",
       "      <td>171</td>\n",
       "      <td>171</td>\n",
       "    </tr>\n",
       "    <tr>\n",
       "      <th>2</th>\n",
       "      <td>195</td>\n",
       "      <td>162</td>\n",
       "    </tr>\n",
       "    <tr>\n",
       "      <th>3</th>\n",
       "      <td>162</td>\n",
       "      <td>175</td>\n",
       "    </tr>\n",
       "    <tr>\n",
       "      <th>4</th>\n",
       "      <td>179</td>\n",
       "      <td>142</td>\n",
       "    </tr>\n",
       "    <tr>\n",
       "      <th>5</th>\n",
       "      <td>178</td>\n",
       "      <td>166</td>\n",
       "    </tr>\n",
       "    <tr>\n",
       "      <th>6</th>\n",
       "      <td>181</td>\n",
       "      <td>161</td>\n",
       "    </tr>\n",
       "    <tr>\n",
       "      <th>7</th>\n",
       "      <td>173</td>\n",
       "      <td>169</td>\n",
       "    </tr>\n",
       "    <tr>\n",
       "      <th>8</th>\n",
       "      <td>169</td>\n",
       "      <td>158</td>\n",
       "    </tr>\n",
       "    <tr>\n",
       "      <th>9</th>\n",
       "      <td>191</td>\n",
       "      <td>182</td>\n",
       "    </tr>\n",
       "  </tbody>\n",
       "</table>\n",
       "</div>"
      ],
      "text/plain": [
       "   sample_one  sample_two\n",
       "0         174         182\n",
       "1         171         171\n",
       "2         195         162\n",
       "3         162         175\n",
       "4         179         142\n",
       "5         178         166\n",
       "6         181         161\n",
       "7         173         169\n",
       "8         169         158\n",
       "9         191         182"
      ]
     },
     "execution_count": 3,
     "metadata": {},
     "output_type": "execute_result"
    }
   ],
   "source": [
    "#Берём датасет с двумя числовыми переменными (рост в двух популяциях из презентации),\n",
    "#чтобы использовать t-критерий\n",
    "samples = pd.read_csv('https://raw.githubusercontent.com/alekseyst/text_analysis_2024/main/Practical_8/sample_ttest.csv')\n",
    "samples.head(10)"
   ]
  },
  {
   "cell_type": "code",
   "execution_count": 35,
   "metadata": {},
   "outputs": [
    {
     "data": {
      "text/plain": [
       "TtestResult(statistic=np.float64(2.842621098813265), pvalue=np.float64(0.00706167648655467), df=np.float64(39.30510720355258))"
      ]
     },
     "execution_count": 35,
     "metadata": {},
     "output_type": "execute_result"
    }
   ],
   "source": [
    "#Запускаем t-критерий — получаем p-value\n",
    "stats.ttest_ind(samples['sample_one'], samples['sample_two'], equal_var=False)"
   ]
  },
  {
   "cell_type": "markdown",
   "metadata": {},
   "source": [
    "## Источник данных\n",
    "\n",
    "Данные для вычисления статистических тестов можно подготовить внутри Питона: библиотеки для вычисления тестов хорошо совместимы с pandas."
   ]
  },
  {
   "cell_type": "code",
   "execution_count": 5,
   "metadata": {},
   "outputs": [],
   "source": [
    "#Скачиваем датасеты и добавляем столбец, который говорит, из какого датасета слово\n",
    "alice = pd.read_csv('https://raw.githubusercontent.com/alekseyst/text_analysis_2025/main/Practical_4/alice_corpus_words.tsv', sep='\\t')\n",
    "alice['source'] = 'alice'\n",
    "\n",
    "panorama = pd.read_csv('https://raw.githubusercontent.com/alekseyst/text_analysis_2025/main/Practical_4/panorama_corpus_words.tsv', sep='\\t')\n",
    "panorama['source'] = 'panorama'"
   ]
  },
  {
   "cell_type": "code",
   "execution_count": 6,
   "metadata": {},
   "outputs": [
    {
     "data": {
      "text/html": [
       "<div>\n",
       "<style scoped>\n",
       "    .dataframe tbody tr th:only-of-type {\n",
       "        vertical-align: middle;\n",
       "    }\n",
       "\n",
       "    .dataframe tbody tr th {\n",
       "        vertical-align: top;\n",
       "    }\n",
       "\n",
       "    .dataframe thead th {\n",
       "        text-align: right;\n",
       "    }\n",
       "</style>\n",
       "<table border=\"1\" class=\"dataframe\">\n",
       "  <thead>\n",
       "    <tr style=\"text-align: right;\">\n",
       "      <th></th>\n",
       "      <th>index</th>\n",
       "      <th>word</th>\n",
       "      <th>lemma</th>\n",
       "      <th>pos</th>\n",
       "      <th>feats</th>\n",
       "      <th>synt</th>\n",
       "      <th>source</th>\n",
       "      <th>text_index</th>\n",
       "      <th>head</th>\n",
       "    </tr>\n",
       "  </thead>\n",
       "  <tbody>\n",
       "    <tr>\n",
       "      <th>0</th>\n",
       "      <td>0</td>\n",
       "      <td>Льюис</td>\n",
       "      <td>Льюис</td>\n",
       "      <td>PROPN</td>\n",
       "      <td>Animacy=Anim|Case=Nom|Gender=Masc|Number=Sing</td>\n",
       "      <td>root</td>\n",
       "      <td>alice</td>\n",
       "      <td>NaN</td>\n",
       "      <td>NaN</td>\n",
       "    </tr>\n",
       "    <tr>\n",
       "      <th>1</th>\n",
       "      <td>1</td>\n",
       "      <td>Кэрролл</td>\n",
       "      <td>Кэрролл</td>\n",
       "      <td>PROPN</td>\n",
       "      <td>Animacy=Anim|Case=Nom|Gender=Masc|Number=Sing</td>\n",
       "      <td>flat:name</td>\n",
       "      <td>alice</td>\n",
       "      <td>NaN</td>\n",
       "      <td>NaN</td>\n",
       "    </tr>\n",
       "    <tr>\n",
       "      <th>2</th>\n",
       "      <td>2</td>\n",
       "      <td>Приключения</td>\n",
       "      <td>приключение</td>\n",
       "      <td>NOUN</td>\n",
       "      <td>Animacy=Inan|Case=Nom|Gender=Neut|Number=Plur</td>\n",
       "      <td>root</td>\n",
       "      <td>alice</td>\n",
       "      <td>NaN</td>\n",
       "      <td>NaN</td>\n",
       "    </tr>\n",
       "    <tr>\n",
       "      <th>3</th>\n",
       "      <td>3</td>\n",
       "      <td>Алисы</td>\n",
       "      <td>Алиса</td>\n",
       "      <td>PROPN</td>\n",
       "      <td>Animacy=Anim|Case=Gen|Gender=Fem|Number=Sing</td>\n",
       "      <td>nmod</td>\n",
       "      <td>alice</td>\n",
       "      <td>NaN</td>\n",
       "      <td>NaN</td>\n",
       "    </tr>\n",
       "    <tr>\n",
       "      <th>4</th>\n",
       "      <td>4</td>\n",
       "      <td>в</td>\n",
       "      <td>в</td>\n",
       "      <td>ADP</td>\n",
       "      <td>NaN</td>\n",
       "      <td>case</td>\n",
       "      <td>alice</td>\n",
       "      <td>NaN</td>\n",
       "      <td>NaN</td>\n",
       "    </tr>\n",
       "    <tr>\n",
       "      <th>...</th>\n",
       "      <td>...</td>\n",
       "      <td>...</td>\n",
       "      <td>...</td>\n",
       "      <td>...</td>\n",
       "      <td>...</td>\n",
       "      <td>...</td>\n",
       "      <td>...</td>\n",
       "      <td>...</td>\n",
       "      <td>...</td>\n",
       "    </tr>\n",
       "    <tr>\n",
       "      <th>119543</th>\n",
       "      <td>154</td>\n",
       "      <td>ставить</td>\n",
       "      <td>ставить</td>\n",
       "      <td>VERB</td>\n",
       "      <td>Aspect=Imp|VerbForm=Inf|Voice=Act</td>\n",
       "      <td>xcomp</td>\n",
       "      <td>panorama</td>\n",
       "      <td>624.0</td>\n",
       "      <td>14.0</td>\n",
       "    </tr>\n",
       "    <tr>\n",
       "      <th>119544</th>\n",
       "      <td>155</td>\n",
       "      <td>вопрос</td>\n",
       "      <td>вопрос</td>\n",
       "      <td>NOUN</td>\n",
       "      <td>Animacy=Inan|Case=Acc|Gender=Masc|Number=Sing</td>\n",
       "      <td>obj</td>\n",
       "      <td>panorama</td>\n",
       "      <td>624.0</td>\n",
       "      <td>15.0</td>\n",
       "    </tr>\n",
       "    <tr>\n",
       "      <th>119545</th>\n",
       "      <td>156</td>\n",
       "      <td>подобным</td>\n",
       "      <td>подобный</td>\n",
       "      <td>ADJ</td>\n",
       "      <td>Case=Ins|Degree=Pos|Gender=Masc|Number=Sing</td>\n",
       "      <td>amod</td>\n",
       "      <td>panorama</td>\n",
       "      <td>624.0</td>\n",
       "      <td>18.0</td>\n",
       "    </tr>\n",
       "    <tr>\n",
       "      <th>119546</th>\n",
       "      <td>157</td>\n",
       "      <td>образом</td>\n",
       "      <td>образ</td>\n",
       "      <td>NOUN</td>\n",
       "      <td>Animacy=Inan|Case=Ins|Gender=Masc|Number=Sing</td>\n",
       "      <td>obl</td>\n",
       "      <td>panorama</td>\n",
       "      <td>624.0</td>\n",
       "      <td>15.0</td>\n",
       "    </tr>\n",
       "    <tr>\n",
       "      <th>119547</th>\n",
       "      <td>158</td>\n",
       "      <td>»</td>\n",
       "      <td>\"</td>\n",
       "      <td>PUNCT</td>\n",
       "      <td>NaN</td>\n",
       "      <td>punct</td>\n",
       "      <td>panorama</td>\n",
       "      <td>624.0</td>\n",
       "      <td>3.0</td>\n",
       "    </tr>\n",
       "  </tbody>\n",
       "</table>\n",
       "<p>160230 rows × 9 columns</p>\n",
       "</div>"
      ],
      "text/plain": [
       "        index         word        lemma    pos  \\\n",
       "0           0        Льюис        Льюис  PROPN   \n",
       "1           1      Кэрролл      Кэрролл  PROPN   \n",
       "2           2  Приключения  приключение   NOUN   \n",
       "3           3        Алисы        Алиса  PROPN   \n",
       "4           4            в            в    ADP   \n",
       "...       ...          ...          ...    ...   \n",
       "119543    154      ставить      ставить   VERB   \n",
       "119544    155       вопрос       вопрос   NOUN   \n",
       "119545    156     подобным     подобный    ADJ   \n",
       "119546    157      образом        образ   NOUN   \n",
       "119547    158            »            \"  PUNCT   \n",
       "\n",
       "                                                feats       synt    source  \\\n",
       "0       Animacy=Anim|Case=Nom|Gender=Masc|Number=Sing       root     alice   \n",
       "1       Animacy=Anim|Case=Nom|Gender=Masc|Number=Sing  flat:name     alice   \n",
       "2       Animacy=Inan|Case=Nom|Gender=Neut|Number=Plur       root     alice   \n",
       "3        Animacy=Anim|Case=Gen|Gender=Fem|Number=Sing       nmod     alice   \n",
       "4                                                 NaN       case     alice   \n",
       "...                                               ...        ...       ...   \n",
       "119543              Aspect=Imp|VerbForm=Inf|Voice=Act      xcomp  panorama   \n",
       "119544  Animacy=Inan|Case=Acc|Gender=Masc|Number=Sing        obj  panorama   \n",
       "119545    Case=Ins|Degree=Pos|Gender=Masc|Number=Sing       amod  panorama   \n",
       "119546  Animacy=Inan|Case=Ins|Gender=Masc|Number=Sing        obl  panorama   \n",
       "119547                                            NaN      punct  panorama   \n",
       "\n",
       "        text_index  head  \n",
       "0              NaN   NaN  \n",
       "1              NaN   NaN  \n",
       "2              NaN   NaN  \n",
       "3              NaN   NaN  \n",
       "4              NaN   NaN  \n",
       "...            ...   ...  \n",
       "119543       624.0  14.0  \n",
       "119544       624.0  15.0  \n",
       "119545       624.0  18.0  \n",
       "119546       624.0  15.0  \n",
       "119547       624.0   3.0  \n",
       "\n",
       "[160230 rows x 9 columns]"
      ]
     },
     "execution_count": 6,
     "metadata": {},
     "output_type": "execute_result"
    }
   ],
   "source": [
    "#Соединяем две таблички\n",
    "joint_corpus = pd.concat([alice, panorama])\n",
    "joint_corpus"
   ]
  },
  {
   "cell_type": "code",
   "execution_count": 17,
   "metadata": {},
   "outputs": [
    {
     "data": {
      "text/html": [
       "<div>\n",
       "<style scoped>\n",
       "    .dataframe tbody tr th:only-of-type {\n",
       "        vertical-align: middle;\n",
       "    }\n",
       "\n",
       "    .dataframe tbody tr th {\n",
       "        vertical-align: top;\n",
       "    }\n",
       "\n",
       "    .dataframe thead th {\n",
       "        text-align: right;\n",
       "    }\n",
       "</style>\n",
       "<table border=\"1\" class=\"dataframe\">\n",
       "  <thead>\n",
       "    <tr style=\"text-align: right;\">\n",
       "      <th>source</th>\n",
       "      <th>alice</th>\n",
       "      <th>panorama</th>\n",
       "    </tr>\n",
       "    <tr>\n",
       "      <th>lemma</th>\n",
       "      <th></th>\n",
       "      <th></th>\n",
       "    </tr>\n",
       "  </thead>\n",
       "  <tbody>\n",
       "    <tr>\n",
       "      <th>новый</th>\n",
       "      <td>9</td>\n",
       "      <td>295</td>\n",
       "    </tr>\n",
       "    <tr>\n",
       "      <th>старый</th>\n",
       "      <td>11</td>\n",
       "      <td>25</td>\n",
       "    </tr>\n",
       "  </tbody>\n",
       "</table>\n",
       "</div>"
      ],
      "text/plain": [
       "source  alice  panorama\n",
       "lemma                  \n",
       "новый       9       295\n",
       "старый     11        25"
      ]
     },
     "execution_count": 17,
     "metadata": {},
     "output_type": "execute_result"
    }
   ],
   "source": [
    "#Фильтруем нужные слова, аггрегируем данные, делаем табличку\n",
    "\n",
    "joint_corpus_old_new = joint_corpus[joint_corpus['lemma'].isin(['старый', 'новый'])]\n",
    "contingency_table = pd.crosstab(joint_corpus_old_new['lemma'], joint_corpus_old_new['source'])\n",
    "contingency_table"
   ]
  },
  {
   "cell_type": "code",
   "execution_count": 37,
   "metadata": {},
   "outputs": [
    {
     "data": {
      "text/plain": [
       "Chi2ContingencyResult(statistic=np.float64(39.42871093750001), pvalue=np.float64(3.4025714345892356e-10), dof=1, expected_freq=array([[ 17.88235294, 286.11764706],\n",
       "       [  2.11764706,  33.88235294]]))"
      ]
     },
     "execution_count": 37,
     "metadata": {},
     "output_type": "execute_result"
    }
   ],
   "source": [
    "#Применяем хи-квадрат\n",
    "\n",
    "stats.chi2_contingency(contingency_table)"
   ]
  },
  {
   "cell_type": "markdown",
   "metadata": {
    "id": "8HFgkG5snwW2"
   },
   "source": [
    "При этом совсем не обязательно использовать языки программирования, чтобы посчитать тесты: можно просто зайти на сайт, выбрать тест, ввести данные и получить результаты.\n",
    "\n",
    "Опасность состоит в том, что некоторые сайты считают с ошибками. Но вот, например, есть [такой](http://vassarstats.net/). Хи-квадрат там находится во вкладке Clinical Research Calculators и, возможно, устроен сложновато. Если не нравится — можете выбрать понравившийся вам сайт из интернета. Вот [ещё](https://www.socscistatistics.com/) сайт, там дизайн менее затейлевый и есть ограничение по количеству вводимых данных, но пользоваться попроще."
   ]
  },
  {
   "cell_type": "markdown",
   "metadata": {
    "id": "K3zeXGXRp1t_"
   },
   "source": [
    "# Задание 1\n",
    "\n",
    "Посчитайте наконец, значимо ли Толстой пишет длиннее, чем Чехов!\n",
    "\n",
    "https://raw.githubusercontent.com/alekseyst/text_analysis_2024/main/Practical_8/author.csv"
   ]
  },
  {
   "cell_type": "markdown",
   "metadata": {
    "id": "PBUxFqnFvDmf"
   },
   "source": [
    "# Задание 2\n",
    "\n",
    "Известно, что слово *друг* в милионном простом корпусе встретилось 193 раз, а в газетном — 447 раз; слово *враг* — 36 и 46 раз соответственно. Есть ли различия в употреблении на уровне значимости 0.01? 0.05? Как интерпретировать эти различия?\n",
    "\n",
    "\n"
   ]
  },
  {
   "cell_type": "markdown",
   "metadata": {
    "id": "ff8PENsLvD6Q"
   },
   "source": [
    "# Задание 3\n",
    "\n",
    "Вы проводили социологический среди программистов и лингвистов, прося оценить от 1 до 5 удовлетворённость зарплатой, и получили следующие ответы:\n",
    "\n",
    "Программисты: 5, 4, 5, 5, 5, 3, 3, 3, 5, 3, 3, 3, 5, 3, 5, 5, 5, 5, 4, 5, 5, 5, 5, 5, 4, 4, 5, 5, 5\n",
    "\n",
    "Лингвисты: 1, 5, 3, 3, 5, 5, 2, 5, 4, 4, 2, 2, 3, 2, 3, 2, 3, 3, 2, 3, 5, 3, 5, 5, 5\n",
    "\n",
    "Правда ли, что ответы этих двух групп различаются? (Обратите внимание на то, как выглядят данные.)\n",
    "\n"
   ]
  },
  {
   "cell_type": "markdown",
   "metadata": {
    "id": "OELijjYLvEES"
   },
   "source": [
    "# Задание 4\n",
    "\n",
    "Известно, что четырёхглазые тушканчики с далёкой планеты по данным переписи в среднем в быстрой речи произносят 2.86 слога в секунду; стандартное отклонение 0.34.\n",
    "\n",
    "Тушканчики одной из стран, в соответствии с распространёнными на планете стереотипами, говорят гораздо медленнее, чем остальные (про это есть много анекдотов).\n",
    "\n",
    "45 разных тушканчиков этой страны были записаны и произнесли в секунду следующие количества слогов. Правда ли они говорят значимо медленнее, или это только стереотип?\n",
    "\n",
    "3, 2, 3, 3, 3, 3, 3, 3, 3, 3, 2, 3, 3, 3, 3, 3, 3, 3, 3, 3, 3, 3, 2, 3, 3, 3, 3, 2, 3, 3, 3, 3, 3, 3, 4, 3, 3, 3, 3, 3, 3, 3, 3, 3, 3"
   ]
  },
  {
   "cell_type": "markdown",
   "metadata": {
    "id": "2ByRkf3XvESn"
   },
   "source": [
    "# Задание 5\n",
    "\n",
    "Вы ведёте переписку с двумя людьми: один — ваш хороший знакомый Фёдор Михайлович, другой — тоже хороший знакомый Иван Петрович. Оба из них используют в письмах очень много обращений. В какой-то момент они пошли на литературные курсы, после которых Иван Петрович, по его утверждению, решил, что такое количество обращений — дурной вкус, А Федор Михайлович ничего не прокомментировал. Вы посчитали количество обращений до похода и после в письмах обоих друзей, чтобы определить, правда ли один из них всё тот же, а другой изменился.\n",
    "\n",
    "Количество обращений в письме Ф. М. после похода на курсы — 12, после — 11, у И. П. 14, после — 2."
   ]
  }
 ],
 "metadata": {
  "colab": {
   "provenance": []
  },
  "kernelspec": {
   "display_name": "Python 3 (ipykernel)",
   "language": "python",
   "name": "python3"
  },
  "language_info": {
   "codemirror_mode": {
    "name": "ipython",
    "version": 3
   },
   "file_extension": ".py",
   "mimetype": "text/x-python",
   "name": "python",
   "nbconvert_exporter": "python",
   "pygments_lexer": "ipython3",
   "version": "3.13.1"
  }
 },
 "nbformat": 4,
 "nbformat_minor": 4
}
