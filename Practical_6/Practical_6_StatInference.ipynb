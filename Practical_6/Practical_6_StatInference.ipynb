{
 "cells": [
  {
   "cell_type": "markdown",
   "metadata": {
    "id": "5s7KdBQNpX9q"
   },
   "source": [
    "# Применение статистических методов\n",
    "\n",
    "Этот семинар призван помочь освоиться на практике со статистическими методами, которые изучались на лекции. [Ссылка](https://colab.research.google.com/drive/1Lh8pfgZMH0gcaW3vP9DeQrXFRIhfwO7H?usp=sharing) на тетрадку.\n",
    "\n",
    "Вам будет дан ряд экспериментов — часть по реальным данным, часть по сгенерированным — и их результаты будет нужно необходимо статистически обработать.\n",
    "\n",
    "Применяя каждый критерий, проходите по всем стадиям статистического вывода:\n",
    "\n",
    "- сформулируйте нулевую и альтернативную гипотезы\n",
    "- выберите уровень значимости (p<0.05, p<0.01, p<0.001)\n",
    "- выберите тест на основании вида ваших данных\n",
    "- произведите вычисления\n",
    "- сделайте вывод о значимости различий\n",
    "- сделайте итоговый вывод из эксперимента\n",
    "\n",
    "Критерии, из которых следует выбирать в заданиях:\n",
    "\n",
    "- t-критерий\n",
    "  - одновыборочный\n",
    "  - двухвыборочный\n",
    "- U-критерий Манна-Уитни\n",
    "- критерий $\\chi^2$\n",
    "- критерий Фишера\n",
    "\n",
    "см. таблицу на предпоследнем слайде лекции, где обсуждается выбор критерия; ниже не встречается случаев, для которых нужен критерий Вилкоксона или биномиальный тест\n",
    "\n",
    "Дополнительно, в конкретном задании вам может быть нужно изменить форму данных: преобразовать вид таблички или скопировать числа из нужного места."
   ]
  },
  {
   "cell_type": "markdown",
   "metadata": {
    "id": "FYtHJ9TlhWUI"
   },
   "source": [
    "## Тесты из Питона\n",
    "\n",
    "Естественно, все перечисленные тесты можно запустить из Питона\n",
    "\n",
    "- ttest() из модуля researchpy (есть все варианты [теста](https://researchpy.readthedocs.io/en/latest/ttest_documentation.html))\n",
    "- chi2_contingency() модуля scipy.stats\n",
    "- mannwhitneyu() модуля scipy.stats\n",
    "\n",
    "и т. д.\n",
    "\n",
    "В целом они применяются несложно — код ниже. Обычно самое сложное — понять, в каком формате подавать им данные"
   ]
  },
  {
   "cell_type": "code",
   "execution_count": 1,
   "metadata": {
    "id": "dIHLXXQ2jCWH"
   },
   "outputs": [],
   "source": [
    "%%capture\n",
    "!pip install researchpy"
   ]
  },
  {
   "cell_type": "code",
   "execution_count": 2,
   "metadata": {
    "id": "8YlC0_r0k_R5"
   },
   "outputs": [],
   "source": [
    "import researchpy as rp\n",
    "import pandas as pd"
   ]
  },
  {
   "cell_type": "code",
   "execution_count": 11,
   "metadata": {
    "colab": {
     "base_uri": "https://localhost:8080/"
    },
    "id": "gsqwNfk1pOov",
    "outputId": "6c4061b4-d4cd-482f-abfd-01cf8620386c"
   },
   "outputs": [
    {
     "data": {
      "text/html": [
       "<div>\n",
       "<style scoped>\n",
       "    .dataframe tbody tr th:only-of-type {\n",
       "        vertical-align: middle;\n",
       "    }\n",
       "\n",
       "    .dataframe tbody tr th {\n",
       "        vertical-align: top;\n",
       "    }\n",
       "\n",
       "    .dataframe thead th {\n",
       "        text-align: right;\n",
       "    }\n",
       "</style>\n",
       "<table border=\"1\" class=\"dataframe\">\n",
       "  <thead>\n",
       "    <tr style=\"text-align: right;\">\n",
       "      <th></th>\n",
       "      <th>sample_one</th>\n",
       "      <th>sample_two</th>\n",
       "    </tr>\n",
       "  </thead>\n",
       "  <tbody>\n",
       "    <tr>\n",
       "      <th>0</th>\n",
       "      <td>174.0</td>\n",
       "      <td>182.0</td>\n",
       "    </tr>\n",
       "    <tr>\n",
       "      <th>1</th>\n",
       "      <td>171.0</td>\n",
       "      <td>171.0</td>\n",
       "    </tr>\n",
       "    <tr>\n",
       "      <th>2</th>\n",
       "      <td>195.0</td>\n",
       "      <td>162.0</td>\n",
       "    </tr>\n",
       "    <tr>\n",
       "      <th>3</th>\n",
       "      <td>162.0</td>\n",
       "      <td>175.0</td>\n",
       "    </tr>\n",
       "    <tr>\n",
       "      <th>4</th>\n",
       "      <td>179.0</td>\n",
       "      <td>142.0</td>\n",
       "    </tr>\n",
       "    <tr>\n",
       "      <th>5</th>\n",
       "      <td>178.0</td>\n",
       "      <td>166.0</td>\n",
       "    </tr>\n",
       "    <tr>\n",
       "      <th>6</th>\n",
       "      <td>181.0</td>\n",
       "      <td>161.0</td>\n",
       "    </tr>\n",
       "    <tr>\n",
       "      <th>7</th>\n",
       "      <td>173.0</td>\n",
       "      <td>169.0</td>\n",
       "    </tr>\n",
       "    <tr>\n",
       "      <th>8</th>\n",
       "      <td>169.0</td>\n",
       "      <td>158.0</td>\n",
       "    </tr>\n",
       "    <tr>\n",
       "      <th>9</th>\n",
       "      <td>191.0</td>\n",
       "      <td>182.0</td>\n",
       "    </tr>\n",
       "  </tbody>\n",
       "</table>\n",
       "</div>"
      ],
      "text/plain": [
       "   sample_one  sample_two\n",
       "0       174.0       182.0\n",
       "1       171.0       171.0\n",
       "2       195.0       162.0\n",
       "3       162.0       175.0\n",
       "4       179.0       142.0\n",
       "5       178.0       166.0\n",
       "6       181.0       161.0\n",
       "7       173.0       169.0\n",
       "8       169.0       158.0\n",
       "9       191.0       182.0"
      ]
     },
     "execution_count": 11,
     "metadata": {},
     "output_type": "execute_result"
    }
   ],
   "source": [
    "#Берём датасет с двумя числовыми переменными (рост в двух популяциях из презентации),\n",
    "#чтобы использовать t-критерий\n",
    "samples = pd.read_csv('https://raw.githubusercontent.com/alekseyst/text_analysis_2024/main/Practical_8/sample_ttest.csv')\n",
    "samples.head(10)"
   ]
  },
  {
   "cell_type": "code",
   "execution_count": 16,
   "metadata": {},
   "outputs": [
    {
     "name": "stderr",
     "output_type": "stream",
     "text": [
      "/home/aleksey/Programming/venv/lib/python3.13/site-packages/researchpy/ttest.py:301: FutureWarning: Setting an item of incompatible dtype is deprecated and will raise an error in a future version of pandas. Value 'sample_one' has dtype incompatible with float64, please explicitly cast to a compatible dtype first.\n",
      "  table.iloc[0,0] = group1_name\n",
      "/home/aleksey/Programming/venv/lib/python3.13/site-packages/researchpy/ttest.py:460: FutureWarning: Setting an item of incompatible dtype is deprecated and will raise an error in a future version of pandas. Value 'Difference (sample_one - sample_two) = ' has dtype incompatible with float64, please explicitly cast to a compatible dtype first.\n",
      "  table2.iloc[0,0] = f\"Difference ({group1_name} - {group2_name}) = \"\n"
     ]
    },
    {
     "data": {
      "text/plain": [
       "(     Variable     N        Mean         SD        SE   95% Conf.    Interval\n",
       " 0  sample_one  21.0  174.428571  11.382317  2.483825  169.247403  179.609740\n",
       " 1  sample_two  21.0  165.047619   9.957290  2.172859  160.515115  169.580123\n",
       " 2    combined  42.0  169.738095  11.580175  1.786860  166.129459  173.346732,\n",
       "                       Satterthwaite t-test  results\n",
       " 0  Difference (sample_one - sample_two) =    9.3810\n",
       " 1                    Degrees of freedom =   39.3051\n",
       " 2                                     t =    2.8426\n",
       " 3                 Two side test p value =    0.0071\n",
       " 4                Difference < 0 p value =    0.9965\n",
       " 5                Difference > 0 p value =    0.0035\n",
       " 6                             Cohen's d =    0.8773\n",
       " 7                             Hedge's g =    0.8607\n",
       " 8                        Glass's delta1 =    0.8242\n",
       " 9                      Point-Biserial r =    0.4129)"
      ]
     },
     "execution_count": 16,
     "metadata": {},
     "output_type": "execute_result"
    }
   ],
   "source": [
    "#Запускаем t-критерий\n",
    "rp.ttest(samples['sample_one'], samples['sample_two'], equal_variances = False)"
   ]
  },
  {
   "cell_type": "markdown",
   "metadata": {},
   "source": [
    "## Источник данных\n",
    "\n",
    "Данные для вычисления статистических тестов можно подготовить внутри Питона: библиотеки для вычисления тестов хорошо совместимы с pandas."
   ]
  },
  {
   "cell_type": "code",
   "execution_count": 23,
   "metadata": {},
   "outputs": [],
   "source": [
    "#Скачиваем датасеты и добавляем столбец, который говорит, из какого датасета слово\n",
    "alice = pd.read_csv('https://raw.githubusercontent.com/alekseyst/text_analysis_2025/main/Practical_4/alice_corpus_words.tsv', sep='\\t')\n",
    "alice['source'] = 'alice'\n",
    "\n",
    "panorama = pd.read_csv('https://raw.githubusercontent.com/alekseyst/text_analysis_2025/main/Practical_4/panorama_corpus_words.tsv', sep='\\t')\n",
    "panorama['source'] = 'panorama'"
   ]
  },
  {
   "cell_type": "code",
   "execution_count": 24,
   "metadata": {},
   "outputs": [
    {
     "data": {
      "text/html": [
       "<div>\n",
       "<style scoped>\n",
       "    .dataframe tbody tr th:only-of-type {\n",
       "        vertical-align: middle;\n",
       "    }\n",
       "\n",
       "    .dataframe tbody tr th {\n",
       "        vertical-align: top;\n",
       "    }\n",
       "\n",
       "    .dataframe thead th {\n",
       "        text-align: right;\n",
       "    }\n",
       "</style>\n",
       "<table border=\"1\" class=\"dataframe\">\n",
       "  <thead>\n",
       "    <tr style=\"text-align: right;\">\n",
       "      <th></th>\n",
       "      <th>index</th>\n",
       "      <th>word</th>\n",
       "      <th>lemma</th>\n",
       "      <th>pos</th>\n",
       "      <th>feats</th>\n",
       "      <th>synt</th>\n",
       "      <th>source</th>\n",
       "      <th>text_index</th>\n",
       "      <th>head</th>\n",
       "    </tr>\n",
       "  </thead>\n",
       "  <tbody>\n",
       "    <tr>\n",
       "      <th>0</th>\n",
       "      <td>0</td>\n",
       "      <td>Льюис</td>\n",
       "      <td>Льюис</td>\n",
       "      <td>PROPN</td>\n",
       "      <td>Animacy=Anim|Case=Nom|Gender=Masc|Number=Sing</td>\n",
       "      <td>root</td>\n",
       "      <td>alice</td>\n",
       "      <td>NaN</td>\n",
       "      <td>NaN</td>\n",
       "    </tr>\n",
       "    <tr>\n",
       "      <th>1</th>\n",
       "      <td>1</td>\n",
       "      <td>Кэрролл</td>\n",
       "      <td>Кэрролл</td>\n",
       "      <td>PROPN</td>\n",
       "      <td>Animacy=Anim|Case=Nom|Gender=Masc|Number=Sing</td>\n",
       "      <td>flat:name</td>\n",
       "      <td>alice</td>\n",
       "      <td>NaN</td>\n",
       "      <td>NaN</td>\n",
       "    </tr>\n",
       "    <tr>\n",
       "      <th>2</th>\n",
       "      <td>2</td>\n",
       "      <td>Приключения</td>\n",
       "      <td>приключение</td>\n",
       "      <td>NOUN</td>\n",
       "      <td>Animacy=Inan|Case=Nom|Gender=Neut|Number=Plur</td>\n",
       "      <td>root</td>\n",
       "      <td>alice</td>\n",
       "      <td>NaN</td>\n",
       "      <td>NaN</td>\n",
       "    </tr>\n",
       "    <tr>\n",
       "      <th>3</th>\n",
       "      <td>3</td>\n",
       "      <td>Алисы</td>\n",
       "      <td>Алиса</td>\n",
       "      <td>PROPN</td>\n",
       "      <td>Animacy=Anim|Case=Gen|Gender=Fem|Number=Sing</td>\n",
       "      <td>nmod</td>\n",
       "      <td>alice</td>\n",
       "      <td>NaN</td>\n",
       "      <td>NaN</td>\n",
       "    </tr>\n",
       "    <tr>\n",
       "      <th>4</th>\n",
       "      <td>4</td>\n",
       "      <td>в</td>\n",
       "      <td>в</td>\n",
       "      <td>ADP</td>\n",
       "      <td>NaN</td>\n",
       "      <td>case</td>\n",
       "      <td>alice</td>\n",
       "      <td>NaN</td>\n",
       "      <td>NaN</td>\n",
       "    </tr>\n",
       "    <tr>\n",
       "      <th>...</th>\n",
       "      <td>...</td>\n",
       "      <td>...</td>\n",
       "      <td>...</td>\n",
       "      <td>...</td>\n",
       "      <td>...</td>\n",
       "      <td>...</td>\n",
       "      <td>...</td>\n",
       "      <td>...</td>\n",
       "      <td>...</td>\n",
       "    </tr>\n",
       "    <tr>\n",
       "      <th>9459</th>\n",
       "      <td>145</td>\n",
       "      <td>организацией</td>\n",
       "      <td>организация</td>\n",
       "      <td>NOUN</td>\n",
       "      <td>Animacy=Inan|Case=Ins|Gender=Fem|Number=Sing</td>\n",
       "      <td>obl</td>\n",
       "      <td>panorama</td>\n",
       "      <td>49.0</td>\n",
       "      <td>4.0</td>\n",
       "    </tr>\n",
       "    <tr>\n",
       "      <th>9460</th>\n",
       "      <td>146</td>\n",
       "      <td>,</td>\n",
       "      <td>,</td>\n",
       "      <td>PUNCT</td>\n",
       "      <td>NaN</td>\n",
       "      <td>punct</td>\n",
       "      <td>panorama</td>\n",
       "      <td>49.0</td>\n",
       "      <td>4.0</td>\n",
       "    </tr>\n",
       "    <tr>\n",
       "      <th>9461</th>\n",
       "      <td>147</td>\n",
       "      <td>ещё</td>\n",
       "      <td>еще</td>\n",
       "      <td>ADV</td>\n",
       "      <td>Degree=Pos</td>\n",
       "      <td>advmod</td>\n",
       "      <td>panorama</td>\n",
       "      <td>49.0</td>\n",
       "      <td>8.0</td>\n",
       "    </tr>\n",
       "    <tr>\n",
       "      <th>9462</th>\n",
       "      <td>148</td>\n",
       "      <td>оценивается</td>\n",
       "      <td>оценивать</td>\n",
       "      <td>VERB</td>\n",
       "      <td>Aspect=Imp|Mood=Ind|Number=Sing|Person=3|Tense...</td>\n",
       "      <td>root</td>\n",
       "      <td>panorama</td>\n",
       "      <td>49.0</td>\n",
       "      <td>0.0</td>\n",
       "    </tr>\n",
       "    <tr>\n",
       "      <th>9463</th>\n",
       "      <td>149</td>\n",
       "      <td>.</td>\n",
       "      <td>.</td>\n",
       "      <td>PUNCT</td>\n",
       "      <td>NaN</td>\n",
       "      <td>punct</td>\n",
       "      <td>panorama</td>\n",
       "      <td>49.0</td>\n",
       "      <td>8.0</td>\n",
       "    </tr>\n",
       "  </tbody>\n",
       "</table>\n",
       "<p>50146 rows × 9 columns</p>\n",
       "</div>"
      ],
      "text/plain": [
       "      index          word        lemma    pos  \\\n",
       "0         0         Льюис        Льюис  PROPN   \n",
       "1         1       Кэрролл      Кэрролл  PROPN   \n",
       "2         2   Приключения  приключение   NOUN   \n",
       "3         3         Алисы        Алиса  PROPN   \n",
       "4         4             в            в    ADP   \n",
       "...     ...           ...          ...    ...   \n",
       "9459    145  организацией  организация   NOUN   \n",
       "9460    146             ,            ,  PUNCT   \n",
       "9461    147           ещё          еще    ADV   \n",
       "9462    148   оценивается    оценивать   VERB   \n",
       "9463    149             .            .  PUNCT   \n",
       "\n",
       "                                                  feats       synt    source  \\\n",
       "0         Animacy=Anim|Case=Nom|Gender=Masc|Number=Sing       root     alice   \n",
       "1         Animacy=Anim|Case=Nom|Gender=Masc|Number=Sing  flat:name     alice   \n",
       "2         Animacy=Inan|Case=Nom|Gender=Neut|Number=Plur       root     alice   \n",
       "3          Animacy=Anim|Case=Gen|Gender=Fem|Number=Sing       nmod     alice   \n",
       "4                                                   NaN       case     alice   \n",
       "...                                                 ...        ...       ...   \n",
       "9459       Animacy=Inan|Case=Ins|Gender=Fem|Number=Sing        obl  panorama   \n",
       "9460                                                NaN      punct  panorama   \n",
       "9461                                         Degree=Pos     advmod  panorama   \n",
       "9462  Aspect=Imp|Mood=Ind|Number=Sing|Person=3|Tense...       root  panorama   \n",
       "9463                                                NaN      punct  panorama   \n",
       "\n",
       "      text_index  head  \n",
       "0            NaN   NaN  \n",
       "1            NaN   NaN  \n",
       "2            NaN   NaN  \n",
       "3            NaN   NaN  \n",
       "4            NaN   NaN  \n",
       "...          ...   ...  \n",
       "9459        49.0   4.0  \n",
       "9460        49.0   4.0  \n",
       "9461        49.0   8.0  \n",
       "9462        49.0   0.0  \n",
       "9463        49.0   8.0  \n",
       "\n",
       "[50146 rows x 9 columns]"
      ]
     },
     "execution_count": 24,
     "metadata": {},
     "output_type": "execute_result"
    }
   ],
   "source": [
    "#Соединяем две таблички\n",
    "joint_corpus = pd.concat([alice, panorama])\n",
    "joint_corpus"
   ]
  },
  {
   "cell_type": "code",
   "execution_count": null,
   "metadata": {},
   "outputs": [],
   "source": [
    "#Аггрегируем данные, делаем таблички\n",
    "\n"
   ]
  },
  {
   "cell_type": "markdown",
   "metadata": {
    "id": "8HFgkG5snwW2"
   },
   "source": [
    "При этом совсем не обязательно использовать языки программирования, чтобы посчитать тесты: можно просто зайти на сайт, выбрать тест, ввести данные и получить результаты.\n",
    "\n",
    "Опасность состоит в том, что некоторые сайты считают с ошибками. Но вот, например, есть [такой](http://vassarstats.net/). Хи-квадрат там находится во вкладке Clinical Research Calculators и, возможно, устроен сложновато. Если не нравится — можете выбрать понравившийся вам сайт из интернета. Вот [ещё](https://www.socscistatistics.com/) сайт, там дизайн менее затейлевый и есть ограничение по количеству вводимых данных, но пользоваться попроще."
   ]
  },
  {
   "cell_type": "markdown",
   "metadata": {
    "id": "K3zeXGXRp1t_"
   },
   "source": [
    "# Задание 1\n",
    "\n",
    "Посчитайте наконец, значимо ли Толстой пишет длиннее, чем Чехов!\n",
    "\n",
    "https://raw.githubusercontent.com/alekseyst/text_analysis_2024/main/Practical_8/author.csv"
   ]
  },
  {
   "cell_type": "markdown",
   "metadata": {
    "id": "PBUxFqnFvDmf"
   },
   "source": [
    "# Задание 2\n",
    "\n",
    "Известно, что слово *друг* в милионном простом корпусе встретилось 193 раз, а в газетном — 447 раз; слово *враг* — 36 и 46 раз соответственно. Есть ли различия в употреблении на уровне значимости 0.01? 0.05? Как интерпретировать эти различия?\n",
    "\n",
    "\n"
   ]
  },
  {
   "cell_type": "markdown",
   "metadata": {
    "id": "ff8PENsLvD6Q"
   },
   "source": [
    "# Задание 3\n",
    "\n",
    "Вы проводили социологический среди программистов и лингвистов, прося оценить от 1 до 5 удовлетворённость зарплатой, и получили следующие ответы:\n",
    "\n",
    "Программисты: 5, 4, 5, 5, 5, 3, 3, 3, 5, 3, 3, 3, 5, 3, 5, 5, 5, 5, 4, 5, 5, 5, 5, 5, 4, 4, 5, 5, 5\n",
    "\n",
    "Лингвисты: 1, 5, 3, 3, 5, 5, 2, 5, 4, 4, 2, 2, 3, 2, 3, 2, 3, 3, 2, 3, 5, 3, 5, 5, 5\n",
    "\n",
    "Правда ли, что ответы этих двух групп различаются? (Обратите внимание на то, как выглядят данные.)\n",
    "\n"
   ]
  },
  {
   "cell_type": "markdown",
   "metadata": {
    "id": "OELijjYLvEES"
   },
   "source": [
    "# Задание 4\n",
    "\n",
    "Известно, что четырёхглазые тушканчики с далёкой планеты по данным переписи в среднем в быстрой речи произносят 2.86 слога в секунду; стандартное отклонение 0.34.\n",
    "\n",
    "Тушканчики одной из стран, в соответствии с распространёнными на планете стереотипами, говорят гораздо медленнее, чем остальные (про это есть много анекдотов).\n",
    "\n",
    "45 разных тушканчиков этой страны были записаны и произнесли в секунду следующие количества слогов. Правда ли они говорят значимо медленнее, или это только стереотип?\n",
    "\n",
    "3, 2, 3, 3, 3, 3, 3, 3, 3, 3, 2, 3, 3, 3, 3, 3, 3, 3, 3, 3, 3, 3, 2, 3, 3, 3, 3, 2, 3, 3, 3, 3, 3, 3, 4, 3, 3, 3, 3, 3, 3, 3, 3, 3, 3"
   ]
  },
  {
   "cell_type": "markdown",
   "metadata": {
    "id": "2ByRkf3XvESn"
   },
   "source": [
    "# Задание 5\n",
    "\n",
    "Вы ведёте переписку с двумя людьми: один — ваш хороший знакомый Фёдор Михайлович, другой — тоже хороший знакомый Иван Петрович. Оба из них используют в письмах очень много обращений. В какой-то момент они пошли на литературные курсы, после которых Иван Петрович, по его утверждению, решил, что такое количество обращений — дурной вкус, А Федор Михайлович ничего не прокомментировал. Вы посчитали количество обращений до похода и после в письмах обоих друзей, чтобы определить, правда ли один из них всё тот же, а другой изменился.\n",
    "\n",
    "Количество обращений в письме Ф. М. после похода на курсы — 12, после — 11, у И. П. 14, после — 2."
   ]
  }
 ],
 "metadata": {
  "colab": {
   "provenance": []
  },
  "kernelspec": {
   "display_name": "Python 3 (ipykernel)",
   "language": "python",
   "name": "python3"
  },
  "language_info": {
   "codemirror_mode": {
    "name": "ipython",
    "version": 3
   },
   "file_extension": ".py",
   "mimetype": "text/x-python",
   "name": "python",
   "nbconvert_exporter": "python",
   "pygments_lexer": "ipython3",
   "version": "3.13.1"
  }
 },
 "nbformat": 4,
 "nbformat_minor": 4
}
