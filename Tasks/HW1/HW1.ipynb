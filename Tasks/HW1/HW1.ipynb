{
 "cells": [
  {
   "cell_type": "markdown",
   "id": "fccfe091-56e8-4f44-9992-037a28637b7e",
   "metadata": {},
   "source": [
    "# Домашнее задание №1\n",
    "\n",
    "Задание следует выполнять в этой [тетрадке](), скопировав или скачав её к себе. Сдавайте задание в эту [форму](). Дедлайн — 25 февраля, 23.59. Задание можно сдать с задержкой, однако каждые 3 дня итоговая оценка понижается на 1 балл."
   ]
  },
  {
   "cell_type": "markdown",
   "id": "2158ddcf-43c3-4472-9f51-ef3c1f6dfeb6",
   "metadata": {},
   "source": [
    "## Задание 1: Базовый Python\n",
    "\n",
    "В бонусном разделе занятия по знакомству с Python'ом предлагался короткая [реализация](https://colab.research.google.com/drive/1NUUFBZP3vcmFO405p6J4p46rO9aEalT6#scrollTo=vDMwAOIRTs9P) создания частотного списка для произвольного текста. Как вы, возможно, помните, одна из проблем состояла в том, что среди наиболее частотных оказывались или знаки пунктуации, или слова, которые важны для языка (местоимения, частицы, предлоги), но ничего не говорят конкретно об этом тексте. Один из способов решить эту проблему — удалить подобные служебные слова (стоп-слова) из списка рассматриваемых слов.\n",
    "\n",
    "Модуль nltk предлагает списки стоп-слов для некоторых языков, в том числе для русского. Также можно использовать готовый список, чтобы устранить пунктуационные знаки. Ниже приводится фрагмент кода, в котором в переменную записываются стоп-слова и пунктуация. "
   ]
  },
  {
   "cell_type": "code",
   "execution_count": null,
   "id": "22b4efc4-6ad3-46ab-b686-c25cde54088f",
   "metadata": {},
   "outputs": [],
   "source": [
    "!pip install nltk\n",
    "import nltk\n",
    "import string\n",
    "nltk.download('stopwords')\n",
    "\n",
    "nltk_stopwords = nltk.corpus.stopwords.words('russian')\n",
    "punctuation = string.punctuation"
   ]
  },
  {
   "cell_type": "markdown",
   "id": "9b879e5f-cbc3-444a-aadf-6419512a68f5",
   "metadata": {},
   "source": [
    "Сделайте частотный список слов для романа"
   ]
  },
  {
   "cell_type": "code",
   "execution_count": null,
   "id": "9f215f84-56f2-4bdf-902d-cc698ba703c8",
   "metadata": {},
   "outputs": [],
   "source": [
    "#Скачиваем текст\n",
    "\n"
   ]
  },
  {
   "cell_type": "code",
   "execution_count": null,
   "id": "cda54ea9-2069-4c81-8709-f3d353851cf3",
   "metadata": {},
   "outputs": [],
   "source": [
    "#Впишите свой код; если потребуется, используйте больше ячеек\n",
    "\n"
   ]
  },
  {
   "cell_type": "markdown",
   "id": "f5cbc6d1-5612-478d-866f-43c28c1439d1",
   "metadata": {},
   "source": [
    "## Задание 2: Работа с разметкой\n",
    "\n"
   ]
  },
  {
   "cell_type": "code",
   "execution_count": null,
   "id": "3801e194-965f-45f4-9cb4-14b01231498c",
   "metadata": {},
   "outputs": [],
   "source": [
    "#Впишите свой код; если потребуется, используйте больше ячеек\n",
    "\n"
   ]
  },
  {
   "cell_type": "markdown",
   "id": "cf9e279e-3208-457c-8152-54b69e4ad7f0",
   "metadata": {},
   "source": [
    "## Задание 3: Работа с таблицами"
   ]
  },
  {
   "cell_type": "code",
   "execution_count": null,
   "id": "3725beec-c9db-469f-8c7a-78bf2065d84b",
   "metadata": {},
   "outputs": [],
   "source": [
    "#Впишите свой код; если потребуется, используйте больше ячеек\n",
    "\n"
   ]
  }
 ],
 "metadata": {
  "kernelspec": {
   "display_name": "Python 3 (ipykernel)",
   "language": "python",
   "name": "python3"
  },
  "language_info": {
   "codemirror_mode": {
    "name": "ipython",
    "version": 3
   },
   "file_extension": ".py",
   "mimetype": "text/x-python",
   "name": "python",
   "nbconvert_exporter": "python",
   "pygments_lexer": "ipython3",
   "version": "3.13.1"
  }
 },
 "nbformat": 4,
 "nbformat_minor": 5
}
