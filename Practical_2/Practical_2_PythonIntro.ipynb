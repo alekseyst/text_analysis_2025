{
 "cells": [
  {
   "cell_type": "markdown",
   "metadata": {
    "id": "JJLAEQoeRjCu"
   },
   "source": [
    "# Что умеет Питон?\n",
    "\n",
    "## Если коротко\n",
    "\n",
    "- быстро и много работать\n",
    "- но если ему чётко сказать как\n",
    "- вы говорите с ним на особом языке, который похож на английский, но с кучей условностей\n",
    "- это нужно, чтобы вас лучше понимали — но чтобы понимать самим, что происходит, нужно разобраться..."
   ]
  },
  {
   "cell_type": "markdown",
   "metadata": {
    "id": "qPlzHnLusQe9"
   },
   "source": [
    "## Дополнительные соображения, польза которых может стать понятнее позже\n",
    "\n",
    "- всё можно и нужно проверять руками\n",
    "- умение гуглить может пригодиться больше чем знание, как сделать разные вещи в Питоне\n",
    "- если нужно решить задачу, которая поставлена в достаточно общем виде, разбейте её на небольшие пункты, про которые вы понимаете, как их сделать (или понимаете, как загуглить, как их сделать); выстройте пункты в нужном порядке и получите результат\n",
    "- проверяйте, что код работает, в процессе написания"
   ]
  },
  {
   "cell_type": "markdown",
   "metadata": {
    "id": "vOQdkp3-RsFY"
   },
   "source": [
    "## А где мы сейчас?\n",
    "\n",
    "- [перейдите по ссылке](https://colab.research.google.com/)\n",
    "- это Google Colab — онлайн реализация [Jupyter Notebook](https://jupyter.org/)\n",
    "- здесь можно сделать текстовую ячейку с помощью [Markdown](https://www.markdownguide.org/cheat-sheet/)\n",
    "- или ячейку с кодом (они ниже)\n",
    "- в каждой ячейке код выполняется отдельно и в конце выводится результат\n",
    "- [ссылка на эту тетрадку](https://colab.research.google.com/drive/1NUUFBZP3vcmFO405p6J4p46rO9aEalT6?usp=sharing) — её можно скопировать к себе и выполнять задания прямо в ней\n",
    "\n",
    "Удобные горячие клавиши:\n",
    "\n",
    "- Ctrl + Enter: выполнить ячейку\n",
    "- Shift + Enter: перейти на следующую ячейку"
   ]
  },
  {
   "cell_type": "markdown",
   "metadata": {
    "id": "y1Qkj8VXTJ8E"
   },
   "source": [
    "## Перейдём к делу!\n"
   ]
  },
  {
   "cell_type": "code",
   "execution_count": null,
   "metadata": {
    "id": "-kg8ygXsRgwx"
   },
   "outputs": [],
   "source": [
    "#Это комментарий — он начинается с решётки и ничего не делает\n",
    "#Зато комментариями можно писать пояснения"
   ]
  },
  {
   "cell_type": "markdown",
   "metadata": {
    "id": "ZNIzpRG0TeTv"
   },
   "source": [
    "### Питон можно использовать как калькулятор\n",
    "\n",
    "Из неочевидного (и не очень-то пригодится):\n",
    "\n",
    "- \\* — умножение\n",
    "- / — деление\n",
    "- ** — возведение в степень\n",
    "- // — деление без остатка\n",
    "- % — остаток от деления\n",
    "\n",
    "Чтобы запустить ячейку нажмите на треугольник или Ctrl-Enter"
   ]
  },
  {
   "cell_type": "code",
   "execution_count": null,
   "metadata": {
    "colab": {
     "base_uri": "https://localhost:8080/"
    },
    "id": "fLG7Bd5eTZvH",
    "outputId": "50c601fa-a7a7-4184-fc34-28464d26a44c"
   },
   "outputs": [
    {
     "data": {
      "text/plain": [
       "8"
      ]
     },
     "execution_count": 2,
     "metadata": {},
     "output_type": "execute_result"
    }
   ],
   "source": [
    "3 + 5"
   ]
  },
  {
   "cell_type": "code",
   "execution_count": null,
   "metadata": {
    "colab": {
     "base_uri": "https://localhost:8080/"
    },
    "id": "w_H0a6jnT1LL",
    "outputId": "2d489ef1-8af9-4a5c-b036-ffe2c512e3af"
   },
   "outputs": [
    {
     "data": {
      "text/plain": [
       "3200"
      ]
     },
     "execution_count": 3,
     "metadata": {},
     "output_type": "execute_result"
    }
   ],
   "source": [
    "8 * 400"
   ]
  },
  {
   "cell_type": "code",
   "execution_count": null,
   "metadata": {
    "colab": {
     "base_uri": "https://localhost:8080/"
    },
    "id": "m0fAPGiOT3qZ",
    "outputId": "64fc7ba8-dc4c-440b-fc39-d009ae11a095"
   },
   "outputs": [
    {
     "data": {
      "text/plain": [
       "12.5"
      ]
     },
     "execution_count": 5,
     "metadata": {},
     "output_type": "execute_result"
    }
   ],
   "source": [
    "(5 ** 2) / 2"
   ]
  },
  {
   "cell_type": "code",
   "execution_count": null,
   "metadata": {
    "colab": {
     "base_uri": "https://localhost:8080/"
    },
    "id": "KO2lrKJcUBfA",
    "outputId": "d422b014-4baf-4a29-ce53-3abe64bb683c"
   },
   "outputs": [
    {
     "data": {
      "text/plain": [
       "1950"
      ]
     },
     "execution_count": 7,
     "metadata": {},
     "output_type": "execute_result"
    }
   ],
   "source": [
    "25 // 2"
   ]
  },
  {
   "cell_type": "markdown",
   "metadata": {
    "id": "8EY48cBHkhZb"
   },
   "source": [
    "### Немного про приоритет\n",
    "\n",
    "В школьной математике есть понятие «приоритет операции». Приоритет определяет, в какой последовательности должны выполняться операции. Умножение и деление имеют больший приоритет, чем сложение и вычитание, а приоритет возведения в степень выше всех остальных арифметических операций. Например: 2 ** 3 * 2 вычислится в 16."
   ]
  },
  {
   "cell_type": "code",
   "execution_count": null,
   "metadata": {
    "colab": {
     "base_uri": "https://localhost:8080/"
    },
    "id": "qLuWzuVQsQfB",
    "outputId": "cfc3e68f-d8ac-4c63-9f0e-4f4563317b93"
   },
   "outputs": [
    {
     "name": "stdout",
     "output_type": "stream",
     "text": [
      "9\n",
      "14.0\n"
     ]
    }
   ],
   "source": [
    "print(3 ** (4 - 2))  # => 9\n",
    "print(7 * 3 + (4 / 2) - (8 + (2 - 1)))  # => 14"
   ]
  },
  {
   "cell_type": "markdown",
   "metadata": {
    "id": "_uwTuzzPsQfB"
   },
   "source": [
    "#### Задание 1.1\n",
    "\n",
    "Посчитайте с помощью Питона результат выражения $5 + 8 + 73$"
   ]
  },
  {
   "cell_type": "code",
   "execution_count": null,
   "metadata": {
    "colab": {
     "base_uri": "https://localhost:8080/"
    },
    "id": "pSD9XQw3lWXq",
    "outputId": "7061b28e-3487-4895-b9ff-ed4c7d9657b4"
   },
   "outputs": [
    {
     "data": {
      "text/plain": [
       "86"
      ]
     },
     "execution_count": 13,
     "metadata": {},
     "output_type": "execute_result"
    }
   ],
   "source": [
    "#Решение задания 1.1\n",
    "\n",
    "5 + 8 + 73"
   ]
  },
  {
   "cell_type": "markdown",
   "metadata": {
    "id": "8tOQUMH1mPq-"
   },
   "source": [
    "#### Задание 1.2\n",
    "\n",
    "Посчитайте с помощью Питона результат выражения $\\frac{365^3}{73^2}$"
   ]
  },
  {
   "cell_type": "code",
   "execution_count": null,
   "metadata": {
    "colab": {
     "base_uri": "https://localhost:8080/"
    },
    "id": "_xxipAyxmWw2",
    "outputId": "bac1fad8-9aef-45f2-fe76-f5fbfadce129"
   },
   "outputs": [
    {
     "data": {
      "text/plain": [
       "9125.0"
      ]
     },
     "execution_count": 15,
     "metadata": {},
     "output_type": "execute_result"
    }
   ],
   "source": [
    "#Решение задания 1.2\n",
    "\n",
    "(365 ** 3) / (73 ** 2)"
   ]
  },
  {
   "cell_type": "markdown",
   "metadata": {
    "id": "bKL_feoNY0dg"
   },
   "source": [
    "### Переменные\n",
    "\n",
    "Мы можем попросить Питон что-нибудь запомнить\n",
    "\n",
    "Для этого используетя знак \"=\". Название переменной слева от равно, то, что запоминаем, справа"
   ]
  },
  {
   "cell_type": "code",
   "execution_count": null,
   "metadata": {
    "colab": {
     "base_uri": "https://localhost:8080/"
    },
    "id": "qmakdbDwWsNx",
    "outputId": "7b4ac680-306e-469d-bc14-9d6809928ec2"
   },
   "outputs": [
    {
     "data": {
      "text/plain": [
       "5"
      ]
     },
     "execution_count": 19,
     "metadata": {},
     "output_type": "execute_result"
    }
   ],
   "source": [
    "a = 5\n",
    "\n",
    "a"
   ]
  },
  {
   "cell_type": "code",
   "execution_count": null,
   "metadata": {
    "colab": {
     "base_uri": "https://localhost:8080/"
    },
    "id": "NMcNtZEIagwN",
    "outputId": "e90dd304-7cde-4523-93e8-6aa30479ddd7"
   },
   "outputs": [
    {
     "data": {
      "text/plain": [
       "12.5"
      ]
     },
     "execution_count": 17,
     "metadata": {},
     "output_type": "execute_result"
    }
   ],
   "source": [
    "b = (5 ** 2) / 2\n",
    "\n",
    "b"
   ]
  },
  {
   "cell_type": "code",
   "execution_count": null,
   "metadata": {
    "colab": {
     "base_uri": "https://localhost:8080/"
    },
    "id": "oq8Gyb4ci-A0",
    "outputId": "59910afc-16cd-4766-daf2-667d26cd8259"
   },
   "outputs": [
    {
     "data": {
      "text/plain": [
       "17.5"
      ]
     },
     "execution_count": 18,
     "metadata": {},
     "output_type": "execute_result"
    }
   ],
   "source": [
    "a + b"
   ]
  },
  {
   "cell_type": "markdown",
   "metadata": {
    "id": "4oIZhIKdjCgN"
   },
   "source": [
    "Никогда не называйте переменные так, как выше! Используйте понятные название: чтобы вы или кто-то ещё, читая ваш код, не запутался на третьей строчке."
   ]
  },
  {
   "cell_type": "markdown",
   "metadata": {
    "id": "9YfpY274md_8"
   },
   "source": [
    "#### Задание 2\n",
    "\n",
    "Вычислите $\\frac{365^3}{73^2}$ и сразу запишите результат подсчёта выражения  в переменную. Назовите её осмысленно."
   ]
  },
  {
   "cell_type": "code",
   "execution_count": null,
   "metadata": {
    "colab": {
     "base_uri": "https://localhost:8080/"
    },
    "id": "yIT_jKqRjN8H",
    "outputId": "5d8bac71-c922-4ffc-f54c-4bd27b9d2688"
   },
   "outputs": [
    {
     "data": {
      "text/plain": [
       "9125.0"
      ]
     },
     "execution_count": 21,
     "metadata": {},
     "output_type": "execute_result"
    }
   ],
   "source": [
    "#Решение задания 2\n",
    "\n",
    "result = (365 ** 3) / (73 ** 2)\n",
    "result"
   ]
  },
  {
   "cell_type": "markdown",
   "metadata": {
    "id": "FVRViwgMms8U"
   },
   "source": [
    "### Сравнение\n",
    "\n",
    "Мы используем равно, чтобы что-то записать в переменную. Но как же тогда что-нибудь сравнить?!"
   ]
  },
  {
   "cell_type": "code",
   "execution_count": null,
   "metadata": {
    "colab": {
     "base_uri": "https://localhost:8080/",
     "height": 106
    },
    "id": "BbTOcsJtjAQA",
    "outputId": "ed6e8c22-1c70-4ff7-ced9-f311b5001722"
   },
   "outputs": [
    {
     "ename": "SyntaxError",
     "evalue": "cannot assign to literal here. Maybe you meant '==' instead of '='? (<ipython-input-22-630384a8c793>, line 1)",
     "output_type": "error",
     "traceback": [
      "\u001b[0;36m  File \u001b[0;32m\"<ipython-input-22-630384a8c793>\"\u001b[0;36m, line \u001b[0;32m1\u001b[0m\n\u001b[0;31m    5 = 3 + 2\u001b[0m\n\u001b[0m    ^\u001b[0m\n\u001b[0;31mSyntaxError\u001b[0m\u001b[0;31m:\u001b[0m cannot assign to literal here. Maybe you meant '==' instead of '='?\n"
     ]
    }
   ],
   "source": [
    "5 = 3 + 2"
   ]
  },
  {
   "cell_type": "code",
   "execution_count": null,
   "metadata": {
    "colab": {
     "base_uri": "https://localhost:8080/"
    },
    "id": "fJu4rB4Nnnm3",
    "outputId": "63c3284c-a863-4146-8965-d139b5d2ee38"
   },
   "outputs": [
    {
     "data": {
      "text/plain": [
       "True"
      ]
     },
     "execution_count": 25,
     "metadata": {},
     "output_type": "execute_result"
    }
   ],
   "source": [
    "5 == 3 + 2"
   ]
  },
  {
   "cell_type": "code",
   "execution_count": null,
   "metadata": {
    "colab": {
     "base_uri": "https://localhost:8080/"
    },
    "id": "wFuvVJlfnpLe",
    "outputId": "fe5e4c59-00af-4fcb-a02b-b2e2d1b02586"
   },
   "outputs": [
    {
     "data": {
      "text/plain": [
       "False"
      ]
     },
     "execution_count": 24,
     "metadata": {},
     "output_type": "execute_result"
    }
   ],
   "source": [
    "5 == 3 + 3"
   ]
  },
  {
   "cell_type": "markdown",
   "metadata": {
    "id": "d6vH76LIn2Jo"
   },
   "source": [
    "Для сравнения используем знаки \"==\", \">\", \"<\" и получаем как значения \"Правда\" (True) или \"Ложь\" (False).\n",
    "\n",
    "Зачем это вообще? Для того, чтобы писать условия. Конструкция выглядит так:"
   ]
  },
  {
   "cell_type": "code",
   "execution_count": null,
   "metadata": {
    "id": "A7FMD59HnrhG"
   },
   "outputs": [],
   "source": [
    "# Эта ячейка не отработает, потому что в ней не указано ни условие, ни результат\n",
    "if условие:\n",
    "  #результат 1\n",
    "elif условие 2:\n",
    "  #результат 2\n",
    "else:\n",
    "  #результат 3\n",
    "\n",
    "#Любой фрагмент, кроме первого if, можно опустить"
   ]
  },
  {
   "cell_type": "code",
   "execution_count": null,
   "metadata": {
    "colab": {
     "base_uri": "https://localhost:8080/"
    },
    "id": "eQO0Zs-Ao_6c",
    "outputId": "19d095e8-92c5-4584-a993-a970af7f8a4a"
   },
   "outputs": [
    {
     "name": "stdout",
     "output_type": "stream",
     "text": [
      "Это ноль\n"
     ]
    }
   ],
   "source": [
    "#Вот эти вот штуки print(\"Это положительное число\") — это мы забегаем вперёд\n",
    "#Если вы чувствуете, что нам нужны не только числа — то вот они не числа!\n",
    "\n",
    "x = 0\n",
    "\n",
    "if x > 0:\n",
    "  print(\"Это положительное число\")\n",
    "elif x < 0:\n",
    "  print(\"Это отрицательное число\")\n",
    "else:\n",
    "  print(\"Это ноль\")"
   ]
  },
  {
   "cell_type": "markdown",
   "metadata": {
    "id": "YYFFHPZopWm4"
   },
   "source": [
    "#### Задание 3\n",
    "\n",
    "Напишите условие, которое проверяет, равно ли число 5, и если да — печатает 5, а если нет — говорит, что это не 5"
   ]
  },
  {
   "cell_type": "code",
   "execution_count": null,
   "metadata": {
    "colab": {
     "base_uri": "https://localhost:8080/"
    },
    "id": "Dpg-vcZ9pOXJ",
    "outputId": "07a4196c-7c67-4fb8-9f5f-b9ded0a66c3f"
   },
   "outputs": [
    {
     "name": "stdout",
     "output_type": "stream",
     "text": [
      "Это не 5\n"
     ]
    }
   ],
   "source": [
    "#Решение задания 3\n",
    "\n",
    "x = 0\n",
    "\n",
    "if x == 5:\n",
    "  print(5)\n",
    "else:\n",
    "  print('Это не 5')"
   ]
  },
  {
   "cell_type": "code",
   "execution_count": null,
   "metadata": {
    "colab": {
     "base_uri": "https://localhost:8080/"
    },
    "id": "StlmKCAeQJYP",
    "outputId": "b6ea2ffc-ab00-419f-a799-c6fde1e577d8"
   },
   "outputs": [
    {
     "name": "stdout",
     "output_type": "stream",
     "text": [
      "Это не 5\n"
     ]
    }
   ],
   "source": [
    "x = 0\n",
    "\n",
    "if x == 5:\n",
    "  print(5)\n",
    "elif x != 5:\n",
    "  print('Это не 5')"
   ]
  },
  {
   "cell_type": "code",
   "execution_count": null,
   "metadata": {
    "colab": {
     "base_uri": "https://localhost:8080/"
    },
    "id": "uVck3MmRQZG5",
    "outputId": "2f55db21-8608-43d8-a69c-8f6b240dadf0"
   },
   "outputs": [
    {
     "name": "stdout",
     "output_type": "stream",
     "text": [
      "Это не 5\n"
     ]
    }
   ],
   "source": [
    "x = 0\n",
    "\n",
    "if x == 5:\n",
    "  print(5)\n",
    "elif (x > 5) or (x < 5):\n",
    "  print('Это не 5')"
   ]
  },
  {
   "cell_type": "code",
   "execution_count": null,
   "metadata": {
    "colab": {
     "base_uri": "https://localhost:8080/"
    },
    "id": "NrhE4A44QkVA",
    "outputId": "68839cd4-55f7-40fb-8557-4981cc01b795"
   },
   "outputs": [
    {
     "data": {
      "text/plain": [
       "False"
      ]
     },
     "execution_count": 43,
     "metadata": {},
     "output_type": "execute_result"
    }
   ],
   "source": [
    "x = 5\n",
    "\n",
    "(x > 5) or (x < 5)"
   ]
  },
  {
   "cell_type": "markdown",
   "metadata": {
    "id": "Z24puYJjqNgn"
   },
   "source": [
    "###Типы данных\n",
    "\n",
    "До этого мы в основном работали с числами, но хотим, конечно, работать не только с ними\n",
    "\n",
    "- строки — содержат текстовую информацию и пишутся в кавычках '' или \"\"\n",
    "- списки — содержат набор элементов Питона и пишутся в квадратных скобках через запятую [ ]\n",
    "- словари — содержат пару элементов (ключ — key и значение — value) и пишутся в фигурных скобках через запятую\n",
    "- есть и другие типы данных, но нам пока хватит:)"
   ]
  },
  {
   "cell_type": "code",
   "execution_count": null,
   "metadata": {
    "colab": {
     "base_uri": "https://localhost:8080/",
     "height": 36
    },
    "id": "Atru_PoBrfw2",
    "outputId": "a4555529-56f8-421a-9a7d-34a71025d448"
   },
   "outputs": [
    {
     "data": {
      "application/vnd.google.colaboratory.intrinsic+json": {
       "type": "string"
      },
      "text/plain": [
       "'это строка'"
      ]
     },
     "execution_count": 44,
     "metadata": {},
     "output_type": "execute_result"
    }
   ],
   "source": [
    "new_line = 'это строка'\n",
    "\n",
    "new_line"
   ]
  },
  {
   "cell_type": "code",
   "execution_count": null,
   "metadata": {
    "colab": {
     "base_uri": "https://localhost:8080/"
    },
    "id": "SX0To4Gfrmxn",
    "outputId": "da2b148d-da5c-40d5-b8be-2c8d21f402bd"
   },
   "outputs": [
    {
     "data": {
      "text/plain": [
       "[4, 'я очень разнообразный', [2, 3], 'это строка']"
      ]
     },
     "execution_count": 49,
     "metadata": {},
     "output_type": "execute_result"
    }
   ],
   "source": [
    "new_list = [4, 'я очень разнообразный', [2, 3], new_line]\n",
    "\n",
    "new_list"
   ]
  },
  {
   "cell_type": "code",
   "execution_count": null,
   "metadata": {
    "colab": {
     "base_uri": "https://localhost:8080/"
    },
    "id": "IDbnEaSPVJHa",
    "outputId": "25e626c6-afbb-44c6-f9f0-5d13bb736e53"
   },
   "outputs": [
    {
     "data": {
      "text/plain": [
       "{'ключ': 'значение',\n",
       " 'другой ключ': 42,\n",
       " 'третий ключ': [4, 'я очень разнообразный', [2, 3], 'это строка']}"
      ]
     },
     "execution_count": 47,
     "metadata": {},
     "output_type": "execute_result"
    }
   ],
   "source": [
    "new_dict = {'ключ': 'значение', 'другой ключ': 42, 'третий ключ': new_list}\n",
    "\n",
    "new_dict"
   ]
  },
  {
   "cell_type": "markdown",
   "metadata": {
    "id": "2BWodyNbV3Js"
   },
   "source": [
    "Каждый тип данных умеет что-то полезное. В словаре, например, по ключу легко можно получить доступ к значению, а другие типы мы рассмотрим подробнее ниже."
   ]
  },
  {
   "cell_type": "code",
   "execution_count": null,
   "metadata": {
    "colab": {
     "base_uri": "https://localhost:8080/",
     "height": 36
    },
    "id": "StMb7WngVuIx",
    "outputId": "3315572e-17ec-4763-f98d-143d50f18525"
   },
   "outputs": [
    {
     "data": {
      "application/vnd.google.colaboratory.intrinsic+json": {
       "type": "string"
      },
      "text/plain": [
       "'значение'"
      ]
     },
     "execution_count": 48,
     "metadata": {},
     "output_type": "execute_result"
    }
   ],
   "source": [
    "new_dict['ключ']"
   ]
  },
  {
   "cell_type": "markdown",
   "metadata": {
    "id": "TfOytg3gsD2G"
   },
   "source": [
    "#### Задание 4\n",
    "\n",
    "Создайте список и выведите и запишите в него два любых числа, один список и две переменные. Переменные придётся создать заранее."
   ]
  },
  {
   "cell_type": "code",
   "execution_count": null,
   "metadata": {
    "colab": {
     "base_uri": "https://localhost:8080/"
    },
    "id": "7YTn4iCvr5iI",
    "outputId": "6a0149a8-6a41-4a20-b975-594809bacc84"
   },
   "outputs": [
    {
     "data": {
      "text/plain": [
       "[4, 5, [2, 3], 'это строка']"
      ]
     },
     "execution_count": 51,
     "metadata": {},
     "output_type": "execute_result"
    }
   ],
   "source": [
    "#Решение задания 4\n",
    "\n",
    "new_list = [4, 5, [2, 3], new_line]\n",
    "\n",
    "new_list"
   ]
  },
  {
   "cell_type": "markdown",
   "metadata": {
    "id": "JDEba3spsX04"
   },
   "source": [
    "Со строками и списками, как и с числами, можно производить разные операции. Не всегда предсказуемо, что произойдёт — и чтобы узнать, как сделать что-то конкретное со строкой или списком, обычно приходится искать это"
   ]
  },
  {
   "cell_type": "code",
   "execution_count": null,
   "metadata": {
    "colab": {
     "base_uri": "https://localhost:8080/",
     "height": 36
    },
    "id": "hy2Re4azsVBD",
    "outputId": "d5680017-d0a6-476c-d7b8-4a546fbce80b"
   },
   "outputs": [
    {
     "data": {
      "application/vnd.google.colaboratory.intrinsic+json": {
       "type": "string"
      },
      "text/plain": [
       "'дваслова'"
      ]
     },
     "execution_count": 52,
     "metadata": {},
     "output_type": "execute_result"
    }
   ],
   "source": [
    "two_words = \"два\" + \"слова\"\n",
    "\n",
    "two_words"
   ]
  },
  {
   "cell_type": "code",
   "execution_count": null,
   "metadata": {
    "colab": {
     "base_uri": "https://localhost:8080/"
    },
    "id": "CoSQLCBpsQfH",
    "outputId": "780e36b0-4188-4277-b8cb-2bcb152a3ea5"
   },
   "outputs": [
    {
     "data": {
      "text/plain": [
       "['two', 'words']"
      ]
     },
     "execution_count": 53,
     "metadata": {},
     "output_type": "execute_result"
    }
   ],
   "source": [
    "two_more_words = ['two'] + ['words']\n",
    "\n",
    "two_more_words"
   ]
  },
  {
   "cell_type": "code",
   "execution_count": null,
   "metadata": {
    "colab": {
     "base_uri": "https://localhost:8080/"
    },
    "id": "qBzn-QLQsQfH",
    "outputId": "5ea8dc64-8a04-4308-f3e4-e1d84340d59d"
   },
   "outputs": [
    {
     "data": {
      "text/plain": [
       "['two', 'words', 'two', 'words', 'two', 'words']"
      ]
     },
     "execution_count": 54,
     "metadata": {},
     "output_type": "execute_result"
    }
   ],
   "source": [
    "two_more_words * 3"
   ]
  },
  {
   "cell_type": "code",
   "execution_count": null,
   "metadata": {
    "colab": {
     "base_uri": "https://localhost:8080/"
    },
    "id": "YApKMuZRs7wo",
    "outputId": "623f62e7-c9a3-4325-f21e-37577815e08e"
   },
   "outputs": [
    {
     "data": {
      "text/plain": [
       "8"
      ]
     },
     "execution_count": 56,
     "metadata": {},
     "output_type": "execute_result"
    }
   ],
   "source": [
    "#Считаем длину слова\n",
    "\n",
    "len(two_words)"
   ]
  },
  {
   "cell_type": "code",
   "execution_count": null,
   "metadata": {
    "colab": {
     "base_uri": "https://localhost:8080/"
    },
    "id": "0lLvC4oTtdUy",
    "outputId": "12cc2c87-7796-447f-dd3e-0b26d845a06c"
   },
   "outputs": [
    {
     "data": {
      "text/plain": [
       "4"
      ]
     },
     "execution_count": 57,
     "metadata": {},
     "output_type": "execute_result"
    }
   ],
   "source": [
    "#Считаем длину списка\n",
    "\n",
    "len(new_list)"
   ]
  },
  {
   "cell_type": "code",
   "execution_count": null,
   "metadata": {
    "colab": {
     "base_uri": "https://localhost:8080/",
     "height": 36
    },
    "id": "mhdIv6adtOPT",
    "outputId": "011f071f-39d2-4ece-855c-4a2e504444b9"
   },
   "outputs": [
    {
     "data": {
      "application/vnd.google.colaboratory.intrinsic+json": {
       "type": "string"
      },
      "text/plain": [
       "'Дваслова'"
      ]
     },
     "execution_count": 61,
     "metadata": {},
     "output_type": "execute_result"
    }
   ],
   "source": [
    "#Делаем, чтобы слово писалось с заглавной буквы\n",
    "\n",
    "two_words.capitalize()"
   ]
  },
  {
   "cell_type": "code",
   "execution_count": null,
   "metadata": {
    "colab": {
     "base_uri": "https://localhost:8080/"
    },
    "id": "afjeP8zptuvR",
    "outputId": "0db777c9-d031-4c9c-d9a8-71048393716e"
   },
   "outputs": [
    {
     "data": {
      "text/plain": [
       "False"
      ]
     },
     "execution_count": 62,
     "metadata": {},
     "output_type": "execute_result"
    }
   ],
   "source": [
    "#Проверяем, на что кончается слово\n",
    "\n",
    "two_words.endswith('ы')"
   ]
  },
  {
   "cell_type": "markdown",
   "metadata": {
    "id": "7IPyJtCqsQfJ"
   },
   "source": [
    "Не все операции приведут к результату"
   ]
  },
  {
   "cell_type": "code",
   "execution_count": null,
   "metadata": {
    "colab": {
     "base_uri": "https://localhost:8080/",
     "height": 141
    },
    "id": "3jbh2L0dsQfJ",
    "outputId": "611ae43c-f387-45e0-dc3c-9a2a29e49f9a"
   },
   "outputs": [
    {
     "ename": "TypeError",
     "evalue": "unsupported operand type(s) for -: 'str' and 'str'",
     "output_type": "error",
     "traceback": [
      "\u001b[0;31m---------------------------------------------------------------------------\u001b[0m",
      "\u001b[0;31mTypeError\u001b[0m                                 Traceback (most recent call last)",
      "\u001b[0;32m<ipython-input-55-2b749961cd34>\u001b[0m in \u001b[0;36m<cell line: 0>\u001b[0;34m()\u001b[0m\n\u001b[0;32m----> 1\u001b[0;31m \u001b[0;34m'два слова'\u001b[0m \u001b[0;34m-\u001b[0m \u001b[0;34m'два'\u001b[0m\u001b[0;34m\u001b[0m\u001b[0;34m\u001b[0m\u001b[0m\n\u001b[0m",
      "\u001b[0;31mTypeError\u001b[0m: unsupported operand type(s) for -: 'str' and 'str'"
     ]
    }
   ],
   "source": [
    "'два слова' - 'два'"
   ]
  },
  {
   "cell_type": "markdown",
   "metadata": {
    "id": "bcJebMcDsxa4"
   },
   "source": [
    "#### Задание 5\n",
    "\n",
    "Запишите условие, которое проверяет, кончается ли слово на букву \"а\" и если кончается — дописывает к нему ещё 5 букв \"а\", а если нет — просто возвращает слово"
   ]
  },
  {
   "cell_type": "code",
   "execution_count": null,
   "metadata": {
    "colab": {
     "base_uri": "https://localhost:8080/"
    },
    "id": "QljaEp7muDO7",
    "outputId": "dd83e891-2589-4c0d-9dab-7d7034ae94bf"
   },
   "outputs": [
    {
     "name": "stdout",
     "output_type": "stream",
     "text": [
      "словоаааааа\n"
     ]
    }
   ],
   "source": [
    "#Решение задания 5\n",
    "\n",
    "word = 'словоа'\n",
    "\n",
    "if word.endswith('а'):\n",
    "  print(word + 'ааааа')\n",
    "else:\n",
    "  print(word)"
   ]
  },
  {
   "cell_type": "markdown",
   "metadata": {
    "id": "XyZPhw9gudGB"
   },
   "source": [
    "### Функции\n",
    "\n",
    "Мы уже использовали функции — особые выражения, которое пишутся со скобками: print() и выполняют какое-то действие с тем, что внутри скобок\n",
    "\n",
    "То, что мы писали через точку после строк — .capitalize() — тоже функции, но с немного особым синтаксисом.\n",
    "\n",
    "В скобках у функции может быть несколько аргументов — и важно понимать, как именно она будет с ними обращаться."
   ]
  },
  {
   "cell_type": "code",
   "execution_count": null,
   "metadata": {
    "colab": {
     "base_uri": "https://localhost:8080/"
    },
    "id": "MVantWBrBnJx",
    "outputId": "c5f3e2ee-d597-4a5f-cc9a-2afd84a10f05"
   },
   "outputs": [
    {
     "name": "stdout",
     "output_type": "stream",
     "text": [
      "Hello World!\n"
     ]
    }
   ],
   "source": [
    "#Два аргумента функции\n",
    "print('Hello', 'World!')"
   ]
  },
  {
   "cell_type": "code",
   "execution_count": null,
   "metadata": {
    "colab": {
     "base_uri": "https://localhost:8080/"
    },
    "id": "WIxO2bP59CAl",
    "outputId": "3a1c9c40-010d-4997-c844-0ce4c9d1f052"
   },
   "outputs": [
    {
     "name": "stdout",
     "output_type": "stream",
     "text": [
      "Help on built-in function print in module builtins:\n",
      "\n",
      "print(*args, sep=' ', end='\\n', file=None, flush=False)\n",
      "    Prints the values to a stream, or to sys.stdout by default.\n",
      "    \n",
      "    sep\n",
      "      string inserted between values, default a space.\n",
      "    end\n",
      "      string appended after the last value, default a newline.\n",
      "    file\n",
      "      a file-like object (stream); defaults to the current sys.stdout.\n",
      "    flush\n",
      "      whether to forcibly flush the stream.\n",
      "\n"
     ]
    }
   ],
   "source": [
    "help(print)"
   ]
  },
  {
   "cell_type": "code",
   "execution_count": null,
   "metadata": {
    "colab": {
     "base_uri": "https://localhost:8080/"
    },
    "id": "5AxK_GpUB2sO",
    "outputId": "46aa791b-8669-4139-e703-00f4d90b4c8d"
   },
   "outputs": [
    {
     "name": "stdout",
     "output_type": "stream",
     "text": [
      "Hello____World!"
     ]
    }
   ],
   "source": [
    "print('Hello', 'World', sep = '____', end = '!')"
   ]
  },
  {
   "cell_type": "code",
   "execution_count": null,
   "metadata": {
    "colab": {
     "base_uri": "https://localhost:8080/",
     "height": 36
    },
    "id": "eqxYacDTB6Ob",
    "outputId": "0a955036-b643-4f41-9e1d-d0bcf6e505c4"
   },
   "outputs": [
    {
     "data": {
      "application/vnd.google.colaboratory.intrinsic+json": {
       "type": "string"
      },
      "text/plain": [
       "'это предложение, у которого на конце что-то лишнее'"
      ]
     },
     "execution_count": 73,
     "metadata": {},
     "output_type": "execute_result"
    }
   ],
   "source": [
    "'это предложение, у которого на конце что-то лишнее \\n'.strip()"
   ]
  },
  {
   "cell_type": "code",
   "execution_count": null,
   "metadata": {
    "colab": {
     "base_uri": "https://localhost:8080/",
     "height": 36
    },
    "id": "l5PlSD97Gb28",
    "outputId": "14f1a6a2-01e5-4319-9c45-1b15e22747e9"
   },
   "outputs": [
    {
     "data": {
      "application/vnd.google.colaboratory.intrinsic+json": {
       "type": "string"
      },
      "text/plain": [
       "'это предложение, у которого на конце что-то лишнее '"
      ]
     },
     "execution_count": 74,
     "metadata": {},
     "output_type": "execute_result"
    }
   ],
   "source": [
    "'это предложение, у которого на конце что-то лишнее \\n'.strip('\\n')"
   ]
  },
  {
   "cell_type": "markdown",
   "metadata": {
    "id": "HzjSqXBGGvQE"
   },
   "source": [
    "Огромное количество функций написано за нас!\n",
    "\n",
    "Эти функции вместе с другими полезными вещами складывают в библиотеки или модули — и их можно брать и использовать!"
   ]
  },
  {
   "cell_type": "code",
   "execution_count": null,
   "metadata": {
    "id": "2DDXKffYG-SP"
   },
   "outputs": [],
   "source": [
    "import math #Просим загрузить нам модуль"
   ]
  },
  {
   "cell_type": "code",
   "execution_count": null,
   "metadata": {
    "colab": {
     "base_uri": "https://localhost:8080/"
    },
    "id": "ZHlBPaHwHH5k",
    "outputId": "29bd1e9b-2634-43e4-d958-c8c457b87b81"
   },
   "outputs": [
    {
     "data": {
      "text/plain": [
       "5.0"
      ]
     },
     "execution_count": 76,
     "metadata": {},
     "output_type": "execute_result"
    }
   ],
   "source": [
    "#Извлекаем квадратный корень функцией из этого модуля\n",
    "math.sqrt(25)"
   ]
  },
  {
   "cell_type": "code",
   "execution_count": null,
   "metadata": {
    "colab": {
     "base_uri": "https://localhost:8080/"
    },
    "id": "F-aYwdyrHTn9",
    "outputId": "5a0e0d2f-c410-4da2-c916-55a5f91eeff5"
   },
   "outputs": [
    {
     "name": "stdout",
     "output_type": "stream",
     "text": [
      "Requirement already satisfied: nltk in /usr/local/lib/python3.11/dist-packages (3.9.1)\n",
      "Requirement already satisfied: click in /usr/local/lib/python3.11/dist-packages (from nltk) (8.1.8)\n",
      "Requirement already satisfied: joblib in /usr/local/lib/python3.11/dist-packages (from nltk) (1.4.2)\n",
      "Requirement already satisfied: regex>=2021.8.3 in /usr/local/lib/python3.11/dist-packages (from nltk) (2024.11.6)\n",
      "Requirement already satisfied: tqdm in /usr/local/lib/python3.11/dist-packages (from nltk) (4.67.1)\n"
     ]
    },
    {
     "name": "stderr",
     "output_type": "stream",
     "text": [
      "[nltk_data] Downloading package punkt_tab to /root/nltk_data...\n",
      "[nltk_data]   Unzipping tokenizers/punkt_tab.zip.\n"
     ]
    },
    {
     "data": {
      "text/plain": [
       "True"
      ]
     },
     "execution_count": 28,
     "metadata": {},
     "output_type": "execute_result"
    }
   ],
   "source": [
    "!pip install nltk #Скачиваем модуль\n",
    "import nltk #Просим загрузить нам модуль\n",
    "nltk.download('punkt_tab') #Скачиваем ещё кусочек модуля"
   ]
  },
  {
   "cell_type": "code",
   "execution_count": null,
   "metadata": {
    "colab": {
     "base_uri": "https://localhost:8080/"
    },
    "id": "VocXfuBEH1kW",
    "outputId": "20e63433-622c-4877-9baf-7edbc062ec39"
   },
   "outputs": [
    {
     "data": {
      "text/plain": [
       "['Я',\n",
       " 'хочу',\n",
       " 'разделить',\n",
       " 'на',\n",
       " 'слова',\n",
       " 'длинное',\n",
       " 'предложение',\n",
       " ',',\n",
       " 'которое',\n",
       " 'включает',\n",
       " 'в',\n",
       " 'себя',\n",
       " 'знаки',\n",
       " 'препинания',\n",
       " '!']"
      ]
     },
     "execution_count": 78,
     "metadata": {},
     "output_type": "execute_result"
    }
   ],
   "source": [
    "nltk.tokenize.word_tokenize('Я хочу разделить на слова длинное предложение, которое включает в себя знаки препинания!')"
   ]
  },
  {
   "cell_type": "markdown",
   "metadata": {
    "id": "ndZfv9AMJFtP"
   },
   "source": [
    "#### Задание 6\n",
    "\n",
    "Импортируйте модуль random. Используйте функцию randint из него, чтобы сгенерировать случайное число от одного до 10. Чтобы понять, какие аргументы у этой функции, можно почитать [документацию](https://docs.python.org/3/library/random.html) или просто загуглить random.randint."
   ]
  },
  {
   "cell_type": "code",
   "execution_count": null,
   "metadata": {
    "colab": {
     "base_uri": "https://localhost:8080/"
    },
    "id": "bJikhS67JLaD",
    "outputId": "956f70c8-177b-4ba4-f081-eed7ae2a9cdb"
   },
   "outputs": [
    {
     "data": {
      "text/plain": [
       "2"
      ]
     },
     "execution_count": 100,
     "metadata": {},
     "output_type": "execute_result"
    }
   ],
   "source": [
    "#Решение задания 6\n",
    "\n",
    "import random\n",
    "\n",
    "random.randint(1, 10)"
   ]
  },
  {
   "cell_type": "markdown",
   "metadata": {
    "id": "ez3QGURjW3Oq"
   },
   "source": [
    "### Работа с индексами\n",
    "\n",
    "С помощью квадратных скобок можно обращаться к элементам списка"
   ]
  },
  {
   "cell_type": "code",
   "execution_count": null,
   "metadata": {
    "colab": {
     "base_uri": "https://localhost:8080/",
     "height": 36
    },
    "id": "U6djiTWtW1yN",
    "outputId": "05201a73-109e-4b03-8c76-4eebddbfefae"
   },
   "outputs": [
    {
     "data": {
      "application/vnd.google.colaboratory.intrinsic+json": {
       "type": "string"
      },
      "text/plain": [
       "'на'"
      ]
     },
     "execution_count": 103,
     "metadata": {},
     "output_type": "execute_result"
    }
   ],
   "source": [
    "my_list = ['Это', 'предложение', 'разбитое', 'на', 'слова']\n",
    "\n",
    "my_list[3] #начинаем с нуля!"
   ]
  },
  {
   "cell_type": "code",
   "execution_count": null,
   "metadata": {
    "colab": {
     "base_uri": "https://localhost:8080/"
    },
    "id": "sjM8v7pLXsT2",
    "outputId": "7bf8d7a3-1e54-480b-94d4-8b6d48d9b998"
   },
   "outputs": [
    {
     "data": {
      "text/plain": [
       "['разбитое', 'на']"
      ]
     },
     "execution_count": 104,
     "metadata": {},
     "output_type": "execute_result"
    }
   ],
   "source": [
    "my_list[2:4] #с 2 включительно по 4 не включительно"
   ]
  },
  {
   "cell_type": "code",
   "execution_count": null,
   "metadata": {
    "colab": {
     "base_uri": "https://localhost:8080/"
    },
    "id": "0ZN6O3s9XzV8",
    "outputId": "f511f8e5-fd42-43ac-b0a2-1604e7c0bf92"
   },
   "outputs": [
    {
     "data": {
      "text/plain": [
       "['Это', 'предложение', 'разбитое', 'на']"
      ]
     },
     "execution_count": 105,
     "metadata": {},
     "output_type": "execute_result"
    }
   ],
   "source": [
    "my_list[:4] #с начала по 4 не включительно"
   ]
  },
  {
   "cell_type": "code",
   "execution_count": null,
   "metadata": {
    "colab": {
     "base_uri": "https://localhost:8080/",
     "height": 36
    },
    "id": "-zsZDdsssQfN",
    "outputId": "bf9c9edf-1772-4208-a8bc-adf5f9302861"
   },
   "outputs": [
    {
     "data": {
      "application/vnd.google.colaboratory.intrinsic+json": {
       "type": "string"
      },
      "text/plain": [
       "'слова'"
      ]
     },
     "execution_count": 109,
     "metadata": {},
     "output_type": "execute_result"
    }
   ],
   "source": [
    "my_list[-1] #отрицательные числа начинают отсчёт с конца списка; -1 — последний элемент"
   ]
  },
  {
   "cell_type": "markdown",
   "metadata": {
    "id": "U6jzQewNsQfN"
   },
   "source": [
    "То же самое работает и для строк"
   ]
  },
  {
   "cell_type": "code",
   "execution_count": null,
   "metadata": {
    "colab": {
     "base_uri": "https://localhost:8080/"
    },
    "id": "K7iXqXlZsQfN",
    "outputId": "742ec430-57d2-4447-920a-8b9b75d3a408"
   },
   "outputs": [
    {
     "name": "stdout",
     "output_type": "stream",
     "text": [
      "о\n",
      "то\n",
      "фито\n",
      "я\n"
     ]
    }
   ],
   "source": [
    "my_string = 'фитотерапия'\n",
    "\n",
    "print(my_string[3])\n",
    "print(my_string[2:4])\n",
    "print(my_string[:4])\n",
    "print(my_string[-1])"
   ]
  },
  {
   "cell_type": "markdown",
   "metadata": {
    "id": "D5ceBjN0sQfO"
   },
   "source": [
    "### Переход от списков к строкам и обратно"
   ]
  },
  {
   "cell_type": "code",
   "execution_count": null,
   "metadata": {
    "colab": {
     "base_uri": "https://localhost:8080/",
     "height": 36
    },
    "id": "oaUdLWk0YQnL",
    "outputId": "0be3b024-4668-4477-ce6b-d26a952cfbeb"
   },
   "outputs": [
    {
     "data": {
      "application/vnd.google.colaboratory.intrinsic+json": {
       "type": "string"
      },
      "text/plain": [
       "'Это предложение разбитое на'"
      ]
     },
     "execution_count": 121,
     "metadata": {},
     "output_type": "execute_result"
    }
   ],
   "source": [
    "' '.join(my_list[:4]) #Превращаем список в строку с разделителем пробелом"
   ]
  },
  {
   "cell_type": "code",
   "execution_count": null,
   "metadata": {
    "colab": {
     "base_uri": "https://localhost:8080/",
     "height": 36
    },
    "id": "TVehFMtriBoM",
    "outputId": "a2cb86dc-79bf-4dc0-d608-0cda0ae3b2ae"
   },
   "outputs": [
    {
     "data": {
      "application/vnd.google.colaboratory.intrinsic+json": {
       "type": "string"
      },
      "text/plain": [
       "'Этопредложениеразбитоена'"
      ]
     },
     "execution_count": 122,
     "metadata": {},
     "output_type": "execute_result"
    }
   ],
   "source": [
    "''.join(my_list[:4]) #Можно выбрать любой другой разделитель, в том числе пустую строку"
   ]
  },
  {
   "cell_type": "code",
   "execution_count": null,
   "metadata": {
    "colab": {
     "base_uri": "https://localhost:8080/"
    },
    "id": "WUOIDfkzaqnO",
    "outputId": "8c6e13fc-19a4-406c-c18a-b1705868a40f"
   },
   "outputs": [
    {
     "data": {
      "text/plain": [
       "['Это', 'предложение', 'пока', 'не', 'разбито', 'на', 'слова']"
      ]
     },
     "execution_count": 117,
     "metadata": {},
     "output_type": "execute_result"
    }
   ],
   "source": [
    "'Это предложение пока не разбито на слова'.split() #В скобках можно указать, по какому символу разбивать — по умолчанию пробел"
   ]
  },
  {
   "cell_type": "markdown",
   "metadata": {
    "id": "I1E91MtxZHW-"
   },
   "source": [
    "#### Задание 7\n",
    "\n",
    "Разбейте это предложение на слова по пробелу, выберите и соедините элементы с 6 по 9, выведите результат"
   ]
  },
  {
   "cell_type": "code",
   "execution_count": null,
   "metadata": {
    "colab": {
     "base_uri": "https://localhost:8080/",
     "height": 36
    },
    "id": "p5KFe_TKbnyJ",
    "outputId": "f406cc23-d3d6-48e4-9d41-a3371d0dcd71"
   },
   "outputs": [
    {
     "data": {
      "application/vnd.google.colaboratory.intrinsic+json": {
       "type": "string"
      },
      "text/plain": [
       "'по пробелу, выберите и'"
      ]
     },
     "execution_count": 131,
     "metadata": {},
     "output_type": "execute_result"
    }
   ],
   "source": [
    "#Решение задания 7\n",
    "\n",
    "sentence = 'Разбейте это предложение на слова по пробелу, выберите и соедините элементы с 6 по 9, выведите результат'\n",
    "\n",
    "split_sentence = sentence.split()\n",
    "sentence_slice = split_sentence[5:9]\n",
    "\n",
    "' '.join(sentence_slice)"
   ]
  },
  {
   "cell_type": "markdown",
   "metadata": {
    "id": "RN_TMOWrsQfP"
   },
   "source": [
    "#### Ещё пара слов об изменении списков"
   ]
  },
  {
   "cell_type": "code",
   "execution_count": null,
   "metadata": {
    "colab": {
     "base_uri": "https://localhost:8080/"
    },
    "id": "EMcCcZ9hsQfP",
    "outputId": "8495f22f-081e-4b42-919c-6418dafcf031"
   },
   "outputs": [
    {
     "data": {
      "text/plain": [
       "['элемент']"
      ]
     },
     "execution_count": 136,
     "metadata": {},
     "output_type": "execute_result"
    }
   ],
   "source": [
    "# добавление элемента\n",
    "my_list = []\n",
    "my_list.append('элемент')\n",
    "my_list"
   ]
  },
  {
   "cell_type": "code",
   "execution_count": null,
   "metadata": {
    "colab": {
     "base_uri": "https://localhost:8080/"
    },
    "id": "L20byWPhlFNM",
    "outputId": "e7b8f125-9385-46f4-9ab2-7c1c5a9921c8"
   },
   "outputs": [
    {
     "data": {
      "text/plain": [
       "['элемент', 1, 2, 'слово', 'ещё слово']"
      ]
     },
     "execution_count": 142,
     "metadata": {},
     "output_type": "execute_result"
    }
   ],
   "source": [
    "# объединение списков\n",
    "['элемент', 1, 2] + ['слово', 'ещё слово']"
   ]
  },
  {
   "cell_type": "markdown",
   "metadata": {
    "id": "Pla7_g48sQfP"
   },
   "source": [
    "А в чем разница + и append?\n",
    "\n",
    "**Оператор +**:\n",
    "   - Используется для конкатенации (объединения) двух списков\n",
    "   - Создает новый список, содержащий элементы обоих исходных списков\n",
    "   - Не изменяет исходные списки\n",
    "\n",
    "**Метод append()**:\n",
    "   - Используется для добавления элемента в конец списка\n",
    "   - Изменяет исходный список, добавляя элемент в его конец"
   ]
  },
  {
   "cell_type": "code",
   "execution_count": null,
   "metadata": {
    "colab": {
     "base_uri": "https://localhost:8080/"
    },
    "id": "aWxXSH4IsQfP",
    "outputId": "8b5e3325-f323-4d33-e2e8-87a4b901e177"
   },
   "outputs": [
    {
     "name": "stdout",
     "output_type": "stream",
     "text": [
      "[1, 2, 3, 4, 5, 6]\n"
     ]
    }
   ],
   "source": [
    "list1 = [1, 2, 3]\n",
    "list2 = [4, 5, 6]\n",
    "combined_list = list1 + list2\n",
    "print(combined_list)  #  [1, 2, 3, 4, 5, 6]"
   ]
  },
  {
   "cell_type": "code",
   "execution_count": null,
   "metadata": {
    "colab": {
     "base_uri": "https://localhost:8080/"
    },
    "id": "rdfdqW5jsQfP",
    "outputId": "99f0abd5-b603-48fc-9970-ebd5dca7bd06"
   },
   "outputs": [
    {
     "name": "stdout",
     "output_type": "stream",
     "text": [
      "[1, 2, 3, 4]\n"
     ]
    }
   ],
   "source": [
    "my_list = [1, 2, 3]\n",
    "my_list.append(4)\n",
    "print(my_list)  #[1, 2, 3, 4]"
   ]
  },
  {
   "cell_type": "markdown",
   "metadata": {
    "id": "OzuToxVSsQfQ"
   },
   "source": [
    "Если вы хотите объединить два списка в новом списке, используйте оператор +, а если вы хотите добавить элемент в существующий список, используйте метод append()"
   ]
  },
  {
   "cell_type": "markdown",
   "metadata": {
    "id": "-ok6khtCGot0"
   },
   "source": [
    "### Циклы\n",
    "\n",
    "Бывает, что одно и то же действие нужно выполнить множество раз.\n",
    "\n",
    "Цикл _while_ выполняет действие, пока не выполнится какое-то условие\n",
    "\n",
    "Цикл _for ... in_ идёт по списку (или другому итерируемому объекту) и выполняет действие для каждого элемента.\n",
    "\n",
    "Мы будем использовать практически только второй цикл."
   ]
  },
  {
   "cell_type": "code",
   "execution_count": null,
   "metadata": {
    "id": "kCofjl5zdVfG"
   },
   "outputs": [],
   "source": [
    "import random"
   ]
  },
  {
   "cell_type": "code",
   "execution_count": null,
   "metadata": {
    "colab": {
     "base_uri": "https://localhost:8080/",
     "height": 36
    },
    "id": "dHYfvUHJGkL_",
    "outputId": "c0e29b34-cfaa-4317-9f52-d03151797ad9"
   },
   "outputs": [
    {
     "data": {
      "application/vnd.google.colaboratory.intrinsic+json": {
       "type": "string"
      },
      "text/plain": [
       "'gvfts'"
      ]
     },
     "execution_count": 145,
     "metadata": {},
     "output_type": "execute_result"
    }
   ],
   "source": [
    "letters = 'tyujhgvfbsdfkjsl' #Попробуем понять, что здесь происходит\n",
    "\n",
    "made_up_word = ''\n",
    "\n",
    "while len(made_up_word) < 5:\n",
    "  made_up_word = made_up_word + random.choice(letters)\n",
    "\n",
    "made_up_word"
   ]
  },
  {
   "cell_type": "code",
   "execution_count": null,
   "metadata": {
    "colab": {
     "base_uri": "https://localhost:8080/"
    },
    "id": "lA_QRbkoc4YL",
    "outputId": "877ea0c0-b74d-40b8-8c97-877f7e276788"
   },
   "outputs": [
    {
     "name": "stdout",
     "output_type": "stream",
     "text": [
      "Этоффффф\n",
      "предложениеффффф\n",
      "разбитоеффффф\n",
      "наффффф\n",
      "словаффффф\n"
     ]
    }
   ],
   "source": [
    "my_list = ['Это', 'предложение', 'разбитое', 'на', 'слова']\n",
    "\n",
    "for word in my_list: #Берём каждый элемент списка my_list и выводим его на печать\n",
    "  print(word)"
   ]
  },
  {
   "cell_type": "code",
   "execution_count": null,
   "metadata": {
    "colab": {
     "base_uri": "https://localhost:8080/"
    },
    "id": "7SZGAeYrdo6C",
    "outputId": "bd7bcd46-136e-4663-e8ca-528399e69883"
   },
   "outputs": [
    {
     "data": {
      "text/plain": [
       "[3, 11, 8, 2, 5]"
      ]
     },
     "execution_count": 153,
     "metadata": {},
     "output_type": "execute_result"
    }
   ],
   "source": [
    "my_list_lengths = [] #Создаём список, который будет запоминать длины слов\n",
    "\n",
    "for word in my_list:#Берём каждый элемент списка my_list\n",
    "  word_length = len(word) #Считаем длину элемента\n",
    "  my_list_lengths.append(word_length) #Добавляем его в список с длинами слов\n",
    "\n",
    "my_list_lengths"
   ]
  },
  {
   "cell_type": "code",
   "execution_count": null,
   "metadata": {
    "colab": {
     "base_uri": "https://localhost:8080/"
    },
    "id": "AHV7wcRZd7DS",
    "outputId": "0097f601-e7a1-487c-d415-e3e799a6c4a6"
   },
   "outputs": [
    {
     "data": {
      "text/plain": [
       "5.8"
      ]
     },
     "execution_count": 152,
     "metadata": {},
     "output_type": "execute_result"
    }
   ],
   "source": [
    "sum(my_list_lengths)/len(my_list_lengths) #Делим сумму всех элементов списка на их количество"
   ]
  },
  {
   "cell_type": "markdown",
   "metadata": {
    "id": "AFGjZXGGfQN0"
   },
   "source": [
    "#### Задание 8\n",
    "\n",
    "Напишите блок кода, в котором после каждой гласной буквы вставляется слог \"бу\" и выводит получившийся результата. Например, _домик_ --> _добумибук_. Можете использовать уже вписанные фрагменты кода, они пригодятся.\n",
    "\n",
    "Указание 1: по элементам строки можно итерировать так же, как и по списку.\n",
    "\n",
    "Указание 2: оператор _in_ умеет проверять, входит ли символ в строку или входит ли элемент в список."
   ]
  },
  {
   "cell_type": "code",
   "execution_count": null,
   "metadata": {
    "colab": {
     "base_uri": "https://localhost:8080/",
     "height": 36
    },
    "id": "gwea8gUkhXfT",
    "outputId": "a41c5a1c-a448-46e0-b112-b9414d4af659"
   },
   "outputs": [
    {
     "data": {
      "application/vnd.google.colaboratory.intrinsic+json": {
       "type": "string"
      },
      "text/plain": [
       "'добумибук'"
      ]
     },
     "execution_count": 10,
     "metadata": {},
     "output_type": "execute_result"
    }
   ],
   "source": [
    "#Вариант 1: хорошо читается\n",
    "my_word = 'домик'\n",
    "\n",
    "new_word = ''\n",
    "\n",
    "vowels = 'аоэиуыеёюя'\n",
    "\n",
    "for letter in my_word:\n",
    "\n",
    "  if letter in vowels:\n",
    "\n",
    "    new_word += letter\n",
    "    new_word += 'бу'\n",
    "\n",
    "  else:\n",
    "\n",
    "    new_word += letter\n",
    "\n",
    "new_word"
   ]
  },
  {
   "cell_type": "code",
   "execution_count": null,
   "metadata": {
    "colab": {
     "base_uri": "https://localhost:8080/",
     "height": 36
    },
    "id": "FHln_X-WHluf",
    "outputId": "1af05894-05b1-4a46-d111-210d5436e5ee"
   },
   "outputs": [
    {
     "data": {
      "application/vnd.google.colaboratory.intrinsic+json": {
       "type": "string"
      },
      "text/plain": [
       "'добумибук'"
      ]
     },
     "execution_count": 6,
     "metadata": {},
     "output_type": "execute_result"
    }
   ],
   "source": [
    "#Вариант 2: более короткий\n",
    "my_word = ''\n",
    "\n",
    "new_word = ''\n",
    "\n",
    "vowels = 'аоэиуыеёюя'\n",
    "\n",
    "for letter in my_word:\n",
    "\n",
    "  if letter in vowels:\n",
    "\n",
    "    letter += 'бу'\n",
    "\n",
    "  new_word += letter\n",
    "\n",
    "new_word"
   ]
  },
  {
   "cell_type": "markdown",
   "metadata": {
    "id": "hdJIfqaGsQfS"
   },
   "source": [
    "#### Вложенные циклы"
   ]
  },
  {
   "cell_type": "code",
   "execution_count": null,
   "metadata": {
    "colab": {
     "base_uri": "https://localhost:8080/"
    },
    "id": "tbI4Ki6fsQfS",
    "outputId": "3df966e8-6d4b-46d0-df4c-a183723b33bd"
   },
   "outputs": [
    {
     "name": "stdout",
     "output_type": "stream",
     "text": [
      "вложенный\n",
      "в\n",
      "л\n",
      "о\n",
      "ж\n",
      "е\n",
      "н\n",
      "н\n",
      "ы\n",
      "й\n",
      "цикл\n",
      "ц\n",
      "и\n",
      "к\n",
      "л\n"
     ]
    }
   ],
   "source": [
    "n = ['вложенный', 'цикл']\n",
    "for i in n: # идем по каждому элементу (сейчас на уровне списка)\n",
    "    print(i)\n",
    "    for j in i: # идем по каждому элементу (сейчас на уровне строки)\n",
    "        print(j)"
   ]
  },
  {
   "cell_type": "code",
   "execution_count": null,
   "metadata": {
    "colab": {
     "base_uri": "https://localhost:8080/"
    },
    "id": "2uoSH8W8sQfS",
    "outputId": "017b9936-8037-4838-f547-028afacb0cfc"
   },
   "outputs": [
    {
     "name": "stdout",
     "output_type": "stream",
     "text": [
      " **   ** \n",
      "**** ****\n",
      "*********\n",
      " ******* \n",
      "  *****  \n",
      "   ***   \n",
      "    *    \n"
     ]
    }
   ],
   "source": [
    "h = 7\n",
    "w = h + 2\n",
    "m = w // 4\n",
    "for i in range(1, h+1):\n",
    "    if (i <= m):\n",
    "        print(\" \" * (m-i) + \"*\" * (2*i) + \" \" * (w-2*i-2*m) + \"*\" *(2*i) + \" \" * (m-i))\n",
    "    else:\n",
    "      print(\" \" * (i - 2*m+1) + \"*\" * (w-2*(i-2*m+1)) + \" \" * (i - 2*m+1))"
   ]
  },
  {
   "cell_type": "markdown",
   "metadata": {
    "id": "Yd0i9JNnr3A_"
   },
   "source": [
    "#### Генераторы списков\n",
    "\n",
    "сокращённая версия для записи конкретного вида циклов\n",
    "\n",
    "\\[_то что попадёт в новый список_ for _переменная_ in _старый список_ if _опциональное условие_ \\]\n"
   ]
  },
  {
   "cell_type": "code",
   "execution_count": null,
   "metadata": {
    "colab": {
     "base_uri": "https://localhost:8080/"
    },
    "id": "YyJZic28sOgm",
    "outputId": "8b05a3e1-69f8-413a-e222-4ce57a0ecb66"
   },
   "outputs": [
    {
     "data": {
      "text/plain": [
       "['с', 'л', 'о', 'в', 'о']"
      ]
     },
     "execution_count": 13,
     "metadata": {},
     "output_type": "execute_result"
    }
   ],
   "source": [
    "my_word = 'слово'\n",
    "\n",
    "split_list = [letter for letter in my_word]\n",
    "split_list"
   ]
  },
  {
   "cell_type": "code",
   "execution_count": null,
   "metadata": {
    "colab": {
     "base_uri": "https://localhost:8080/"
    },
    "id": "wJEjoCuns1JT",
    "outputId": "090c6146-606d-4378-a4da-1cffa6fc54b2"
   },
   "outputs": [
    {
     "data": {
      "text/plain": [
       "['с', 'л', 'о', 'в', 'о']"
      ]
     },
     "execution_count": 14,
     "metadata": {},
     "output_type": "execute_result"
    }
   ],
   "source": [
    "other_split_list = []\n",
    "\n",
    "for letter in 'слово':\n",
    "  other_split_list.append(letter)\n",
    "\n",
    "other_split_list"
   ]
  },
  {
   "cell_type": "code",
   "execution_count": null,
   "metadata": {
    "colab": {
     "base_uri": "https://localhost:8080/"
    },
    "id": "aUUxdpWYsTYO",
    "outputId": "fddd59b2-0bad-4b8b-ca36-51fdcc695cca"
   },
   "outputs": [
    {
     "data": {
      "text/plain": [
       "[3, 4, 5]"
      ]
     },
     "execution_count": 15,
     "metadata": {},
     "output_type": "execute_result"
    }
   ],
   "source": [
    "[number + 2 for number in [1, 2, 3]]"
   ]
  },
  {
   "cell_type": "code",
   "execution_count": null,
   "metadata": {
    "colab": {
     "base_uri": "https://localhost:8080/"
    },
    "id": "R3Cw3UReUwOd",
    "outputId": "7abfd128-0a73-4103-e178-1d48f6e52639"
   },
   "outputs": [
    {
     "data": {
      "text/plain": [
       "['сбу', 'лбу', 'обу', 'вбу', 'обу']"
      ]
     },
     "execution_count": 16,
     "metadata": {},
     "output_type": "execute_result"
    }
   ],
   "source": [
    "split_list = [letter + 'бу' for letter in my_word]\n",
    "split_list"
   ]
  },
  {
   "cell_type": "code",
   "execution_count": null,
   "metadata": {
    "colab": {
     "base_uri": "https://localhost:8080/"
    },
    "id": "i1A55e3DtHt0",
    "outputId": "1f96923f-26ac-48eb-d464-f72b3dad5ac2"
   },
   "outputs": [
    {
     "data": {
      "text/plain": [
       "['с', 'л', 'в']"
      ]
     },
     "execution_count": 17,
     "metadata": {},
     "output_type": "execute_result"
    }
   ],
   "source": [
    "[letter for letter in 'слово' if letter != 'о'] #!= — это \"не равно\""
   ]
  },
  {
   "cell_type": "markdown",
   "metadata": {
    "id": "mmVek-Eitgvx"
   },
   "source": [
    "#### Задание 9\n",
    "\n",
    "Сделаем вид, что мы умеем выполнять морфологический анализ слов. Будем считать, что все слова в языке — существительные:)\n",
    "\n",
    "Сделайте блок кода, который анализирует каждое слово в предложении, приписывая к нему часть речи — существительное через нижнее подчёркивание. На слова делите просто по пробелам.\n",
    "\n",
    "Используйте генератор списков."
   ]
  },
  {
   "cell_type": "code",
   "execution_count": null,
   "metadata": {
    "colab": {
     "base_uri": "https://localhost:8080/"
    },
    "id": "ORfywnactOLb",
    "outputId": "728f4569-3dde-4402-9183-a64f27ebdf96"
   },
   "outputs": [
    {
     "data": {
      "text/plain": [
       "['Никто_NOUN',\n",
       " 'не_NOUN',\n",
       " 'заметит,_NOUN',\n",
       " 'что_NOUN',\n",
       " 'здесь_NOUN',\n",
       " 'не_NOUN',\n",
       " 'только_NOUN',\n",
       " 'существительные!_NOUN']"
      ]
     },
     "execution_count": 19,
     "metadata": {},
     "output_type": "execute_result"
    }
   ],
   "source": [
    "#Решение задания 9\n",
    "\n",
    "sentence = 'Никто не заметит, что здесь не только существительные!'\n",
    "\n",
    "[word + '_NOUN' for word in sentence.split()]"
   ]
  },
  {
   "cell_type": "markdown",
   "metadata": {
    "id": "vDMwAOIRTs9P"
   },
   "source": [
    "### Бонус\n",
    "\n",
    "Попробуйте разобраться и описать, что происходит во фрагменте кода ниже."
   ]
  },
  {
   "cell_type": "code",
   "execution_count": null,
   "metadata": {
    "colab": {
     "base_uri": "https://localhost:8080/"
    },
    "collapsed": true,
    "id": "-2c5QCCkXBV9",
    "jupyter": {
     "outputs_hidden": true
    },
    "outputId": "bf7ee7bc-5b20-4384-f664-a20098f363a5"
   },
   "outputs": [
    {
     "name": "stdout",
     "output_type": "stream",
     "text": [
      "Requirement already satisfied: pymorphy3 in /usr/local/lib/python3.11/dist-packages (2.0.2)\n",
      "Requirement already satisfied: dawg-python>=0.7.1 in /usr/local/lib/python3.11/dist-packages (from pymorphy3) (0.7.2)\n",
      "Requirement already satisfied: pymorphy3-dicts-ru in /usr/local/lib/python3.11/dist-packages (from pymorphy3) (2.4.417150.4580142)\n",
      "Requirement already satisfied: nltk in /usr/local/lib/python3.11/dist-packages (3.9.1)\n",
      "Requirement already satisfied: click in /usr/local/lib/python3.11/dist-packages (from nltk) (8.1.8)\n",
      "Requirement already satisfied: joblib in /usr/local/lib/python3.11/dist-packages (from nltk) (1.4.2)\n",
      "Requirement already satisfied: regex>=2021.8.3 in /usr/local/lib/python3.11/dist-packages (from nltk) (2024.11.6)\n",
      "Requirement already satisfied: tqdm in /usr/local/lib/python3.11/dist-packages (from nltk) (4.67.1)\n"
     ]
    }
   ],
   "source": [
    "!pip install pymorphy3\n",
    "!pip install nltk\n",
    "from pymorphy3 import MorphAnalyzer\n",
    "analyzer = MorphAnalyzer()\n",
    "from nltk import FreqDist #Импортируем функцию, которая создаёт из списка частотный словарь"
   ]
  },
  {
   "cell_type": "code",
   "execution_count": null,
   "metadata": {
    "id": "cpRCCq2NTvPI"
   },
   "outputs": [],
   "source": [
    "text = '''Сегодня мы хотим побеседовать с Владимиром Тихоновым, студентом-китаистом 5-го курса, о его опыте совмещения учебы и работы журналистом для нескольких интернет-изданий.\n",
    "\n",
    "1. Владимир, мы знаем, что Вы начали сотрудничать с несколькими изданиями еще на младших курсах бакалавриата. Когда и как Вы стали писать тексты для СМИ?\n",
    "\n",
    "Первый опыт работы корреспондентом я получил, будучи на стажировке во Вьетнаме (после третьего курса) – осенью у меня было довольно много свободного времени, поэтому в попытках его заполнить я начал искать работу. Сначала я несколько месяцев я преподавал вьетнамский язык для россиян, которые волею судеб переехали в Ханой, а потом устроился на стажировку в издание «Российская Газета» (РГ).\n",
    "\n",
    "Не могу сказать, что это была какая-то денежная работа, в РГ я скорее учился писать качественные тексты и подстраиваться под требуемый формат. Удаленная работа оказалась прекрасным решением, я мог поехать в какое-нибудь кафе или на природу и работать там. Наверное, только благодаря этому я не бросил эту идею, потому что писать приходилось довольно много и порой в рамках тех направлений, которые мне были не слишком интересны.\n",
    "\n",
    "Спустя пару месяцев меня заметили другие редакторы СМИ, и я написал свои первые большие статьи для изданий «РБК Стиль» и «Ведомости. Как потратить» – там были уже совершенно другие деньги и гораздо больше свободы для творчества, да и какие-то работы можно было выполнять в течение двух-трех дней, никуда не торопясь. Думаю, что примерно с этого момента я начал писать по-настоящему осмысленно.\n",
    "\n",
    "После возвращения в Россию, я ушел из «РГ», на какое-то время ограничившись только лонгридами, а в начале 2024 года устроился корреспондентом в Hi-Tech Mail.ru. Думаю, это был один из самых сложных периодов в моей жизни, поскольку мне приходилось совмещать учебу на четвертом курсе с полноценной восьмичасовой работой. Каждый день проходил по довольно мрачному регламенту: я приезжал в университет, покупал большой капучино, занимал место рядом с зарядкой, писал несколько новостей до начала пар, потом перемещался по аудиториям и продолжал писать, пытаясь сохранить концентрацию и на занятиях, и на материале.\n",
    "\n",
    "Тем не менее, жизнь в таком темпе имеет свой неповторимый шарм, поскольку в «полевых условиях» учит управлять крайне ограниченным набором ресурсов: временем, энергией и мотивацией. Можно сказать, что в этой точке любой проект превращается в спорт, поскольку существует вместе со множеством других дел, претендующих на все свободное время и внимание.\n",
    "\n",
    "Сотрудничать с Hi-Tech я прекратил в конце августа 2024 года, сохранив отношения с другими изданиями и проектами, предлагающими более выгодные условия и свободный график. Я четко определил для себя, что не стану задерживаться на одном месте, а буду постоянно искать новые возможности для развития и получения более справедливого «оффера». В конце концов, получение удовольствия является лишь преходящим побочным эффектом от выполнения работы, нежели ее главной целью.'''\n",
    "\n",
    "#Текст со страницы https://spb.hse.ru/ba/oriental/news/997802008.html\n",
    "\n",
    "word_list = []\n",
    "\n",
    "for word in nltk.tokenize.word_tokenize(text):\n",
    "\n",
    "    norm_form = analyzer.parse(word)[0].normal_form #Тут используется функция, которая делает морфологический разбор и достаёт лемму (словарную форму)\n",
    "\n",
    "    if norm_form in '.,!?':\n",
    "      continue\n",
    "\n",
    "    word_list.append(norm_form)\n",
    "\n",
    "freq_dict = FreqDist(word_list)"
   ]
  },
  {
   "cell_type": "code",
   "execution_count": null,
   "metadata": {
    "colab": {
     "base_uri": "https://localhost:8080/"
    },
    "id": "unjs-94rXhr8",
    "outputId": "95197533-76f2-47c2-eb75-435f593106b4"
   },
   "outputs": [
    {
     "data": {
      "text/plain": [
       "[('в', 19),\n",
       " ('и', 17),\n",
       " ('я', 17),\n",
       " ('на', 10),\n",
       " ('с', 8),\n",
       " ('работа', 8),\n",
       " ('быть', 8),\n",
       " ('для', 7),\n",
       " ('что', 6),\n",
       " ('писать', 6)]"
      ]
     },
     "execution_count": 36,
     "metadata": {},
     "output_type": "execute_result"
    }
   ],
   "source": [
    "freq_dict.most_common(10)"
   ]
  },
  {
   "cell_type": "markdown",
   "metadata": {
    "id": "-wKg8-OMZAQc"
   },
   "source": [
    "### Создание функций\n",
    "\n",
    "Из написанного блока кода, который мы далее хотим использовать, можно сделать функцию. Для этого используется слово def, в скобках объявляются аргументы, которые принимает функция, и с помощью слова return указывается, что эта функция вернёт.\n",
    "\n",
    "Один из стилей написания кода — функциональный стиль — предполагает разделение кода на множество функций, который далее могут запускаться в требуемом порядке."
   ]
  },
  {
   "cell_type": "code",
   "execution_count": null,
   "metadata": {
    "id": "zVApLe-bY_iD"
   },
   "outputs": [],
   "source": [
    "def process_text(text):\n",
    "\n",
    "  word_list = []\n",
    "\n",
    "  for i in nltk.tokenize.word_tokenize(text):\n",
    "\n",
    "      norm_form = analyzer.parse(i)[0].normal_form #Тут используется функция, которая делает морфологический разбор и достаёт лемму\n",
    "      word_list.append(norm_form)\n",
    "\n",
    "  return FreqDist(word_list)"
   ]
  },
  {
   "cell_type": "code",
   "execution_count": null,
   "metadata": {
    "colab": {
     "base_uri": "https://localhost:8080/"
    },
    "id": "N1wLp514ZyLL",
    "outputId": "9d89c414-c163-47f5-f052-f426bc07bb6c"
   },
   "outputs": [
    {
     "data": {
      "text/plain": [
       "FreqDist({'и': 4, ',': 3, 'преимущество': 2, 'я': 2, 'на': 2, '.': 2, 'новость': 2, 'намного': 2, 'ранний': 2, 'главный': 1, ...})"
      ]
     },
     "execution_count": 44,
     "metadata": {},
     "output_type": "execute_result"
    }
   ],
   "source": [
    "new_text = '''Главным преимуществом образования, которое я сейчас получаю, стала возможность легко обрабатывать информацию на китайском и вьетнамском языках – это дает более чем ощутимое преимущество при поиске и написании материала.\n",
    "\n",
    "Многие новости и инсайды намного раньше появляются на восточных ресурсах, поэтому я часто работаю с первоисточниками и выпускаю новости намного раньше большинства других русскоязычных платформ.'''\n",
    "\n",
    "process_text(new_text)"
   ]
  },
  {
   "cell_type": "markdown",
   "metadata": {
    "id": "uPFTIvd3bBY1"
   },
   "source": [
    "Когда вы создаёте функцию, стоит проследить, во всех ли случаях она работает правильным образом (кто знает, к чему её будут применять?), а также прокомментировать код в ней, чтобы, когда вы вернётесь, было понятно, что там происходит.\n",
    "\n",
    "Во всех ли случаях корректно сработает функция выше? И не хочется ли её как-нибудь улучшить, помимо случаев, когда она выдаёт ошибку?"
   ]
  },
  {
   "cell_type": "markdown",
   "metadata": {
    "id": "aAE5U57WsQfV"
   },
   "source": [
    "### Где читать про Питон\n",
    "\n",
    "- [Документация](https://www.python.org/)\n",
    "- [Учебник яндекса](https://education.yandex.ru/handbook/python)\n",
    "- [Хабр](https://habr.com/ru/articles/450474/)\n",
    "- [Курс от Stepik](https://stepik.org/course/58852/promo#toc) с короткими текстовыми блоками и множеством заданий\n",
    "- [Ещё один похожий курс](https://www.w3schools.com/python/default.asp) с большей опорой на примеры"
   ]
  }
 ],
 "metadata": {
  "colab": {
   "provenance": []
  },
  "kernelspec": {
   "display_name": "Python 3 (ipykernel)",
   "language": "python",
   "name": "python3"
  },
  "language_info": {
   "codemirror_mode": {
    "name": "ipython",
    "version": 3
   },
   "file_extension": ".py",
   "mimetype": "text/x-python",
   "name": "python",
   "nbconvert_exporter": "python",
   "pygments_lexer": "ipython3",
   "version": "3.13.1"
  }
 },
 "nbformat": 4,
 "nbformat_minor": 4
}
