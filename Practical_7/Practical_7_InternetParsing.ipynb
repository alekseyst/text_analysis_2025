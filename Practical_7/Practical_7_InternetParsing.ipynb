{
 "cells": [
  {
   "cell_type": "markdown",
   "metadata": {
    "id": "FvH_fpTUcG6m"
   },
   "source": [
    "# Скачивание новостного корпуса\n",
    "\n",
    "Этот набор упражнений должен помочь вам научиться:\n",
    "\n",
    "- выгружать интересующие вас тексты из Интернета\n",
    "- сохранять их в формате, удобном для обработки\n",
    "- выполнять их разметку\n",
    "\n",
    "[Ссылка]() на тетрадку в Google Colab\n",
    "\n",
    "Возможно, если вы решите на практике применить то же самое к своему материалу, эта тетрадка не настолько подробной, как хотелось бы. В этом случае можно и нужно обратиться с вопросами в личные сообщения."
   ]
  },
  {
   "cell_type": "code",
   "execution_count": 1,
   "metadata": {
    "colab": {
     "base_uri": "https://localhost:8080/"
    },
    "id": "ujahIKqc0pTQ",
    "outputId": "4b99ce6a-bc15-4817-cca1-9b7fae9a1f4f"
   },
   "outputs": [],
   "source": [
    "%%capture\n",
    "#Скачиваем пакеты, которых нет в стандартной библиотеке Python\n",
    "!pip install fake-useragent\n",
    "!pip install tqdm"
   ]
  },
  {
   "cell_type": "markdown",
   "metadata": {
    "id": "ycgt059QcOh_"
   },
   "source": [
    "Импортируем нужные для работы модули"
   ]
  },
  {
   "cell_type": "code",
   "execution_count": 42,
   "metadata": {
    "id": "JBvCvA8tk_5c"
   },
   "outputs": [],
   "source": [
    "#Собственно выкачивание файлов из Интернета\n",
    "import requests\n",
    "\n",
    "#Работа с таблицами — понадобится, чтобы хранить наш корпус\n",
    "import pandas as pd\n",
    "\n",
    "#Выполнение быстрых математических вычислений — пригодится, потому что иначе\n",
    "#корпус с большим количеством текстов может долго обрабатываться\n",
    "import numpy as np\n",
    "\n",
    "# Модуль для работы с HTML-файлами\n",
    "from bs4 import BeautifulSoup\n",
    "\n",
    "# Модуль для работы с регулярными выражениями\n",
    "import re\n",
    "\n",
    "#Функция, который измеряет время исполнения фрагмента программы — без неё\n",
    "#в принципе тоже всё будет работать\n",
    "from tqdm.auto import tqdm\n",
    "\n",
    "#Поможет замаскироваться под обычного пользователя в Интернете\n",
    "from fake_useragent import UserAgent\n",
    "\n",
    "#Модуль, чтобы работать со временем — и не быть слишком быстрыми\n",
    "#когда делаем запросы к сайтам\n",
    "import time\n",
    "\n",
    "#Переменные, нужные, чтобы маскироваться под обычного пользователя Интернета\n",
    "ua = UserAgent()\n",
    "headers = {'User-Agent': ua.random}"
   ]
  },
  {
   "cell_type": "markdown",
   "metadata": {
    "id": "JATcSVCBcR4-"
   },
   "source": [
    "## Сбор текстов в Интернете\n",
    "\n",
    "Python позволяет достаточно простым образом скачивать страницы из интернета по ссылке. Например, ниже скачивается и записывается в переменную файл с предыдущего занятия.\n",
    "\n",
    "Мы неоднократно пользовались этим способом, чтобы скачивать файлы с Гитхаба."
   ]
  },
  {
   "cell_type": "code",
   "execution_count": 5,
   "metadata": {
    "colab": {
     "base_uri": "https://localhost:8080/"
    },
    "id": "VGSMO3xJUD13",
    "outputId": "3089d583-39a7-4003-de03-f2bd6bce8fe9"
   },
   "outputs": [
    {
     "data": {
      "text/plain": [
       "<Response [200]>"
      ]
     },
     "execution_count": 5,
     "metadata": {},
     "output_type": "execute_result"
    }
   ],
   "source": [
    "alice_link = 'https://github.com/alekseyst/text_analysis_2025/blob/main/Practical_4/alisa.txt'\n",
    "alice = requests.get(alice_link, headers=headers)\n",
    "alice"
   ]
  },
  {
   "cell_type": "code",
   "execution_count": 7,
   "metadata": {
    "colab": {
     "base_uri": "https://localhost:8080/",
     "height": 70
    },
    "id": "iWYCgfPGUz5x",
    "outputId": "fac8259a-68e6-487b-d042-97d43f340437"
   },
   "outputs": [
    {
     "data": {
      "text/plain": [
       "'\\n\\n\\n\\n\\n\\n<!DOCTYPE html>\\n<html\\n  lang=\"en\"\\n  \\n  data-color-mode=\"auto\" data-light-theme=\"light\" data-dark-theme=\"dark\"\\n  data-a11y-animated-images=\"system\" data-a11y-link-underlines=\"true\"\\n  \\n  >\\n\\n\\n\\n  <head>\\n    <meta charset=\"utf-8\">\\n  <link rel=\"dns-prefetch\" href=\"https://github.githubassets.com\">\\n  <link rel=\"dns-prefetch\" href=\"https://avatars.githubusercontent.com\">\\n  <link rel=\"dns-prefetch\" h'"
      ]
     },
     "execution_count": 7,
     "metadata": {},
     "output_type": "execute_result"
    }
   ],
   "source": [
    "#Как мы видим, результат запроса представляет собой какой-то объект.\n",
    "#Чтобы извлечь его содержимое, нужно обратиться к атрибуту text.\n",
    "\n",
    "alice.text[:400]"
   ]
  },
  {
   "cell_type": "markdown",
   "metadata": {
    "id": "tTgsFdZkVqWW"
   },
   "source": [
    "## HTML\n",
    "\n",
    "Если мы, однако, имеем дело не с txt-файлами, выложенными в Интернет, а с обычными страницами, приходится иметь дело с HTML."
   ]
  },
  {
   "cell_type": "code",
   "execution_count": 8,
   "metadata": {
    "colab": {
     "base_uri": "https://localhost:8080/",
     "height": 105
    },
    "id": "wk8iIJKnQb7c",
    "outputId": "6465f3a5-5fae-46a2-e2b1-83f1411db905"
   },
   "outputs": [
    {
     "data": {
      "text/plain": [
       "'<!DOCTYPE html>\\n<html lang=\"ru-RU\"\\n\\titemscope \\n\\titemtype=\"http://schema.org/WebSite\" \\n\\tprefix=\"og: http://ogp.me/ns#\"  >\\n<head><!-- Yandex.Metrika informer --> <a href=\"https://metrika.yandex.ru/stat/?id=52125751&amp;from=informer\" target=\"_blank\" rel=\"nofollow\"><img src=\"https://informer.yandex.ru/informer/52125751/3_1_FFFFFFFF_EFEFEFFF_0_pageviews\" style=\"width:88px; height:31px; border:0;\" alt=\"Яндекс.Метрика\" title=\"Яндекс.Метрика: данные за сегодня (просмотры, визиты и уникальные посетители)\" class=\"ym-advanced-informer\" data-cid=\"52125751\" data-lang=\"ru\" /></a> <!-- /Yandex.Metrika informer --> <!-- Yandex.Metrika counter --> <script type=\"text/javascript\" > (function(m,e,t,r,i,k,a){m[i]=m[i]||function(){(m[i].a=m[i].a||[]).push(arguments)}; m[i].l=1*new Date();k=e.createElement(t),a'"
      ]
     },
     "execution_count": 8,
     "metadata": {},
     "output_type": "execute_result"
    }
   ],
   "source": [
    "#HTML-страница новости\n",
    "\n",
    "news_cher_link = \"https://cher-is.com/izvestnaya-nejroset-sostavila-obrazy-cherepovtsa-i-vologdy/\"\n",
    "html_cher_request_result = requests.get(news_cher_link, headers=headers)\n",
    "html_cher = html_cher_request_result.text\n",
    "html_cher[:800]"
   ]
  },
  {
   "cell_type": "markdown",
   "metadata": {
    "id": "RQkP_t2fOIRJ"
   },
   "source": [
    "Конечно, страшно, но не очень.\n",
    "\n",
    "Если хочется прямо разобраться с HTML, вот, например, [ссылка](https://www.w3schools.com/html/html_intro.asp). А так нам важно знать, что всякие элементы располагаются в нутри тегов, и выглядит это как-то так (это тэг \\<p\\>, который используется для разбивки страницы на абзацы — paragraph):\n",
    "\n",
    "\\<p\\>This is a paragraph.\\</p\\>\n",
    "\n",
    "Обычно достаточно уметь найти, в каком тэге находится нужная информация, и извлечь её. Для поиска нужно всего лишь нажать на то, что вы хотите извлечь со страницы правой клавишей — Inspect, и после этого вы попадёте в удивительный мир HTML. Но! Вас переведут ровно к тому элементу, который вы ткнули. После этого, поводив по экрану, на котором подсвечиваются блоки, соответствующие тэгам, можно наиболее точно найти то, что вас интересует.\n",
    "\n",
    "Новость выкачанной нами страницы, включая заголовок и картинку, находится в тэге \\<div class=\"media-body\"\\>Содержимое\\</div\\>.\n",
    "\n",
    "Для извлечения можно использовать библиотеку BeautifulSoup, которую мы уже импортировали."
   ]
  },
  {
   "cell_type": "code",
   "execution_count": 83,
   "metadata": {
    "colab": {
     "base_uri": "https://localhost:8080/"
    },
    "id": "TcjBTNZKdqQQ",
    "outputId": "911dfb52-6a6e-4f01-d13a-518f3a37fb36"
   },
   "outputs": [
    {
     "data": {
      "text/plain": [
       "<div class=\"media-body\">\n",
       "<div class=\"blog-lg-box\">\n",
       "<a class=\"img-responsive\" href=\"https://cher-is.com/izvestnaya-nejroset-sostavila-obrazy-cherepovtsa-i-vologdy/\" title=\"Известная нейросеть составила образы Череповца и Вологды\">\n",
       "<img alt=\"\" class=\"img-responsive wp-post-image\" height=\"408\" loading=\"lazy\" sizes=\"(max-width: 264px) 100vw, 264px\" src=\"https://cher-is.com/wp-content/uploads/2023/02/cherepovets.png\" srcset=\"https://cher-is.com/wp-content/uploads/2023/02/cherepovets.png 264w, https://cher-is.com/wp-content/uploads/2023/02/cherepovets-194x300.png 194w\" width=\"264\"/>\n",
       "</a></div>\n",
       "<div class=\"blog-post-lg\">\n",
       "<a href=\"https://cher-is.com/author/admin/\"><img alt=\"\" class=\"img-responsive img-circle avatar-40 photo\" height=\"40\" loading=\"lazy\" src=\"https://secure.gravatar.com/avatar/12d14aad72f86a5c2271b4922c91b55f?s=40&amp;d=mm&amp;r=g\" srcset=\"https://secure.gravatar.com/avatar/12d14aad72f86a5c2271b4922c91b55f?s=80&amp;d=mm&amp;r=g 2x\" width=\"40\"/></a>\n",
       "\t\t\t\tАвтор:<a href=\"https://cher-is.com/author/admin/\">ЧИ</a>\n",
       "<div class=\"blog-tags-lg\"><i class=\"fa fa-tags\"></i><a href=\"https://cher-is.com/tag/midjourney/\" rel=\"tag\">Midjourney</a>, <a href=\"https://cher-is.com/tag/nejroset/\" rel=\"tag\">нейросеть</a>, <a href=\"https://cher-is.com/tag/cherepovets/\" rel=\"tag\">Череповец</a></div>\n",
       "</div>\n",
       "<h3><a class=\"entry-title\" href=\"https://cher-is.com/izvestnaya-nejroset-sostavila-obrazy-cherepovtsa-i-vologdy/\">Известная нейросеть составила образы Череповца и Вологды</a></h3>\n",
       "<p>Нейросеть Midjourney изобразила города России в образах, и получились герои для мрачных сказок.</p>\n",
       "<p>На этот раз автор телеграм-канала «Нейросеть видит» сформировал запрос в Midjourney так, чтобы нейросеть показала российские города в человеческих обличьях. Например, две столицы, Москва и Санкт-Петербург, выглядят как модная пара. Девушка — в стильном кокошнике, а парень с уложенными бородой и усами.</p>\n",
       "<p>Череповец изображён в виде монаха, а Вологда — знатной женщины.</p>\n",
       "<p> </p>\n",
       "</div>"
      ]
     },
     "execution_count": 83,
     "metadata": {},
     "output_type": "execute_result"
    }
   ],
   "source": [
    "#Просим модуль проанализировать наш файл\n",
    "html_cher_soup = BeautifulSoup(html_cher, 'html.parser')\n",
    "\n",
    "#Ищем\n",
    "body_cher_soup = html_cher_soup.find(\"div\", class_=\"media-body\")\n",
    "\n",
    "#Тэг — первая переменная, класс — вторая\n",
    "#Если хотите найти несколько тэгов с одинаковыми классами, используйте find_all\n",
    "#Они будут выданы в виде списка объектов BeautifulSoup — из каждого придётся\n",
    "#извлекать текст\n",
    "\n",
    "body_cher_soup"
   ]
  },
  {
   "cell_type": "markdown",
   "metadata": {
    "id": "2F14mcfVlpjn"
   },
   "source": [
    "Уже похоже на новость! Если теперь удалить все оставшиеся тэги, которые нас явно не интересуют, можно получить собственно текст."
   ]
  },
  {
   "cell_type": "code",
   "execution_count": 10,
   "metadata": {
    "colab": {
     "base_uri": "https://localhost:8080/",
     "height": 88
    },
    "id": "monf084FmEit",
    "outputId": "44a3f2dd-7245-4eaa-aa3c-72b4ba06f1f1"
   },
   "outputs": [
    {
     "data": {
      "text/plain": [
       "'Автор:ЧИ\\nMidjourney, нейросеть, Череповец\\n\\nИзвестная нейросеть составила образы Череповца и Вологды\\nНейросеть Midjourney изобразила города России в образах, и получились герои для мрачных сказок.\\nНа этот раз автор телеграм-канала «Нейросеть видит» сформировал запрос в Midjourney так, чтобы нейросеть показала российские города в человеческих обличьях. Например, две столицы, Москва и Санкт-Петербург, выглядят как модная пара. Девушка — в стильном кокошнике, а парень с уложенными бородой и усами.\\nЧереповец изображён в виде монаха, а Вологда — знатной женщины.'"
      ]
     },
     "execution_count": 10,
     "metadata": {},
     "output_type": "execute_result"
    }
   ],
   "source": [
    "cher_news = re.sub('<[^<]+?>', '', body_cher_soup.text).strip()\n",
    "\n",
    "#Как это работает? Регулярное выражение заменяет все (практически все) тэги на\n",
    "#пустую строку. Метод .strip() удаляет лишние переносы строк и подобное по краям\n",
    "#новости\n",
    "#Осторожно! Если вы занимаетесь чем-то серьёзным и работаете с потенциально\n",
    "#опасными сайтами, удалять тэги следует другим способом.\n",
    "\n",
    "cher_news"
   ]
  },
  {
   "cell_type": "markdown",
   "metadata": {
    "id": "XJN-gv9Yrhxa"
   },
   "source": [
    "Чтобы избавиться от автора, названия картинки и остального, можно их удалить с помощью кода или извлекать из текста новости только то, что содержится в тэгах \\<p\\>\\</p\\>."
   ]
  },
  {
   "cell_type": "code",
   "execution_count": 11,
   "metadata": {
    "colab": {
     "base_uri": "https://localhost:8080/",
     "height": 70
    },
    "id": "Y5Y_tMFmnjtM",
    "outputId": "b8103303-2c84-4c93-9857-293a6ebf2c25"
   },
   "outputs": [
    {
     "data": {
      "text/plain": [
       "'Нейросеть Midjourney изобразила города России в образах, и получились герои для мрачных сказок.На этот раз автор телеграм-канала «Нейросеть видит» сформировал запрос в Midjourney так, чтобы нейросеть показала российские города в человеческих обличьях. Например, две столицы, Москва и Санкт-Петербург, выглядят как модная пара. Девушка — в стильном кокошнике, а парень с уложенными бородой и усами.Череповец изображён в виде монаха, а Вологда — знатной женщины.'"
      ]
     },
     "execution_count": 11,
     "metadata": {},
     "output_type": "execute_result"
    }
   ],
   "source": [
    "cher_news_no_author = ''\n",
    "\n",
    "#Приходится использовать цикл, потому что метод find_all выдаёт как результат\n",
    "#не строки, а объекты модуля Beautiful Soup\n",
    "\n",
    "for p in body_cher_soup.find_all(\"p\"):\n",
    "  cher_news_no_author += p.text.strip()\n",
    "\n",
    "cher_news_no_author"
   ]
  },
  {
   "cell_type": "markdown",
   "metadata": {},
   "source": [
    "### Задание\n",
    "\n",
    "Скачайте страницу с любой другой новостью с любого новостного портала. Выведите с этой страницы заголовок, дату написания и текст. Для этого придётся установить, где эти элементы находятся в html-коде."
   ]
  },
  {
   "cell_type": "code",
   "execution_count": null,
   "metadata": {},
   "outputs": [],
   "source": [
    "#Впишите ваш код\n",
    "\n"
   ]
  },
  {
   "cell_type": "markdown",
   "metadata": {
    "id": "ImCR1tQptkBU"
   },
   "source": [
    "## Одна новость — хорошо, но мало\n",
    "\n",
    "Чтобы сделать корпус, выкачивания одной интернет-страницы, конечно, недостаточно. Хотелось бы выкачивать сразу много текстов — или в целом из Интернета, или хотя бы с одного сайта.\n",
    "\n",
    "В целом, выкачать всю нужную информацию с сайта можно, найдя закономерность в том, как называются её страницы. Иногда это просто, например, каждая из требуемых страниц может быть просто пронумерована, иногда требуется больше изощрённости.\n",
    "\n",
    "Возьмём в качестве примера конкретный роман с сайта [ranobehub.org](https://ranobehub.org/ranobe/506/1/1.1). Обратите внимание, как на нём устроены названия интернет-страниц: романы и главы обозначаются цифрами, причём эти цифры последовательные. Правда, в некоторых случаях к ним добавляется часть, записанная как \".1\" или \".01\".\n",
    "\n",
    "Для простоты в этом примере мы будем просто игнорировать такие страницы, но можно написать дополнительный код — например, ряд условных конструкций, который будет учитывать эту проблему. Или же пойти по пути, который описан в следующем разделе — и, например, брать ссылку на каждую следующую главу на странице предыдущей, как бы \"листая\" главы."
   ]
  },
  {
   "cell_type": "code",
   "execution_count": 60,
   "metadata": {},
   "outputs": [
    {
     "data": {
      "application/vnd.jupyter.widget-view+json": {
       "model_id": "0c067e454cb74a429b8231f4d2137426",
       "version_major": 2,
       "version_minor": 0
      },
      "text/plain": [
       "  0%|          | 0/212 [00:00<?, ?it/s]"
      ]
     },
     "metadata": {},
     "output_type": "display_data"
    }
   ],
   "source": [
    "#Неизменяемая часть ссылки\n",
    "#Обратите внимание, что если бы мы хотели смотреть разные романы / разные тома\n",
    "#неизменяемой была бы только текстовая часть, а численное значение на конце\n",
    "#тоже бы менялось\n",
    "prefix = \"https://ranobehub.org/ranobe/506/1/\"\n",
    "\n",
    "pages_ranobe = []\n",
    "\n",
    "#Гененируем ссылки и идём по ним\n",
    "#Функция range() выдаёт в цикле числа от 1 до значения в скобках\n",
    "for link_num in tqdm(range(212)):\n",
    "    link = prefix + str(link_num)\n",
    "\n",
    "    #Будем ждать между страницами, чтобы нас не заблокировали...\n",
    "    #Если заблокируют, придётся пройти капчу\n",
    "    #Я написал случайное короткое время — но это уже заставляет подождать 2 минуты\n",
    "    #При большем объёме данных стоит подобрать минимальное подходящее значение\n",
    "    time.sleep(0.5)\n",
    "\n",
    "    #Скачиваем\n",
    "    page_ranobe = requests.get(link, headers=headers)\n",
    "\n",
    "    #Делаем небольшую паузу, потому что нас заблокируют...\n",
    "    \n",
    "    #Пропускаем страницы, на которых ничего не нашлось, потому что мы не учли часть \".01\"\n",
    "    if page_ranobe.status_code == 404:\n",
    "        continue\n",
    "\n",
    "    #Добавляем страницу в список\n",
    "    pages_ranobe.append([link, page_ranobe])"
   ]
  },
  {
   "cell_type": "code",
   "execution_count": 66,
   "metadata": {},
   "outputs": [],
   "source": [
    "#Создаём переменную для индекса и итогового списка с текстами\n",
    "i = 0\n",
    "ranobe_parsed = []\n",
    "\n",
    "#Извлекаем с каждой страницы нужную информацию\n",
    "#Идём по страницам\n",
    "for link, page_ranobe in pages_ranobe:\n",
    "    \n",
    "    #Парсим\n",
    "    soup = BeautifulSoup(page_ranobe.text, 'html.parser')\n",
    "    \n",
    "    #Извлекаем заголовок\n",
    "    title = soup.find(\"h1\", class_=\"ui header\").text\n",
    "    \n",
    "    #Извлекаем текст, для этого идём по абзацам\n",
    "    text = ''\n",
    "    text_raw = soup.find(\"div\", class_=\"ui text container\")\n",
    "    for p in text_raw.find_all(\"p\"):\n",
    "        text += p.text\n",
    "\n",
    "    #Записываем информацию в список\n",
    "    ranobe_parsed.append([i, title, text, link])\n",
    "    #Увеличиваем индекс на 1\n",
    "    i += 1"
   ]
  },
  {
   "cell_type": "markdown",
   "metadata": {
    "id": "IIzGSLJadMdH"
   },
   "source": [
    "## Экспорт текстов\n",
    "\n",
    "Осталось сохранить полученные тексты, чтобы не выкачивать каждый раз и иметь доступ в любой момент. Для этого оформим их в виде таблицы, которая содержит всю метаминформацию."
   ]
  },
  {
   "cell_type": "code",
   "execution_count": 70,
   "metadata": {
    "colab": {
     "base_uri": "https://localhost:8080/",
     "height": 206
    },
    "id": "yKsEELhvdKUT",
    "outputId": "4a0a5f7f-9e18-4dd5-e04b-db7ff9452869",
    "scrolled": true
   },
   "outputs": [
    {
     "data": {
      "text/html": [
       "<div>\n",
       "<style scoped>\n",
       "    .dataframe tbody tr th:only-of-type {\n",
       "        vertical-align: middle;\n",
       "    }\n",
       "\n",
       "    .dataframe tbody tr th {\n",
       "        vertical-align: top;\n",
       "    }\n",
       "\n",
       "    .dataframe thead th {\n",
       "        text-align: right;\n",
       "    }\n",
       "</style>\n",
       "<table border=\"1\" class=\"dataframe\">\n",
       "  <thead>\n",
       "    <tr style=\"text-align: right;\">\n",
       "      <th></th>\n",
       "      <th>index</th>\n",
       "      <th>title</th>\n",
       "      <th>text</th>\n",
       "      <th>link</th>\n",
       "    </tr>\n",
       "  </thead>\n",
       "  <tbody>\n",
       "    <tr>\n",
       "      <th>0</th>\n",
       "      <td>0</td>\n",
       "      <td>Примечание/Реквизиты переводчиков</td>\n",
       "      <td>Доброго времени суток, уважаемые читатели. Сег...</td>\n",
       "      <td>https://ranobehub.org/ranobe/506/1/0</td>\n",
       "    </tr>\n",
       "    <tr>\n",
       "      <th>1</th>\n",
       "      <td>1</td>\n",
       "      <td>Глава 2. Испытание Навыка</td>\n",
       "      <td>Думая о своих Навыках, я отправился домой. В п...</td>\n",
       "      <td>https://ranobehub.org/ranobe/506/1/2</td>\n",
       "    </tr>\n",
       "    <tr>\n",
       "      <th>2</th>\n",
       "      <td>2</td>\n",
       "      <td>Глава 3. Чудесное Сочетание</td>\n",
       "      <td>Немного остыв.... мне в голову пришла гениальн...</td>\n",
       "      <td>https://ranobehub.org/ranobe/506/1/3</td>\n",
       "    </tr>\n",
       "    <tr>\n",
       "      <th>3</th>\n",
       "      <td>3</td>\n",
       "      <td>Глава 4. План на будущее</td>\n",
       "      <td>Покончив с вторжением грабителей, я могу након...</td>\n",
       "      <td>https://ranobehub.org/ranobe/506/1/4</td>\n",
       "    </tr>\n",
       "    <tr>\n",
       "      <th>4</th>\n",
       "      <td>4</td>\n",
       "      <td>Глава 5. Способность и Первая Битва</td>\n",
       "      <td>Похоже, что у【Вырезать/Вставить】не так уж и мн...</td>\n",
       "      <td>https://ranobehub.org/ranobe/506/1/5</td>\n",
       "    </tr>\n",
       "  </tbody>\n",
       "</table>\n",
       "</div>"
      ],
      "text/plain": [
       "   index                                title  \\\n",
       "0      0    Примечание/Реквизиты переводчиков   \n",
       "1      1            Глава 2. Испытание Навыка   \n",
       "2      2          Глава 3. Чудесное Сочетание   \n",
       "3      3             Глава 4. План на будущее   \n",
       "4      4  Глава 5. Способность и Первая Битва   \n",
       "\n",
       "                                                text  \\\n",
       "0  Доброго времени суток, уважаемые читатели. Сег...   \n",
       "1  Думая о своих Навыках, я отправился домой. В п...   \n",
       "2  Немного остыв.... мне в голову пришла гениальн...   \n",
       "3  Покончив с вторжением грабителей, я могу након...   \n",
       "4  Похоже, что у【Вырезать/Вставить】не так уж и мн...   \n",
       "\n",
       "                                   link  \n",
       "0  https://ranobehub.org/ranobe/506/1/0  \n",
       "1  https://ranobehub.org/ranobe/506/1/2  \n",
       "2  https://ranobehub.org/ranobe/506/1/3  \n",
       "3  https://ranobehub.org/ranobe/506/1/4  \n",
       "4  https://ranobehub.org/ranobe/506/1/5  "
      ]
     },
     "execution_count": 70,
     "metadata": {},
     "output_type": "execute_result"
    }
   ],
   "source": [
    "#Добавляем в особую табличку тексты. Для этого подаём функции DataFrame словарь\n",
    "#В котором на первом месте — название столбца, на втором — содержимое столбца\n",
    "#Все столбцы должны быть одинаковой длины\n",
    "ranobe_corpus = pd.DataFrame(ranobe_parsed, columns=['index', 'title', 'text', 'link'])\n",
    "\n",
    "ranobe_corpus.head()"
   ]
  },
  {
   "cell_type": "code",
   "execution_count": 35,
   "metadata": {
    "id": "q0QMWliFh7SW"
   },
   "outputs": [],
   "source": [
    "#Экспортируем файл. В обычном Питоне он запишется на компьютер ()\n",
    "ranobe_corpus.to_csv('ranobe_corpus.tsv', sep = '\\t', encoding='utf-8',  index = False)"
   ]
  },
  {
   "cell_type": "markdown",
   "metadata": {},
   "source": [
    "## Выгрузка страниц без закономерностей в названии (краулер)\n",
    "\n",
    "Рассмотрим сайт Панорамы. Ссылка на новость на этом сайте содержит просто транслитерированное название (https://panorama.pub/news/osibki-pri-vvode-pin-koda), поэтому мы не имеем к ней прямого доступа и можем только откуда-то извлечь с сайта.\n",
    "\n",
    "На сайте Панорамы есть страница с новостями за весь день вот такого вида: https://panorama.pub/news/28-2-2024\n",
    "\n",
    "Мы будем идти по этим страницам и выгружать ссылки со всеми новостями за каждый день."
   ]
  },
  {
   "cell_type": "code",
   "execution_count": 71,
   "metadata": {
    "id": "L7APiWL0RPHK"
   },
   "outputs": [],
   "source": [
    "#Определяем дату\n",
    "\n",
    "from datetime import datetime, timedelta"
   ]
  },
  {
   "cell_type": "code",
   "execution_count": 72,
   "metadata": {
    "id": "45LM1u4WDlvD"
   },
   "outputs": [],
   "source": [
    "#Генерируем даты за последние n=100 дней\n",
    "\n",
    "dates = []\n",
    "n = 100\n",
    "\n",
    "date_list = [datetime.today() - timedelta(days=x) for x in range(n)]"
   ]
  },
  {
   "cell_type": "code",
   "execution_count": 73,
   "metadata": {
    "colab": {
     "base_uri": "https://localhost:8080/"
    },
    "id": "EOv2m3h0D-xI",
    "outputId": "abfe6569-ad4b-4e0c-adf1-2e895a19bed9"
   },
   "outputs": [],
   "source": [
    "#Преобразуем их в тот формат, который на странице новостей: день-месяц-год\n",
    "#Запись с \"f\" перед началом строки позволяет сгенерировать строку в том виде,\n",
    "#в котором нам удобно: в фигурные скобки {} можно подставить какое-то значение,\n",
    "#например, переменную\n",
    "\n",
    "date_list = [f\"{day.day}-{day.month}-{day.year}\" for day in date_list]"
   ]
  },
  {
   "cell_type": "code",
   "execution_count": 74,
   "metadata": {
    "colab": {
     "base_uri": "https://localhost:8080/",
     "height": 36
    },
    "id": "1vIXurmqSHRf",
    "outputId": "98f1e176-3fc4-4606-ba79-8125cb50c76d"
   },
   "outputs": [
    {
     "data": {
      "text/plain": [
       "'22-11-2024'"
      ]
     },
     "execution_count": 74,
     "metadata": {},
     "output_type": "execute_result"
    }
   ],
   "source": [
    "#Вот последняя дата, на которую мы смотрим\n",
    "\n",
    "date_list[-1]"
   ]
  },
  {
   "cell_type": "code",
   "execution_count": 75,
   "metadata": {
    "colab": {
     "base_uri": "https://localhost:8080/",
     "height": 49,
     "referenced_widgets": [
      "ee070e54dc504baea00d51a678c62eee",
      "4578c02dc7c64bb8a046686ed2ef036a",
      "d7ac4baedae24e7ead2ff430e7284265",
      "9525ed31f8e542b281789a11eacd486d",
      "07873f54e8494e35816774bd9a0af8df",
      "ce5ae80e65ce465c9d9633eee8bb7d7c",
      "cab30299aef24351b588107eb5a7c103",
      "f6ea76242c924ae5ab2a598a4c9ef7eb",
      "b039b0231c134693b5b5b6b9d8699870",
      "7337cb7b1e304d73821b56a2d31f49c8",
      "d92295d15fe24934aa59e46873c65b16"
     ]
    },
    "id": "6HozQ_4hTXZf",
    "outputId": "f06fbb36-ed6f-4904-e80f-77c28e8a1abf"
   },
   "outputs": [
    {
     "data": {
      "application/vnd.jupyter.widget-view+json": {
       "model_id": "86ba9c3652c546d6bc30a716b28f69a3",
       "version_major": 2,
       "version_minor": 0
      },
      "text/plain": [
       "  0%|          | 0/100 [00:00<?, ?it/s]"
      ]
     },
     "metadata": {},
     "output_type": "display_data"
    }
   ],
   "source": [
    "#В этой огромной ячейке мы, собственно, выкачиваем наши новости\n",
    "#Мы сразу складываем их в списки, которые потом будет удобно преобразовать в таблицу с метаинформацией\n",
    "all_titles = []\n",
    "all_dates = []\n",
    "all_links = []\n",
    "all_texts = []\n",
    "all_spheres = []\n",
    "\n",
    "#Начинаем цикл, каждая итерация которого обработает одну дату\n",
    "#Перечисляем даты (функция tqdm позволяет примерно оценивать время исполнения программы)\n",
    "for date in tqdm(date_list):\n",
    "\n",
    "  #Генерируем из даты ссылку\n",
    "  page = f\"https://panorama.pub/news/{date}\"\n",
    "\n",
    "  #Выкачиваем страницу\n",
    "  result = requests.get(page)\n",
    "  html = result.text\n",
    "\n",
    "  #Парсим html, чтобы извлечь из него нужный фрагмент\n",
    "  soup = BeautifulSoup(html)\n",
    "\n",
    "  #Извлекаем и преобразуем в список строк, содержащих новости\n",
    "  titles = soup.find_all('div', {'class': \"pt-2 text-xl lg:text-lg xl:text-base text-center font-semibold\"})\n",
    "  titles = [x.text.strip() for x in titles]\n",
    "\n",
    "  #Добавляем извлечённые новости к списку заголовков, которые будут потом в табличке с метаинформацией\n",
    "  all_titles.extend(titles)\n",
    "\n",
    "  #Добавляем в список и информациями о датах столько дат, сколько у нас заголовков статей\n",
    "  all_dates.extend([date] * len(titles))\n",
    "\n",
    "  #Извлекаем ссылки на конкретные новости\n",
    "  #Для этого нам приходится найти тег со ссылкой на неё. Но оказывается, что ссылка\n",
    "  #не полная — и мы добавляем в начало адрес основной страницы Панорамы\n",
    "  links = soup.find_all('a', {'class': \"flex flex-col rounded-md hover:text-secondary hover:bg-accent/[.1] mb-2\"}, href=True)\n",
    "  links = [f\"https://panorama.pub{link['href']}\" for link in links]\n",
    "\n",
    "  #Добавляем ссылки в список для таблички\n",
    "  all_links.extend(links)\n",
    "\n",
    "  #Идём по каждой из извлечённых ссылок\n",
    "  for link in links:\n",
    "\n",
    "    #Скачиваем её и парсим\n",
    "    result = requests.get(link)\n",
    "    html = result.text\n",
    "    soup = BeautifulSoup(html)\n",
    "\n",
    "    #Извлекаем тело статьи\n",
    "    page_text = soup.find('div', {'itemprop': \"articleBody\"})\n",
    "\n",
    "    #Извлекаем только то, что в абзацах\n",
    "    lines = [line.text.strip() for line in page_text.find_all('p')]\n",
    "\n",
    "    #Соединяем абзацы в одну строку, убираем неразрывные пробелы и переносы строки\n",
    "    all_texts.extend([' '.join(lines).replace('\\xa0', \" \").replace('\\n', ' ')])\n",
    "    sphere = soup.find('a', {'class': \"badge\"})\n",
    "    if sphere == None:\n",
    "      all_spheres.append(sphere)\n",
    "    else:\n",
    "      all_spheres.append(sphere.text)\n",
    "\n",
    "#Это всё выглядит сложно, но суть в том, что необходимо разобраться с тем\n",
    "#откуда получить ссылки с нужной информацией  — а затем их выкачать и\n",
    "#извлечь информацию"
   ]
  },
  {
   "cell_type": "code",
   "execution_count": 81,
   "metadata": {
    "colab": {
     "base_uri": "https://localhost:8080/",
     "height": 124
    },
    "id": "WXbRa80_WmLx",
    "outputId": "cce284a6-c27f-4b39-e1a7-409beb294724"
   },
   "outputs": [
    {
     "data": {
      "text/plain": [
       "'При большом стечении знатной публики в Верхнем Новгороде состоялось открытие юбилейного пятисотого филиала Императорской голубиной почты. На церемонии присутствовали Его Превосходительство, генерал-губернатор Фома Никитин, представители дворянского собрания и главный голубятник Империи, действительный статский советник, граф Иосиф Чёрный-Воронков. Новое отделение расположено в специально построенном здании в русском стиле с позолоченными куполами. Все служащие голуби одеты в миниатюрные мундиры по образцу почтового ведомства, а особо отличившимся особям пожалованы серебряные кольца с императорским вензелем. «Уважаемый губернатор, наши голуби лучшие на планете: мы им встроили навигаторы и датчики, позволяющие им обходить дивизионы наших зенитчиков. Мы научили пользоваться птиц средствами радиоэлектронной борьбы. Отсель утеря писем не будет превышать 20%», – пояснил Чёрный-Воронков. Граф заверил, что все письма и телеграммы будут доставляться до адресата в течение недели, а завершение своего визита в Верхний подарил филиалу чёрный почтовый автомобиль для перевозки корреспонденции.'"
      ]
     },
     "execution_count": 81,
     "metadata": {},
     "output_type": "execute_result"
    }
   ],
   "source": [
    "#Как выглядит наш текст\n",
    "all_texts[1]"
   ]
  },
  {
   "cell_type": "code",
   "execution_count": 77,
   "metadata": {
    "colab": {
     "base_uri": "https://localhost:8080/"
    },
    "id": "0twbh5vuQPbO",
    "outputId": "d3a4332a-230e-4ac5-d9dd-698d648fd598",
    "scrolled": true
   },
   "outputs": [
    {
     "data": {
      "text/plain": [
       "True"
      ]
     },
     "execution_count": 77,
     "metadata": {},
     "output_type": "execute_result"
    }
   ],
   "source": [
    "#Убедимся, что мы ничего не сломали, и у нас столько же заголовков, сколько дат\n",
    "len(all_titles) == len(all_dates)"
   ]
  },
  {
   "cell_type": "code",
   "execution_count": 78,
   "metadata": {
    "colab": {
     "base_uri": "https://localhost:8080/",
     "height": 206
    },
    "id": "yKsEELhvdKUT",
    "outputId": "4a0a5f7f-9e18-4dd5-e04b-db7ff9452869",
    "scrolled": true
   },
   "outputs": [
    {
     "data": {
      "text/html": [
       "<div>\n",
       "<style scoped>\n",
       "    .dataframe tbody tr th:only-of-type {\n",
       "        vertical-align: middle;\n",
       "    }\n",
       "\n",
       "    .dataframe tbody tr th {\n",
       "        vertical-align: top;\n",
       "    }\n",
       "\n",
       "    .dataframe thead th {\n",
       "        text-align: right;\n",
       "    }\n",
       "</style>\n",
       "<table border=\"1\" class=\"dataframe\">\n",
       "  <thead>\n",
       "    <tr style=\"text-align: right;\">\n",
       "      <th></th>\n",
       "      <th>index</th>\n",
       "      <th>date</th>\n",
       "      <th>sphere</th>\n",
       "      <th>title</th>\n",
       "      <th>text</th>\n",
       "      <th>link</th>\n",
       "    </tr>\n",
       "  </thead>\n",
       "  <tbody>\n",
       "    <tr>\n",
       "      <th>0</th>\n",
       "      <td>0</td>\n",
       "      <td>1-3-2025</td>\n",
       "      <td>Политика</td>\n",
       "      <td>На официальном сайте Зеленского появилась альт...</td>\n",
       "      <td>После неудачного визита Владимира Зеленского в...</td>\n",
       "      <td>https://panorama.pub/news/na-oficialnom-sajte-...</td>\n",
       "    </tr>\n",
       "    <tr>\n",
       "      <th>1</th>\n",
       "      <td>1</td>\n",
       "      <td>1-3-2025</td>\n",
       "      <td>Общество</td>\n",
       "      <td>В Российской империи открыли 500-е отделение г...</td>\n",
       "      <td>При большом стечении знатной публики в Верхнем...</td>\n",
       "      <td>https://panorama.pub/news/otkryli-500-e-otdele...</td>\n",
       "    </tr>\n",
       "    <tr>\n",
       "      <th>2</th>\n",
       "      <td>2</td>\n",
       "      <td>1-3-2025</td>\n",
       "      <td>Общество</td>\n",
       "      <td>«Принял за спам-бота»: в Петербурге задержали ...</td>\n",
       "      <td>В Санкт-Петербурге задержали 38-летнего местно...</td>\n",
       "      <td>https://panorama.pub/news/prinal-za-spam-bota-v-2</td>\n",
       "    </tr>\n",
       "    <tr>\n",
       "      <th>3</th>\n",
       "      <td>3</td>\n",
       "      <td>28-2-2025</td>\n",
       "      <td>Политика</td>\n",
       "      <td>Киевлян обязали сдать процессоры из своих дома...</td>\n",
       "      <td>Украина в рамках выполнения сделки с Дональдом...</td>\n",
       "      <td>https://panorama.pub/news/kievlane-obazany-sda...</td>\n",
       "    </tr>\n",
       "    <tr>\n",
       "      <th>4</th>\n",
       "      <td>4</td>\n",
       "      <td>28-2-2025</td>\n",
       "      <td>Общество</td>\n",
       "      <td>Кошка, последние 15 лет придумывавшая все знак...</td>\n",
       "      <td>В штаб-квартире издательского дома «Коммерсант...</td>\n",
       "      <td>https://panorama.pub/news/koska-poslednie-15-l...</td>\n",
       "    </tr>\n",
       "  </tbody>\n",
       "</table>\n",
       "</div>"
      ],
      "text/plain": [
       "   index       date    sphere  \\\n",
       "0      0   1-3-2025  Политика   \n",
       "1      1   1-3-2025  Общество   \n",
       "2      2   1-3-2025  Общество   \n",
       "3      3  28-2-2025  Политика   \n",
       "4      4  28-2-2025  Общество   \n",
       "\n",
       "                                               title  \\\n",
       "0  На официальном сайте Зеленского появилась альт...   \n",
       "1  В Российской империи открыли 500-е отделение г...   \n",
       "2  «Принял за спам-бота»: в Петербурге задержали ...   \n",
       "3  Киевлян обязали сдать процессоры из своих дома...   \n",
       "4  Кошка, последние 15 лет придумывавшая все знак...   \n",
       "\n",
       "                                                text  \\\n",
       "0  После неудачного визита Владимира Зеленского в...   \n",
       "1  При большом стечении знатной публики в Верхнем...   \n",
       "2  В Санкт-Петербурге задержали 38-летнего местно...   \n",
       "3  Украина в рамках выполнения сделки с Дональдом...   \n",
       "4  В штаб-квартире издательского дома «Коммерсант...   \n",
       "\n",
       "                                                link  \n",
       "0  https://panorama.pub/news/na-oficialnom-sajte-...  \n",
       "1  https://panorama.pub/news/otkryli-500-e-otdele...  \n",
       "2  https://panorama.pub/news/prinal-za-spam-bota-v-2  \n",
       "3  https://panorama.pub/news/kievlane-obazany-sda...  \n",
       "4  https://panorama.pub/news/koska-poslednie-15-l...  "
      ]
     },
     "execution_count": 78,
     "metadata": {},
     "output_type": "execute_result"
    }
   ],
   "source": [
    "#Создаём индекс, чтобы пронумеровать каждый текст (это нам понадобится позже)\n",
    "\n",
    "index = [a for a in range(len(all_dates))]\n",
    "\n",
    "#Добавляем в особую табличку тексты. Для этого подаём функции DataFrame словарь\n",
    "#В котором на первом месте — название столбца, на втором — содержимое столбца\n",
    "#Все столбцы должны быть одинаковой длины\n",
    "corpus = pd.DataFrame({'index': index, 'date': all_dates, 'sphere': all_spheres,\n",
    "                       'title': all_titles, 'text': all_texts,\n",
    "                       'link': all_links})\n",
    "\n",
    "corpus.head()"
   ]
  },
  {
   "cell_type": "code",
   "execution_count": 79,
   "metadata": {
    "id": "q0QMWliFh7SW"
   },
   "outputs": [],
   "source": [
    "#Экспортируем файл. В обычном Питоне он запишется на компьютер ()\n",
    "corpus.to_csv('panorama_corpus.tsv', sep = '\\t', encoding='utf-8',  index = False)"
   ]
  },
  {
   "cell_type": "markdown",
   "metadata": {},
   "source": [
    "## Итоги\n",
    "\n",
    "Как можно видеть, мы можем с сайтов разных типов выкачивать текстовую информацию. Основная сложность при этом состоит в том, чтобы определить, как какие страницы следует скачивать, а также найти на этих страницах нужную информацию.\n",
    "\n",
    "В результате можно как просто выгрузить с требуемых страниц весь текст, так и получить таблицу с метаинформацией — а дальше, например, произвести разметку или использовать другие инструменты обработки текста, которые обсуждаются на этом курсе."
   ]
  },
  {
   "cell_type": "markdown",
   "metadata": {
    "id": "eMpsfFesCa_m"
   },
   "source": [
    "## Слишком сложно?..\n",
    "\n",
    "К счастью, нередко не нужно руками с нуля писать подобные программы для выкачки сайтов.\n",
    "\n",
    "Некоторые сайты, в том числе крупные соцсети, сами умеют представлять данные в формате, удобном не для пользователя-человека, а для компьютера. Это называется API — см., например, [VK API](https://dev.vk.com/api/overview). Но там тоже нужно разбираться...\n",
    "\n",
    "В [отдельной тетрадке](https://colab.research.google.com/drive/1RNVAuLj42TRZRy264Sh-rxkvXU9wC_Z5?usp=sharing) можно посмотреть пример работы в API VK и Telegram. Если вам потребуется взаимодействовать с другими популярными ресурсами, связанными с изучаемыми вами странами — стоит проверить, есть ли у них API.\n",
    "\n",
    "Кроме этого, есть большое количество готовых модулей или инструментов на основе Python. Универсальная, но достаточно сложная в использовании программа, которая скачивает сайты, самостоятельно переходя по ссылкам, которые находит на их странице (это называется Crawler), — [Scrapy](https://scrapy.org/)."
   ]
  }
 ],
 "metadata": {
  "colab": {
   "provenance": []
  },
  "kernelspec": {
   "display_name": "Python 3 (ipykernel)",
   "language": "python",
   "name": "python3"
  },
  "language_info": {
   "codemirror_mode": {
    "name": "ipython",
    "version": 3
   },
   "file_extension": ".py",
   "mimetype": "text/x-python",
   "name": "python",
   "nbconvert_exporter": "python",
   "pygments_lexer": "ipython3",
   "version": "3.13.1"
  },
  "widgets": {
   "application/vnd.jupyter.widget-state+json": {
    "07873f54e8494e35816774bd9a0af8df": {
     "model_module": "@jupyter-widgets/base",
     "model_module_version": "1.2.0",
     "model_name": "LayoutModel",
     "state": {
      "_model_module": "@jupyter-widgets/base",
      "_model_module_version": "1.2.0",
      "_model_name": "LayoutModel",
      "_view_count": null,
      "_view_module": "@jupyter-widgets/base",
      "_view_module_version": "1.2.0",
      "_view_name": "LayoutView",
      "align_content": null,
      "align_items": null,
      "align_self": null,
      "border": null,
      "bottom": null,
      "display": null,
      "flex": null,
      "flex_flow": null,
      "grid_area": null,
      "grid_auto_columns": null,
      "grid_auto_flow": null,
      "grid_auto_rows": null,
      "grid_column": null,
      "grid_gap": null,
      "grid_row": null,
      "grid_template_areas": null,
      "grid_template_columns": null,
      "grid_template_rows": null,
      "height": null,
      "justify_content": null,
      "justify_items": null,
      "left": null,
      "margin": null,
      "max_height": null,
      "max_width": null,
      "min_height": null,
      "min_width": null,
      "object_fit": null,
      "object_position": null,
      "order": null,
      "overflow": null,
      "overflow_x": null,
      "overflow_y": null,
      "padding": null,
      "right": null,
      "top": null,
      "visibility": null,
      "width": null
     }
    },
    "4578c02dc7c64bb8a046686ed2ef036a": {
     "model_module": "@jupyter-widgets/controls",
     "model_module_version": "1.5.0",
     "model_name": "HTMLModel",
     "state": {
      "_dom_classes": [],
      "_model_module": "@jupyter-widgets/controls",
      "_model_module_version": "1.5.0",
      "_model_name": "HTMLModel",
      "_view_count": null,
      "_view_module": "@jupyter-widgets/controls",
      "_view_module_version": "1.5.0",
      "_view_name": "HTMLView",
      "description": "",
      "description_tooltip": null,
      "layout": "IPY_MODEL_ce5ae80e65ce465c9d9633eee8bb7d7c",
      "placeholder": "​",
      "style": "IPY_MODEL_cab30299aef24351b588107eb5a7c103",
      "value": "100%"
     }
    },
    "7337cb7b1e304d73821b56a2d31f49c8": {
     "model_module": "@jupyter-widgets/base",
     "model_module_version": "1.2.0",
     "model_name": "LayoutModel",
     "state": {
      "_model_module": "@jupyter-widgets/base",
      "_model_module_version": "1.2.0",
      "_model_name": "LayoutModel",
      "_view_count": null,
      "_view_module": "@jupyter-widgets/base",
      "_view_module_version": "1.2.0",
      "_view_name": "LayoutView",
      "align_content": null,
      "align_items": null,
      "align_self": null,
      "border": null,
      "bottom": null,
      "display": null,
      "flex": null,
      "flex_flow": null,
      "grid_area": null,
      "grid_auto_columns": null,
      "grid_auto_flow": null,
      "grid_auto_rows": null,
      "grid_column": null,
      "grid_gap": null,
      "grid_row": null,
      "grid_template_areas": null,
      "grid_template_columns": null,
      "grid_template_rows": null,
      "height": null,
      "justify_content": null,
      "justify_items": null,
      "left": null,
      "margin": null,
      "max_height": null,
      "max_width": null,
      "min_height": null,
      "min_width": null,
      "object_fit": null,
      "object_position": null,
      "order": null,
      "overflow": null,
      "overflow_x": null,
      "overflow_y": null,
      "padding": null,
      "right": null,
      "top": null,
      "visibility": null,
      "width": null
     }
    },
    "9525ed31f8e542b281789a11eacd486d": {
     "model_module": "@jupyter-widgets/controls",
     "model_module_version": "1.5.0",
     "model_name": "HTMLModel",
     "state": {
      "_dom_classes": [],
      "_model_module": "@jupyter-widgets/controls",
      "_model_module_version": "1.5.0",
      "_model_name": "HTMLModel",
      "_view_count": null,
      "_view_module": "@jupyter-widgets/controls",
      "_view_module_version": "1.5.0",
      "_view_name": "HTMLView",
      "description": "",
      "description_tooltip": null,
      "layout": "IPY_MODEL_7337cb7b1e304d73821b56a2d31f49c8",
      "placeholder": "​",
      "style": "IPY_MODEL_d92295d15fe24934aa59e46873c65b16",
      "value": " 100/100 [09:40&lt;00:00,  5.71s/it]"
     }
    },
    "b039b0231c134693b5b5b6b9d8699870": {
     "model_module": "@jupyter-widgets/controls",
     "model_module_version": "1.5.0",
     "model_name": "ProgressStyleModel",
     "state": {
      "_model_module": "@jupyter-widgets/controls",
      "_model_module_version": "1.5.0",
      "_model_name": "ProgressStyleModel",
      "_view_count": null,
      "_view_module": "@jupyter-widgets/base",
      "_view_module_version": "1.2.0",
      "_view_name": "StyleView",
      "bar_color": null,
      "description_width": ""
     }
    },
    "cab30299aef24351b588107eb5a7c103": {
     "model_module": "@jupyter-widgets/controls",
     "model_module_version": "1.5.0",
     "model_name": "DescriptionStyleModel",
     "state": {
      "_model_module": "@jupyter-widgets/controls",
      "_model_module_version": "1.5.0",
      "_model_name": "DescriptionStyleModel",
      "_view_count": null,
      "_view_module": "@jupyter-widgets/base",
      "_view_module_version": "1.2.0",
      "_view_name": "StyleView",
      "description_width": ""
     }
    },
    "ce5ae80e65ce465c9d9633eee8bb7d7c": {
     "model_module": "@jupyter-widgets/base",
     "model_module_version": "1.2.0",
     "model_name": "LayoutModel",
     "state": {
      "_model_module": "@jupyter-widgets/base",
      "_model_module_version": "1.2.0",
      "_model_name": "LayoutModel",
      "_view_count": null,
      "_view_module": "@jupyter-widgets/base",
      "_view_module_version": "1.2.0",
      "_view_name": "LayoutView",
      "align_content": null,
      "align_items": null,
      "align_self": null,
      "border": null,
      "bottom": null,
      "display": null,
      "flex": null,
      "flex_flow": null,
      "grid_area": null,
      "grid_auto_columns": null,
      "grid_auto_flow": null,
      "grid_auto_rows": null,
      "grid_column": null,
      "grid_gap": null,
      "grid_row": null,
      "grid_template_areas": null,
      "grid_template_columns": null,
      "grid_template_rows": null,
      "height": null,
      "justify_content": null,
      "justify_items": null,
      "left": null,
      "margin": null,
      "max_height": null,
      "max_width": null,
      "min_height": null,
      "min_width": null,
      "object_fit": null,
      "object_position": null,
      "order": null,
      "overflow": null,
      "overflow_x": null,
      "overflow_y": null,
      "padding": null,
      "right": null,
      "top": null,
      "visibility": null,
      "width": null
     }
    },
    "d7ac4baedae24e7ead2ff430e7284265": {
     "model_module": "@jupyter-widgets/controls",
     "model_module_version": "1.5.0",
     "model_name": "FloatProgressModel",
     "state": {
      "_dom_classes": [],
      "_model_module": "@jupyter-widgets/controls",
      "_model_module_version": "1.5.0",
      "_model_name": "FloatProgressModel",
      "_view_count": null,
      "_view_module": "@jupyter-widgets/controls",
      "_view_module_version": "1.5.0",
      "_view_name": "ProgressView",
      "bar_style": "success",
      "description": "",
      "description_tooltip": null,
      "layout": "IPY_MODEL_f6ea76242c924ae5ab2a598a4c9ef7eb",
      "max": 100,
      "min": 0,
      "orientation": "horizontal",
      "style": "IPY_MODEL_b039b0231c134693b5b5b6b9d8699870",
      "value": 100
     }
    },
    "d92295d15fe24934aa59e46873c65b16": {
     "model_module": "@jupyter-widgets/controls",
     "model_module_version": "1.5.0",
     "model_name": "DescriptionStyleModel",
     "state": {
      "_model_module": "@jupyter-widgets/controls",
      "_model_module_version": "1.5.0",
      "_model_name": "DescriptionStyleModel",
      "_view_count": null,
      "_view_module": "@jupyter-widgets/base",
      "_view_module_version": "1.2.0",
      "_view_name": "StyleView",
      "description_width": ""
     }
    },
    "ee070e54dc504baea00d51a678c62eee": {
     "model_module": "@jupyter-widgets/controls",
     "model_module_version": "1.5.0",
     "model_name": "HBoxModel",
     "state": {
      "_dom_classes": [],
      "_model_module": "@jupyter-widgets/controls",
      "_model_module_version": "1.5.0",
      "_model_name": "HBoxModel",
      "_view_count": null,
      "_view_module": "@jupyter-widgets/controls",
      "_view_module_version": "1.5.0",
      "_view_name": "HBoxView",
      "box_style": "",
      "children": [
       "IPY_MODEL_4578c02dc7c64bb8a046686ed2ef036a",
       "IPY_MODEL_d7ac4baedae24e7ead2ff430e7284265",
       "IPY_MODEL_9525ed31f8e542b281789a11eacd486d"
      ],
      "layout": "IPY_MODEL_07873f54e8494e35816774bd9a0af8df"
     }
    },
    "f6ea76242c924ae5ab2a598a4c9ef7eb": {
     "model_module": "@jupyter-widgets/base",
     "model_module_version": "1.2.0",
     "model_name": "LayoutModel",
     "state": {
      "_model_module": "@jupyter-widgets/base",
      "_model_module_version": "1.2.0",
      "_model_name": "LayoutModel",
      "_view_count": null,
      "_view_module": "@jupyter-widgets/base",
      "_view_module_version": "1.2.0",
      "_view_name": "LayoutView",
      "align_content": null,
      "align_items": null,
      "align_self": null,
      "border": null,
      "bottom": null,
      "display": null,
      "flex": null,
      "flex_flow": null,
      "grid_area": null,
      "grid_auto_columns": null,
      "grid_auto_flow": null,
      "grid_auto_rows": null,
      "grid_column": null,
      "grid_gap": null,
      "grid_row": null,
      "grid_template_areas": null,
      "grid_template_columns": null,
      "grid_template_rows": null,
      "height": null,
      "justify_content": null,
      "justify_items": null,
      "left": null,
      "margin": null,
      "max_height": null,
      "max_width": null,
      "min_height": null,
      "min_width": null,
      "object_fit": null,
      "object_position": null,
      "order": null,
      "overflow": null,
      "overflow_x": null,
      "overflow_y": null,
      "padding": null,
      "right": null,
      "top": null,
      "visibility": null,
      "width": null
     }
    }
   }
  }
 },
 "nbformat": 4,
 "nbformat_minor": 4
}
