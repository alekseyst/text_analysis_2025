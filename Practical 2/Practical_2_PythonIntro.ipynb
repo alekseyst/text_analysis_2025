{
 "cells": [
  {
   "cell_type": "markdown",
   "metadata": {
    "id": "JJLAEQoeRjCu"
   },
   "source": [
    "# Что умеет Питон?\n",
    "\n",
    "## Если коротко\n",
    "\n",
    "- быстро и много работать\n",
    "- но если ему чётко сказать как\n",
    "- вы говорите с ним на особом языке, который похож на английский, но с кучей условностей\n",
    "- это нужно, чтобы вас лучше понимали — но чтобы понимать самим, что происходит, нужно разобраться..."
   ]
  },
  {
   "cell_type": "markdown",
   "metadata": {},
   "source": [
    "## Дополнительные соображения, польза которых может стать понятнее позже\n",
    "\n",
    "- всё можно и нужно проверять руками\n",
    "- умение гуглить может пригодиться больше чем знание, как сделать разные вещи в Питоне\n",
    "- если нужно решить задачу, которая поставлена в достаточно общем виде, разбейте её на небольшие пункты, про которые вы понимаете, как их сделать (или понимаете, как загуглить, как их сделать); выстройте пункты в нужном порядке и получите результат\n",
    "- проверяйте, что код работает, в процессе написания "
   ]
  },
  {
   "cell_type": "markdown",
   "metadata": {
    "id": "vOQdkp3-RsFY"
   },
   "source": [
    "## А где мы сейчас?\n",
    "\n",
    "- [перейдите по ссылке](https://colab.research.google.com/)\n",
    "- это Google Colab — онлайн реализация [Jupyter Notebook](https://jupyter.org/)\n",
    "- здесь можно сделать текстовую ячейку с помощью [Markdown](https://www.markdownguide.org/cheat-sheet/)\n",
    "- или ячейку с кодом (они ниже)\n",
    "- в каждой ячейке код выполняется отдельно и в конце выводится результат\n",
    "- [ссылка на эту тетрадку](https://colab.research.google.com/drive/1NUUFBZP3vcmFO405p6J4p46rO9aEalT6?usp=sharing) — её можно скопировать к себе и выполнять задания прямо в ней\n",
    "\n",
    "Удобные горячие клавиши:\n",
    "\n",
    "- Ctrl + Enter: выполнить ячейку\n",
    "- Shift + Enter: перейти на следующую ячейку"
   ]
  },
  {
   "cell_type": "markdown",
   "metadata": {
    "id": "y1Qkj8VXTJ8E"
   },
   "source": [
    "## Перейдём к делу!\n"
   ]
  },
  {
   "cell_type": "code",
   "execution_count": 1,
   "metadata": {
    "id": "-kg8ygXsRgwx"
   },
   "outputs": [],
   "source": [
    "#Это комментарий — он начинается с решётки и ничего не делает\n",
    "#Зато комментариями можно писать пояснения"
   ]
  },
  {
   "cell_type": "markdown",
   "metadata": {
    "id": "ZNIzpRG0TeTv"
   },
   "source": [
    "### Питон можно использовать как калькулятор\n",
    "\n",
    "Из неочевидного (и не очень-то пригодится):\n",
    "\n",
    "- \\* — умножение\n",
    "- / — деление\n",
    "- ** — возведение в степень\n",
    "- // — деление без остатка\n",
    "- % — остаток от деления\n",
    "\n",
    "Чтобы запустить ячейку нажмите на треугольник или Ctrl-Enter"
   ]
  },
  {
   "cell_type": "code",
   "execution_count": 2,
   "metadata": {
    "colab": {
     "base_uri": "https://localhost:8080/"
    },
    "id": "fLG7Bd5eTZvH",
    "outputId": "dc52c5b6-c889-4499-a21b-24fc0bf45d8b"
   },
   "outputs": [
    {
     "data": {
      "text/plain": [
       "8"
      ]
     },
     "execution_count": 2,
     "metadata": {},
     "output_type": "execute_result"
    }
   ],
   "source": [
    "3 + 5"
   ]
  },
  {
   "cell_type": "code",
   "execution_count": 3,
   "metadata": {
    "colab": {
     "base_uri": "https://localhost:8080/"
    },
    "id": "w_H0a6jnT1LL",
    "outputId": "75cb852b-2606-4cb7-c6ae-227e3640acdb"
   },
   "outputs": [
    {
     "data": {
      "text/plain": [
       "3200"
      ]
     },
     "execution_count": 3,
     "metadata": {},
     "output_type": "execute_result"
    }
   ],
   "source": [
    "8 * 400"
   ]
  },
  {
   "cell_type": "code",
   "execution_count": 4,
   "metadata": {
    "colab": {
     "base_uri": "https://localhost:8080/"
    },
    "id": "m0fAPGiOT3qZ",
    "outputId": "95a95266-7900-48e2-d2b4-2e2c2767e94f"
   },
   "outputs": [
    {
     "data": {
      "text/plain": [
       "12.5"
      ]
     },
     "execution_count": 4,
     "metadata": {},
     "output_type": "execute_result"
    }
   ],
   "source": [
    "(5 ** 2) / 2"
   ]
  },
  {
   "cell_type": "code",
   "execution_count": 5,
   "metadata": {
    "colab": {
     "base_uri": "https://localhost:8080/"
    },
    "id": "KO2lrKJcUBfA",
    "outputId": "74b7ce25-600d-4178-b138-74ac0cf10803"
   },
   "outputs": [
    {
     "data": {
      "text/plain": [
       "12"
      ]
     },
     "execution_count": 5,
     "metadata": {},
     "output_type": "execute_result"
    }
   ],
   "source": [
    "25 // 2"
   ]
  },
  {
   "cell_type": "markdown",
   "metadata": {
    "id": "8EY48cBHkhZb"
   },
   "source": [
    "### Немного про приоритет\n",
    "\n",
    "В школьной математике есть понятие «приоритет операции». Приоритет определяет, в какой последовательности должны выполняться операции. Умножение и деление имеют больший приоритет, чем сложение и вычитание, а приоритет возведения в степень выше всех остальных арифметических операций. Например: 2 ** 3 * 2 вычислится в 16."
   ]
  },
  {
   "cell_type": "code",
   "execution_count": 6,
   "metadata": {},
   "outputs": [
    {
     "name": "stdout",
     "output_type": "stream",
     "text": [
      "9\n",
      "14.0\n"
     ]
    }
   ],
   "source": [
    "print(3 ** (4 - 2))  # => 9\n",
    "print(7 * 3 + (4 / 2) - (8 + (2 - 1)))  # => 14"
   ]
  },
  {
   "cell_type": "markdown",
   "metadata": {
    "id": "8EY48cBHkhZb"
   },
   "source": [
    "#### Задание 1.1\n",
    "\n",
    "Посчитайте с помощью Питона результат выражения $5 + 8 + 73$"
   ]
  },
  {
   "cell_type": "code",
   "execution_count": 7,
   "metadata": {
    "colab": {
     "base_uri": "https://localhost:8080/"
    },
    "id": "pSD9XQw3lWXq",
    "outputId": "86d07940-c524-4133-af03-be685af47b28"
   },
   "outputs": [],
   "source": [
    "#Решение задания 1.1\n",
    "\n"
   ]
  },
  {
   "cell_type": "markdown",
   "metadata": {
    "id": "8tOQUMH1mPq-"
   },
   "source": [
    "#### Задание 1.2\n",
    "\n",
    "Посчитайте с помощью Питона результат выражения $\\frac{365^3}{73^2}$"
   ]
  },
  {
   "cell_type": "code",
   "execution_count": 8,
   "metadata": {
    "colab": {
     "base_uri": "https://localhost:8080/"
    },
    "id": "_xxipAyxmWw2",
    "outputId": "4d7bc88b-3a24-44e2-bb80-66a95c964f65"
   },
   "outputs": [],
   "source": [
    "#Решение задания 1.2\n",
    "\n"
   ]
  },
  {
   "cell_type": "markdown",
   "metadata": {
    "id": "bKL_feoNY0dg"
   },
   "source": [
    "### Переменные\n",
    "\n",
    "Мы можем попросить Питон что-нибудь запомнить\n",
    "\n",
    "Для этого используетя знак \"=\". Название переменной слева от равно, то, что запоминаем, справа"
   ]
  },
  {
   "cell_type": "code",
   "execution_count": 9,
   "metadata": {
    "colab": {
     "base_uri": "https://localhost:8080/"
    },
    "id": "qmakdbDwWsNx",
    "outputId": "c7911839-c3ef-4be9-8dd1-6a9167e9e264"
   },
   "outputs": [
    {
     "data": {
      "text/plain": [
       "5"
      ]
     },
     "execution_count": 9,
     "metadata": {},
     "output_type": "execute_result"
    }
   ],
   "source": [
    "a = 5\n",
    "\n",
    "a"
   ]
  },
  {
   "cell_type": "code",
   "execution_count": 10,
   "metadata": {
    "id": "NMcNtZEIagwN"
   },
   "outputs": [
    {
     "data": {
      "text/plain": [
       "12.5"
      ]
     },
     "execution_count": 10,
     "metadata": {},
     "output_type": "execute_result"
    }
   ],
   "source": [
    "b = (5 ** 2) / 2\n",
    "\n",
    "b"
   ]
  },
  {
   "cell_type": "code",
   "execution_count": 11,
   "metadata": {
    "colab": {
     "base_uri": "https://localhost:8080/"
    },
    "id": "oq8Gyb4ci-A0",
    "outputId": "1149a7fe-f734-48ea-d255-2c7cb247d6ff"
   },
   "outputs": [
    {
     "data": {
      "text/plain": [
       "17.5"
      ]
     },
     "execution_count": 11,
     "metadata": {},
     "output_type": "execute_result"
    }
   ],
   "source": [
    "a + b"
   ]
  },
  {
   "cell_type": "markdown",
   "metadata": {
    "id": "4oIZhIKdjCgN"
   },
   "source": [
    "Никогда не называйте переменные так, как выше! Используйте понятные название: чтобы вы или кто-то ещё, читая ваш код, не запутался на третьей строчке."
   ]
  },
  {
   "cell_type": "markdown",
   "metadata": {
    "id": "9YfpY274md_8"
   },
   "source": [
    "#### Задание 2\n",
    "\n",
    "Вычислите $\\frac{365^3}{73^2}$ и сразу запишите результат подсчёта выражения  в переменную. Назовите её осмысленно."
   ]
  },
  {
   "cell_type": "code",
   "execution_count": 12,
   "metadata": {
    "colab": {
     "base_uri": "https://localhost:8080/"
    },
    "id": "yIT_jKqRjN8H",
    "outputId": "8dcf4ce1-76f5-41bd-c760-07f49a33cf92"
   },
   "outputs": [],
   "source": [
    "#Решение задания 2\n",
    "\n"
   ]
  },
  {
   "cell_type": "markdown",
   "metadata": {
    "id": "FVRViwgMms8U"
   },
   "source": [
    "### Сравнение\n",
    "\n",
    "Мы используем равно, чтобы что-то записать в переменную. Но как же тогда что-нибудь сравнить?!"
   ]
  },
  {
   "cell_type": "code",
   "execution_count": 13,
   "metadata": {
    "colab": {
     "base_uri": "https://localhost:8080/",
     "height": 144
    },
    "id": "BbTOcsJtjAQA",
    "outputId": "c0914595-e449-433d-aade-00cde069a1f0"
   },
   "outputs": [
    {
     "ename": "SyntaxError",
     "evalue": "cannot assign to literal here. Maybe you meant '==' instead of '='? (773867371.py, line 1)",
     "output_type": "error",
     "traceback": [
      "\u001b[0;36m  Cell \u001b[0;32mIn[13], line 1\u001b[0;36m\u001b[0m\n\u001b[0;31m    5 = 3 + 2\u001b[0m\n\u001b[0m    ^\u001b[0m\n\u001b[0;31mSyntaxError\u001b[0m\u001b[0;31m:\u001b[0m cannot assign to literal here. Maybe you meant '==' instead of '='?\n"
     ]
    }
   ],
   "source": [
    " 5 = 3 + 2"
   ]
  },
  {
   "cell_type": "code",
   "execution_count": 14,
   "metadata": {
    "colab": {
     "base_uri": "https://localhost:8080/"
    },
    "id": "fJu4rB4Nnnm3",
    "outputId": "ab68c85b-604e-4c4d-dda5-aff46742d993"
   },
   "outputs": [
    {
     "data": {
      "text/plain": [
       "True"
      ]
     },
     "execution_count": 14,
     "metadata": {},
     "output_type": "execute_result"
    }
   ],
   "source": [
    " 5 == 3 + 2"
   ]
  },
  {
   "cell_type": "code",
   "execution_count": 15,
   "metadata": {
    "colab": {
     "base_uri": "https://localhost:8080/"
    },
    "id": "wFuvVJlfnpLe",
    "outputId": "cdfd8e8f-65c2-4043-fa40-f8a42cf183e2"
   },
   "outputs": [
    {
     "data": {
      "text/plain": [
       "False"
      ]
     },
     "execution_count": 15,
     "metadata": {},
     "output_type": "execute_result"
    }
   ],
   "source": [
    " 5 == 3 + 3"
   ]
  },
  {
   "cell_type": "markdown",
   "metadata": {
    "id": "d6vH76LIn2Jo"
   },
   "source": [
    "Для сравнения используем знаки \"==\", \">\", \"<\" и получаем как значения \"Правда\" (True) или \"Ложь\" (False).\n",
    "\n",
    "Зачем это вообще? Для того, чтобы писать условия. Конструкция выглядит так:"
   ]
  },
  {
   "cell_type": "code",
   "execution_count": 16,
   "metadata": {
    "id": "A7FMD59HnrhG"
   },
   "outputs": [
    {
     "ename": "IndentationError",
     "evalue": "expected an indented block after 'if' statement on line 2 (2138141670.py, line 4)",
     "output_type": "error",
     "traceback": [
      "\u001b[0;36m  Cell \u001b[0;32mIn[16], line 4\u001b[0;36m\u001b[0m\n\u001b[0;31m    elif условие 2:\u001b[0m\n\u001b[0m    ^\u001b[0m\n\u001b[0;31mIndentationError\u001b[0m\u001b[0;31m:\u001b[0m expected an indented block after 'if' statement on line 2\n"
     ]
    }
   ],
   "source": [
    "# Эта ячейка не отработает, потому что в ней не указано ни условие, ни результат\n",
    "if условие:\n",
    "  #результат 1\n",
    "elif условие 2:\n",
    "  #результат 2\n",
    "else:\n",
    "  #результат 3\n",
    "\n",
    "#Любой фрагмент, кроме первого if, можно опустить"
   ]
  },
  {
   "cell_type": "code",
   "execution_count": 17,
   "metadata": {
    "colab": {
     "base_uri": "https://localhost:8080/"
    },
    "id": "eQO0Zs-Ao_6c",
    "outputId": "0c699843-7948-4c8a-d418-e01d9fa0c88f"
   },
   "outputs": [
    {
     "name": "stdout",
     "output_type": "stream",
     "text": [
      "Это ноль\n"
     ]
    }
   ],
   "source": [
    "#Вот эти вот штуки print(\"Это положительное число\") — это мы забегаем вперёд\n",
    "#Если вы чувствуете, что нам нужны не только числа — то вот они не числа!\n",
    "\n",
    "x = 0\n",
    "\n",
    "if x > 0:\n",
    "  print(\"Это положительное число\")\n",
    "elif x < 0:\n",
    "  print(\"Это отрицательное число\")\n",
    "else:\n",
    "  print(\"Это ноль\")"
   ]
  },
  {
   "cell_type": "markdown",
   "metadata": {
    "id": "YYFFHPZopWm4"
   },
   "source": [
    "#### Задание 3\n",
    "\n",
    "Напишите условие, которое проверяет, равно ли число 5, и если да — печатает 5, а если нет — говорит, что это не 5"
   ]
  },
  {
   "cell_type": "code",
   "execution_count": 18,
   "metadata": {
    "colab": {
     "base_uri": "https://localhost:8080/"
    },
    "id": "Dpg-vcZ9pOXJ",
    "outputId": "81a3b1ce-3194-448f-a590-0660d3a033c2"
   },
   "outputs": [],
   "source": [
    "#Решение задания 3\n",
    "\n"
   ]
  },
  {
   "cell_type": "markdown",
   "metadata": {
    "id": "Z24puYJjqNgn"
   },
   "source": [
    "###Типы данных\n",
    "\n",
    "До этого мы в основном работали с числами, но хотим, конечно, работать не только с ними\n",
    "\n",
    "- строки — содержат текстовую информацию и пишутся в кавычках '' или \"\"\n",
    "- списки — содержат набор элементов Питона и пишутся в квадратных скобках через запятую [ ]\n",
    "- есть и другие типы данных, но нам пока хватит:)"
   ]
  },
  {
   "cell_type": "code",
   "execution_count": 19,
   "metadata": {
    "colab": {
     "base_uri": "https://localhost:8080/",
     "height": 36
    },
    "id": "Atru_PoBrfw2",
    "outputId": "361387a5-806f-468b-d54d-482d839e9269"
   },
   "outputs": [
    {
     "data": {
      "text/plain": [
       "'это строка'"
      ]
     },
     "execution_count": 19,
     "metadata": {},
     "output_type": "execute_result"
    }
   ],
   "source": [
    "new_line = 'это строка'\n",
    "\n",
    "new_line"
   ]
  },
  {
   "cell_type": "code",
   "execution_count": 20,
   "metadata": {
    "colab": {
     "base_uri": "https://localhost:8080/"
    },
    "id": "SX0To4Gfrmxn",
    "outputId": "5941d02c-aaef-448d-cac4-684cffa9b6cb"
   },
   "outputs": [
    {
     "data": {
      "text/plain": [
       "[4, 'я очень разнообразный', [2, 3], 'это строка']"
      ]
     },
     "execution_count": 20,
     "metadata": {},
     "output_type": "execute_result"
    }
   ],
   "source": [
    "new_list = [4, 'я очень разнообразный', [2, 3], new_line]\n",
    "\n",
    "new_list"
   ]
  },
  {
   "cell_type": "markdown",
   "metadata": {
    "id": "TfOytg3gsD2G"
   },
   "source": [
    "#### Задание 4\n",
    "\n",
    "Создайте список и выведите и запишите в него два любых числа, один список и две переменные. Переменные придётся создать заранее."
   ]
  },
  {
   "cell_type": "code",
   "execution_count": 21,
   "metadata": {
    "id": "7YTn4iCvr5iI"
   },
   "outputs": [],
   "source": [
    "#Решение задания 4\n",
    "\n"
   ]
  },
  {
   "cell_type": "markdown",
   "metadata": {
    "id": "JDEba3spsX04"
   },
   "source": [
    "Со строками и списками, как и с числами, можно производить разные операции. Не всегда предсказуемо, что произойдёт — и чтобы узнать, как сделать что-то конкретное со строкой или списком, обычно приходится искать это"
   ]
  },
  {
   "cell_type": "code",
   "execution_count": 22,
   "metadata": {
    "colab": {
     "base_uri": "https://localhost:8080/",
     "height": 36
    },
    "id": "hy2Re4azsVBD",
    "outputId": "36e3cf0d-def7-4646-efd0-ab4f265bf359"
   },
   "outputs": [
    {
     "data": {
      "text/plain": [
       "'дваслова'"
      ]
     },
     "execution_count": 22,
     "metadata": {},
     "output_type": "execute_result"
    }
   ],
   "source": [
    "two_words = \"два\" + \"слова\"\n",
    "\n",
    "two_words"
   ]
  },
  {
   "cell_type": "code",
   "execution_count": 23,
   "metadata": {},
   "outputs": [
    {
     "data": {
      "text/plain": [
       "['two', 'words']"
      ]
     },
     "execution_count": 23,
     "metadata": {},
     "output_type": "execute_result"
    }
   ],
   "source": [
    "two_more_words = ['two'] + ['words']\n",
    "\n",
    "two_more_words"
   ]
  },
  {
   "cell_type": "code",
   "execution_count": 24,
   "metadata": {},
   "outputs": [
    {
     "data": {
      "text/plain": [
       "['two', 'words', 'two', 'words', 'two', 'words']"
      ]
     },
     "execution_count": 24,
     "metadata": {},
     "output_type": "execute_result"
    }
   ],
   "source": [
    "two_more_words * 3"
   ]
  },
  {
   "cell_type": "code",
   "execution_count": 25,
   "metadata": {
    "colab": {
     "base_uri": "https://localhost:8080/"
    },
    "id": "YApKMuZRs7wo",
    "outputId": "c4b080bd-d71e-4165-e519-a6ad45e0a8b5"
   },
   "outputs": [
    {
     "data": {
      "text/plain": [
       "8"
      ]
     },
     "execution_count": 25,
     "metadata": {},
     "output_type": "execute_result"
    }
   ],
   "source": [
    "#Считаем длину слова\n",
    "\n",
    "len(two_words)"
   ]
  },
  {
   "cell_type": "code",
   "execution_count": 26,
   "metadata": {
    "colab": {
     "base_uri": "https://localhost:8080/"
    },
    "id": "0lLvC4oTtdUy",
    "outputId": "908e4dba-3dcc-494b-829f-f4b188ed4b43"
   },
   "outputs": [
    {
     "data": {
      "text/plain": [
       "4"
      ]
     },
     "execution_count": 26,
     "metadata": {},
     "output_type": "execute_result"
    }
   ],
   "source": [
    "#Считаем длину списка\n",
    "\n",
    "len(new_list)"
   ]
  },
  {
   "cell_type": "code",
   "execution_count": 27,
   "metadata": {
    "colab": {
     "base_uri": "https://localhost:8080/",
     "height": 36
    },
    "id": "mhdIv6adtOPT",
    "outputId": "5e257d9b-a849-4bdb-ff1a-564900771e23"
   },
   "outputs": [
    {
     "data": {
      "text/plain": [
       "'Дваслова'"
      ]
     },
     "execution_count": 27,
     "metadata": {},
     "output_type": "execute_result"
    }
   ],
   "source": [
    "#Делаем, чтобы слово писалось с заглавной буквы\n",
    "\n",
    "two_words.capitalize()"
   ]
  },
  {
   "cell_type": "code",
   "execution_count": 28,
   "metadata": {
    "colab": {
     "base_uri": "https://localhost:8080/"
    },
    "id": "afjeP8zptuvR",
    "outputId": "ac51bdd8-d8a4-4c9a-99f3-7cd7b24785f5"
   },
   "outputs": [
    {
     "data": {
      "text/plain": [
       "False"
      ]
     },
     "execution_count": 28,
     "metadata": {},
     "output_type": "execute_result"
    }
   ],
   "source": [
    "#Проверяем, на что кончается слово\n",
    "\n",
    "two_words.endswith('ы')"
   ]
  },
  {
   "cell_type": "markdown",
   "metadata": {},
   "source": [
    "Не все операции приведут к результату"
   ]
  },
  {
   "cell_type": "code",
   "execution_count": 29,
   "metadata": {},
   "outputs": [
    {
     "ename": "TypeError",
     "evalue": "unsupported operand type(s) for -: 'str' and 'str'",
     "output_type": "error",
     "traceback": [
      "\u001b[0;31m---------------------------------------------------------------------------\u001b[0m",
      "\u001b[0;31mTypeError\u001b[0m                                 Traceback (most recent call last)",
      "Cell \u001b[0;32mIn[29], line 1\u001b[0m\n\u001b[0;32m----> 1\u001b[0m \u001b[38;5;124;43m'\u001b[39;49m\u001b[38;5;124;43mдва слова\u001b[39;49m\u001b[38;5;124;43m'\u001b[39;49m\u001b[43m \u001b[49m\u001b[38;5;241;43m-\u001b[39;49m\u001b[43m \u001b[49m\u001b[38;5;124;43m'\u001b[39;49m\u001b[38;5;124;43mдва\u001b[39;49m\u001b[38;5;124;43m'\u001b[39;49m\n",
      "\u001b[0;31mTypeError\u001b[0m: unsupported operand type(s) for -: 'str' and 'str'"
     ]
    }
   ],
   "source": [
    "'два слова' - 'два'"
   ]
  },
  {
   "cell_type": "markdown",
   "metadata": {
    "id": "bcJebMcDsxa4"
   },
   "source": [
    "#### Задание 5\n",
    "\n",
    "Запишите условие, которое проверяет, кончается ли слово на букву \"а\" и если кончается — дописывает к нему ещё 5 букв \"а\", а если нет — просто возвращает слово"
   ]
  },
  {
   "cell_type": "code",
   "execution_count": null,
   "metadata": {
    "colab": {
     "base_uri": "https://localhost:8080/"
    },
    "id": "QljaEp7muDO7",
    "outputId": "e7faf544-d7f6-46e6-d0a9-8873534d29dd"
   },
   "outputs": [],
   "source": [
    "#Решение задания 5\n",
    "\n"
   ]
  },
  {
   "cell_type": "markdown",
   "metadata": {
    "id": "XyZPhw9gudGB"
   },
   "source": [
    "### Функции\n",
    "\n",
    "Мы уже использовали функции — особые выражения, которое пишутся со скобками: print() и выполняют какое-то действие с тем, что внутри скобок\n",
    "\n",
    "То, что мы писали через точку после строк — .capitalize() — тоже функции, но с немного особым синтаксисом.\n",
    "\n",
    "В скобках у функции может быть несколько аргументов — и важно понимать, как именно она будет с ними обращаться."
   ]
  },
  {
   "cell_type": "code",
   "execution_count": 30,
   "metadata": {
    "colab": {
     "base_uri": "https://localhost:8080/"
    },
    "id": "MVantWBrBnJx",
    "outputId": "46407fc7-f8ea-4bae-a919-1884aa7643b8"
   },
   "outputs": [
    {
     "name": "stdout",
     "output_type": "stream",
     "text": [
      "Hello World!\n"
     ]
    }
   ],
   "source": [
    "#Два аргумента функции\n",
    "print('Hello', 'World!')"
   ]
  },
  {
   "cell_type": "code",
   "execution_count": 31,
   "metadata": {
    "colab": {
     "base_uri": "https://localhost:8080/"
    },
    "id": "WIxO2bP59CAl",
    "outputId": "2da2a186-d9d5-448a-db18-f4818724c65e"
   },
   "outputs": [
    {
     "name": "stdout",
     "output_type": "stream",
     "text": [
      "Help on built-in function print in module builtins:\n",
      "\n",
      "print(*args, sep=' ', end='\\n', file=None, flush=False)\n",
      "    Prints the values to a stream, or to sys.stdout by default.\n",
      "\n",
      "    sep\n",
      "      string inserted between values, default a space.\n",
      "    end\n",
      "      string appended after the last value, default a newline.\n",
      "    file\n",
      "      a file-like object (stream); defaults to the current sys.stdout.\n",
      "    flush\n",
      "      whether to forcibly flush the stream.\n",
      "\n"
     ]
    }
   ],
   "source": [
    "help(print)"
   ]
  },
  {
   "cell_type": "code",
   "execution_count": 32,
   "metadata": {
    "colab": {
     "base_uri": "https://localhost:8080/"
    },
    "id": "5AxK_GpUB2sO",
    "outputId": "e9826682-c8a1-42dc-f0f3-dbf9f40a31cd"
   },
   "outputs": [
    {
     "name": "stdout",
     "output_type": "stream",
     "text": [
      "Hello____World!"
     ]
    }
   ],
   "source": [
    "print('Hello', 'World', sep = '____', end = '!')"
   ]
  },
  {
   "cell_type": "code",
   "execution_count": 33,
   "metadata": {
    "colab": {
     "base_uri": "https://localhost:8080/",
     "height": 36
    },
    "id": "eqxYacDTB6Ob",
    "outputId": "bb58c032-4c44-4e9e-a7da-6447f4e10468"
   },
   "outputs": [
    {
     "data": {
      "text/plain": [
       "'это предложение, у которого на конце что-то лишнее'"
      ]
     },
     "execution_count": 33,
     "metadata": {},
     "output_type": "execute_result"
    }
   ],
   "source": [
    "'это предложение, у которого на конце что-то лишнее \\n'.strip()"
   ]
  },
  {
   "cell_type": "code",
   "execution_count": 34,
   "metadata": {
    "colab": {
     "base_uri": "https://localhost:8080/",
     "height": 36
    },
    "id": "l5PlSD97Gb28",
    "outputId": "f2db98be-591f-452b-e211-985d96abfab2"
   },
   "outputs": [
    {
     "data": {
      "text/plain": [
       "'это предложение, у которого на конце что-то лишнее '"
      ]
     },
     "execution_count": 34,
     "metadata": {},
     "output_type": "execute_result"
    }
   ],
   "source": [
    "'это предложение, у которого на конце что-то лишнее \\n'.strip('\\n')"
   ]
  },
  {
   "cell_type": "markdown",
   "metadata": {
    "id": "HzjSqXBGGvQE"
   },
   "source": [
    "Огромное количество функций написано за нас!\n",
    "\n",
    "Эти функции вместе с другими полезными вещами складывают в библиотеки или модули — и их можно брать и использовать!"
   ]
  },
  {
   "cell_type": "code",
   "execution_count": 35,
   "metadata": {
    "id": "2DDXKffYG-SP"
   },
   "outputs": [],
   "source": [
    "import math #Просим загрузить нам модуль"
   ]
  },
  {
   "cell_type": "code",
   "execution_count": 36,
   "metadata": {
    "colab": {
     "base_uri": "https://localhost:8080/"
    },
    "id": "ZHlBPaHwHH5k",
    "outputId": "7716bb45-9e33-41b7-bdd8-82b13d5cbd83"
   },
   "outputs": [
    {
     "data": {
      "text/plain": [
       "5.0"
      ]
     },
     "execution_count": 36,
     "metadata": {},
     "output_type": "execute_result"
    }
   ],
   "source": [
    "#Извлекаем квадратный корень функцией из этого модуля\n",
    "math.sqrt(25)"
   ]
  },
  {
   "cell_type": "code",
   "execution_count": 1,
   "metadata": {
    "colab": {
     "base_uri": "https://localhost:8080/"
    },
    "id": "F-aYwdyrHTn9",
    "outputId": "775ec032-ceff-464f-fc47-8b21c57c7612"
   },
   "outputs": [
    {
     "name": "stdout",
     "output_type": "stream",
     "text": [
      "Requirement already satisfied: nltk in /home/aleksey/Programming/venv/lib/python3.12/site-packages (3.9.1)\n",
      "Requirement already satisfied: click in /home/aleksey/Programming/venv/lib/python3.12/site-packages (from nltk) (8.1.8)\n",
      "Requirement already satisfied: joblib in /home/aleksey/Programming/venv/lib/python3.12/site-packages (from nltk) (1.4.2)\n",
      "Requirement already satisfied: regex>=2021.8.3 in /home/aleksey/Programming/venv/lib/python3.12/site-packages (from nltk) (2024.11.6)\n",
      "Requirement already satisfied: tqdm in /home/aleksey/Programming/venv/lib/python3.12/site-packages (from nltk) (4.67.1)\n",
      "\n",
      "\u001b[1m[\u001b[0m\u001b[34;49mnotice\u001b[0m\u001b[1;39;49m]\u001b[0m\u001b[39;49m A new release of pip is available: \u001b[0m\u001b[31;49m24.2\u001b[0m\u001b[39;49m -> \u001b[0m\u001b[32;49m25.0\u001b[0m\n",
      "\u001b[1m[\u001b[0m\u001b[34;49mnotice\u001b[0m\u001b[1;39;49m]\u001b[0m\u001b[39;49m To update, run: \u001b[0m\u001b[32;49mpip install --upgrade pip\u001b[0m\n"
     ]
    },
    {
     "name": "stderr",
     "output_type": "stream",
     "text": [
      "[nltk_data] Downloading package punkt_tab to\n",
      "[nltk_data]     /home/aleksey/nltk_data...\n",
      "[nltk_data]   Package punkt_tab is already up-to-date!\n"
     ]
    },
    {
     "data": {
      "text/plain": [
       "True"
      ]
     },
     "execution_count": 1,
     "metadata": {},
     "output_type": "execute_result"
    }
   ],
   "source": [
    "!pip install nltk #Скачиваем модуль\n",
    "import nltk #Просим загрузить нам модуль\n",
    "nltk.download('punkt_tab') #Скачиваем ещё кусочек модуля"
   ]
  },
  {
   "cell_type": "code",
   "execution_count": 2,
   "metadata": {
    "colab": {
     "base_uri": "https://localhost:8080/"
    },
    "id": "VocXfuBEH1kW",
    "outputId": "06f4c91a-29ff-47cc-a87b-0e3fbd65e775"
   },
   "outputs": [
    {
     "data": {
      "text/plain": [
       "['Я',\n",
       " 'хочу',\n",
       " 'разделить',\n",
       " 'на',\n",
       " 'слова',\n",
       " 'длинное',\n",
       " 'предложение',\n",
       " ',',\n",
       " 'которое',\n",
       " 'включает',\n",
       " 'в',\n",
       " 'себя',\n",
       " 'знаки',\n",
       " 'препинания',\n",
       " '!']"
      ]
     },
     "execution_count": 2,
     "metadata": {},
     "output_type": "execute_result"
    }
   ],
   "source": [
    "nltk.tokenize.word_tokenize('Я хочу разделить на слова длинное предложение, которое включает в себя знаки препинания!')"
   ]
  },
  {
   "cell_type": "markdown",
   "metadata": {
    "id": "ndZfv9AMJFtP"
   },
   "source": [
    "#### Задание 6\n",
    "\n",
    "Импортируйте модуль random. Используйте функцию randint из него, чтобы сгенерировать случайное число от одного до 10. Чтобы понять, какие аргументы у этой функции, можно почитать [документацию](https://docs.python.org/3/library/random.html) или просто загуглить random.randint."
   ]
  },
  {
   "cell_type": "code",
   "execution_count": null,
   "metadata": {
    "colab": {
     "base_uri": "https://localhost:8080/"
    },
    "id": "bJikhS67JLaD",
    "outputId": "a58e5dc2-9070-467d-f1b2-467d1a62bf84"
   },
   "outputs": [],
   "source": [
    "#Решение задания 6\n",
    "\n"
   ]
  },
  {
   "cell_type": "markdown",
   "metadata": {
    "id": "ez3QGURjW3Oq"
   },
   "source": [
    "### Работа с индексами\n",
    "\n",
    "С помощью квадратных скобок можно обращаться к элементам списка"
   ]
  },
  {
   "cell_type": "code",
   "execution_count": null,
   "metadata": {
    "colab": {
     "base_uri": "https://localhost:8080/",
     "height": 36
    },
    "id": "U6djiTWtW1yN",
    "outputId": "0608c17d-4069-4ddc-b60e-43e73acc02d6"
   },
   "outputs": [],
   "source": [
    "my_list = ['Это', 'предложение', 'разбитое', 'на', 'слова']\n",
    "\n",
    "my_list[3] #начинаем с нуля!"
   ]
  },
  {
   "cell_type": "code",
   "execution_count": null,
   "metadata": {
    "colab": {
     "base_uri": "https://localhost:8080/"
    },
    "id": "sjM8v7pLXsT2",
    "outputId": "51edc4b2-ec25-4ae5-c263-b172cae1aac2"
   },
   "outputs": [],
   "source": [
    "my_list[2:4] #с 2 включительно по 4 не включительно"
   ]
  },
  {
   "cell_type": "code",
   "execution_count": null,
   "metadata": {
    "colab": {
     "base_uri": "https://localhost:8080/"
    },
    "id": "0ZN6O3s9XzV8",
    "outputId": "24333661-0b8f-426c-a6cc-9bcc402dd94a"
   },
   "outputs": [],
   "source": [
    "my_list[:4] #с начала по 4 не включительно"
   ]
  },
  {
   "cell_type": "code",
   "execution_count": null,
   "metadata": {},
   "outputs": [],
   "source": [
    "my_list[-1] #отрицательные числа начинают отсчёт с конца списка; -1 — последний элемент"
   ]
  },
  {
   "cell_type": "markdown",
   "metadata": {},
   "source": [
    "То же самое работает и для строк"
   ]
  },
  {
   "cell_type": "code",
   "execution_count": null,
   "metadata": {},
   "outputs": [],
   "source": [
    "my_string = 'фитотерапия'\n",
    "\n",
    "print(my_string[3])\n",
    "print(my_string[2:4])\n",
    "print(my_string[:4])\n",
    "print(my_string[:1])"
   ]
  },
  {
   "cell_type": "markdown",
   "metadata": {},
   "source": [
    "### Переход от списков к строкам и обратно"
   ]
  },
  {
   "cell_type": "code",
   "execution_count": null,
   "metadata": {
    "colab": {
     "base_uri": "https://localhost:8080/",
     "height": 36
    },
    "id": "oaUdLWk0YQnL",
    "outputId": "766573f7-f156-4f99-ec18-589bd364940b"
   },
   "outputs": [],
   "source": [
    "' '.join(my_list[:4]) #Превращаем список в строку с разделителем пробелом"
   ]
  },
  {
   "cell_type": "code",
   "execution_count": null,
   "metadata": {
    "colab": {
     "base_uri": "https://localhost:8080/",
     "height": 36
    },
    "id": "TVehFMtriBoM",
    "outputId": "7fb03eea-2fe3-47df-c039-dfc727fda15b"
   },
   "outputs": [],
   "source": [
    "''.join(my_list[:4]) #Можно выбрать любой другой разделитель, в том числе пустую строку"
   ]
  },
  {
   "cell_type": "code",
   "execution_count": null,
   "metadata": {
    "colab": {
     "base_uri": "https://localhost:8080/"
    },
    "id": "WUOIDfkzaqnO",
    "outputId": "744171de-11a8-41ed-9fe5-3d69c6a5660c"
   },
   "outputs": [],
   "source": [
    "'Это предложение пока не разбито на слова'.split() #В скобках можно указать, по какому символу разбивать — по умолчанию пробел"
   ]
  },
  {
   "cell_type": "markdown",
   "metadata": {
    "id": "I1E91MtxZHW-"
   },
   "source": [
    "#### Задание 7\n",
    "\n",
    "Разбейте это предложение на слова по пробелу, выберите и соедините элементы с 6 по 9, выведите результат"
   ]
  },
  {
   "cell_type": "code",
   "execution_count": null,
   "metadata": {
    "colab": {
     "base_uri": "https://localhost:8080/",
     "height": 36
    },
    "id": "p5KFe_TKbnyJ",
    "outputId": "9ab0bb55-9ccd-42cb-b8f8-bab982fac916"
   },
   "outputs": [],
   "source": [
    "#Решение задания 7\n",
    "\n"
   ]
  },
  {
   "cell_type": "markdown",
   "metadata": {},
   "source": [
    "#### Ещё рара слов об изменении списков"
   ]
  },
  {
   "cell_type": "code",
   "execution_count": 39,
   "metadata": {},
   "outputs": [
    {
     "data": {
      "text/plain": [
       "['элемент']"
      ]
     },
     "execution_count": 39,
     "metadata": {},
     "output_type": "execute_result"
    }
   ],
   "source": [
    "# добавление элемента\n",
    "my_list = []\n",
    "my_list.append('элемент')\n",
    "my_list"
   ]
  },
  {
   "cell_type": "markdown",
   "metadata": {},
   "source": [
    "А в чем разница + и append?\n",
    "\n",
    "**Оператор +**:\n",
    "   - Используется для конкатенации (объединения) двух списков\n",
    "   - Создает новый список, содержащий элементы обоих исходных списков\n",
    "   - Не изменяет исходные списки\n",
    "\n",
    "**Метод append()**:\n",
    "   - Используется для добавления элемента в конец списка\n",
    "   - Изменяет исходный список, добавляя элемент в его конец"
   ]
  },
  {
   "cell_type": "code",
   "execution_count": 40,
   "metadata": {},
   "outputs": [
    {
     "name": "stdout",
     "output_type": "stream",
     "text": [
      "[1, 2, 3, 4, 5, 6]\n"
     ]
    }
   ],
   "source": [
    "list1 = [1, 2, 3]\n",
    "list2 = [4, 5, 6]\n",
    "combined_list = list1 + list2\n",
    "print(combined_list)  #  [1, 2, 3, 4, 5, 6]"
   ]
  },
  {
   "cell_type": "code",
   "execution_count": 41,
   "metadata": {},
   "outputs": [
    {
     "name": "stdout",
     "output_type": "stream",
     "text": [
      "[1, 2, 3, 4]\n"
     ]
    }
   ],
   "source": [
    "my_list = [1, 2, 3]\n",
    "my_list.append(4)\n",
    "print(my_list)  #  [1, 2, 3, 4]"
   ]
  },
  {
   "cell_type": "markdown",
   "metadata": {},
   "source": [
    "Если вы хотите объединить два списка в новом списке, используйте оператор +, а если вы хотите добавить элемент в существующий список, используйте метод append()"
   ]
  },
  {
   "cell_type": "markdown",
   "metadata": {
    "id": "-ok6khtCGot0"
   },
   "source": [
    "### Циклы\n",
    "\n",
    "Бывает, что одно и то же действие нужно выполнить множество раз.\n",
    "\n",
    "Цикл _while_ выполняет действие, пока не выполнится какое-то условие\n",
    "\n",
    "Цикл _for ... in_ идёт по списку (или другому итерируемому объекту) и выполняет действие для каждого элемента.\n",
    "\n",
    "Мы будем использовать практически только второй цикл."
   ]
  },
  {
   "cell_type": "code",
   "execution_count": 42,
   "metadata": {
    "id": "kCofjl5zdVfG"
   },
   "outputs": [],
   "source": [
    "import random"
   ]
  },
  {
   "cell_type": "code",
   "execution_count": 43,
   "metadata": {
    "colab": {
     "base_uri": "https://localhost:8080/",
     "height": 36
    },
    "id": "dHYfvUHJGkL_",
    "outputId": "e5bc60f1-63c6-4bf9-9161-e53963efa3ba"
   },
   "outputs": [
    {
     "data": {
      "text/plain": [
       "'ssjvh'"
      ]
     },
     "execution_count": 43,
     "metadata": {},
     "output_type": "execute_result"
    }
   ],
   "source": [
    "letters = 'tyujhgvfbsdfkjsl' #Попробуем понять, что здесь происходит\n",
    "\n",
    "made_up_word = ''\n",
    "\n",
    "while len(made_up_word) < 5:\n",
    "  made_up_word = made_up_word + random.choice(letters)\n",
    "\n",
    "made_up_word"
   ]
  },
  {
   "cell_type": "code",
   "execution_count": 44,
   "metadata": {
    "colab": {
     "base_uri": "https://localhost:8080/"
    },
    "id": "lA_QRbkoc4YL",
    "outputId": "4b7b8cc1-c6dd-42b7-b1c7-55fb55dda4f7"
   },
   "outputs": [
    {
     "name": "stdout",
     "output_type": "stream",
     "text": [
      "Это\n",
      "предложение\n",
      "разбитое\n",
      "на\n",
      "слова\n"
     ]
    }
   ],
   "source": [
    "my_list = ['Это', 'предложение', 'разбитое', 'на', 'слова']\n",
    "\n",
    "for word in my_list: #Берём каждый элемент списка my_list и выводим его на печать\n",
    "  print(word)"
   ]
  },
  {
   "cell_type": "code",
   "execution_count": 45,
   "metadata": {
    "colab": {
     "base_uri": "https://localhost:8080/"
    },
    "id": "7SZGAeYrdo6C",
    "outputId": "1de916ac-b762-433d-d4e4-753883d2e3d2"
   },
   "outputs": [
    {
     "data": {
      "text/plain": [
       "[3, 11, 8, 2, 5]"
      ]
     },
     "execution_count": 45,
     "metadata": {},
     "output_type": "execute_result"
    }
   ],
   "source": [
    "my_list_lengths = [] #Создаём список, который будет запоминать длины слов\n",
    "\n",
    "for word in my_list:#Берём каждый элемент списка my_list\n",
    "  word_length = len(word) #Считаем длину элемента\n",
    "  my_list_lengths.append(word_length) #Добавляем его в список с длинами слов\n",
    "\n",
    "my_list_lengths"
   ]
  },
  {
   "cell_type": "code",
   "execution_count": 46,
   "metadata": {
    "colab": {
     "base_uri": "https://localhost:8080/"
    },
    "id": "AHV7wcRZd7DS",
    "outputId": "54e747cb-7178-456c-dad6-74285a03c391"
   },
   "outputs": [
    {
     "data": {
      "text/plain": [
       "5.8"
      ]
     },
     "execution_count": 46,
     "metadata": {},
     "output_type": "execute_result"
    }
   ],
   "source": [
    "sum(my_list_lengths)/len(my_list_lengths) #Делим сумму всех элементов списка на их количество"
   ]
  },
  {
   "cell_type": "markdown",
   "metadata": {
    "id": "AFGjZXGGfQN0"
   },
   "source": [
    "#### Задание 8\n",
    "\n",
    "Напишите блок кода, в котором после каждой гласной буквы вставляется слог \"бу\" и выводит получившийся результата. Например, _домик_ --> _добумибук_. Можете использовать уже вписанные фрагменты кода, они пригодятся.\n",
    "\n",
    "Указание 1: по элементам строки можно итерировать так же, как и по списку.\n",
    "\n",
    "Указание 2: оператор _in_ умеет проверять, входит ли символ в строку или входит ли элемент в список."
   ]
  },
  {
   "cell_type": "code",
   "execution_count": null,
   "metadata": {
    "colab": {
     "base_uri": "https://localhost:8080/",
     "height": 36
    },
    "id": "gwea8gUkhXfT",
    "outputId": "040aa4a1-3e7c-4db5-cd0b-c4170d472277"
   },
   "outputs": [],
   "source": [
    "my_word = \"домик\"\n",
    "\n",
    "new_word = ''\n",
    "\n",
    "vowels = \n",
    "\n",
    "for ... in:\n",
    "\n",
    "  if \n",
    "\n"
   ]
  },
  {
   "cell_type": "markdown",
   "metadata": {},
   "source": [
    "#### Вложенные циклы"
   ]
  },
  {
   "cell_type": "code",
   "execution_count": 50,
   "metadata": {},
   "outputs": [
    {
     "name": "stdout",
     "output_type": "stream",
     "text": [
      "вложенный\n",
      "в\n",
      "л\n",
      "о\n",
      "ж\n",
      "е\n",
      "н\n",
      "н\n",
      "ы\n",
      "й\n",
      "цикл\n",
      "ц\n",
      "и\n",
      "к\n",
      "л\n"
     ]
    }
   ],
   "source": [
    "n = ['вложенный', 'цикл']\n",
    "for i in n: # идем по каждому элементу (сейчас на уровне списка)\n",
    "    print(i)\n",
    "    for j in i: # идем по каждому элементу (сейчас на уровне строки)\n",
    "        print(j)"
   ]
  },
  {
   "cell_type": "code",
   "execution_count": 51,
   "metadata": {},
   "outputs": [
    {
     "name": "stdout",
     "output_type": "stream",
     "text": [
      " **   ** \n",
      "**** ****\n",
      "*********\n",
      " ******* \n",
      "  *****  \n",
      "   ***   \n",
      "    *    \n"
     ]
    }
   ],
   "source": [
    "h = 7\n",
    "w = h + 2\n",
    "m = w // 4\n",
    "for i in range(1, h+1):\n",
    "    if (i <= m):\n",
    "        print(\" \" * (m-i) + \"*\" * (2*i) + \" \" * (w-2*i-2*m) + \"*\" *(2*i) + \" \" * (m-i))\n",
    "    else:\n",
    "      print(\" \" * (i - 2*m+1) + \"*\" * (w-2*(i-2*m+1)) + \" \" * (i - 2*m+1))"
   ]
  },
  {
   "cell_type": "markdown",
   "metadata": {
    "id": "Yd0i9JNnr3A_"
   },
   "source": [
    "#### Генераторы списков\n",
    "\n",
    "сокращённая версия для записи конкретного вида циклов\n",
    "\n",
    "\\[_то что попадёт в новый список_ for _переменная_ in _старый список_ if _опциональное условие_ \\]\n"
   ]
  },
  {
   "cell_type": "code",
   "execution_count": 53,
   "metadata": {
    "colab": {
     "base_uri": "https://localhost:8080/"
    },
    "id": "YyJZic28sOgm",
    "outputId": "8d5e1001-1c5a-4e89-dcf2-ebedf1673198"
   },
   "outputs": [
    {
     "data": {
      "text/plain": [
       "['с', 'л', 'о', 'в', 'о']"
      ]
     },
     "execution_count": 53,
     "metadata": {},
     "output_type": "execute_result"
    }
   ],
   "source": [
    "my_word = 'слово'\n",
    "\n",
    "split_list = [letter for letter in my_word]\n",
    "split_list"
   ]
  },
  {
   "cell_type": "code",
   "execution_count": 54,
   "metadata": {
    "colab": {
     "base_uri": "https://localhost:8080/"
    },
    "id": "wJEjoCuns1JT",
    "outputId": "6a905fe3-e696-467b-dbb3-88a3e090d07a"
   },
   "outputs": [
    {
     "data": {
      "text/plain": [
       "['с', 'л', 'о', 'в', 'о']"
      ]
     },
     "execution_count": 54,
     "metadata": {},
     "output_type": "execute_result"
    }
   ],
   "source": [
    "other_split_list = []\n",
    "\n",
    "for letter in 'слово':\n",
    "  other_split_list.append(letter)\n",
    "\n",
    "other_split_list"
   ]
  },
  {
   "cell_type": "code",
   "execution_count": 55,
   "metadata": {
    "colab": {
     "base_uri": "https://localhost:8080/"
    },
    "id": "aUUxdpWYsTYO",
    "outputId": "bf791753-a2e5-4036-e6ed-1cce1c9a4b31"
   },
   "outputs": [
    {
     "data": {
      "text/plain": [
       "[3, 4, 5]"
      ]
     },
     "execution_count": 55,
     "metadata": {},
     "output_type": "execute_result"
    }
   ],
   "source": [
    "[number + 2 for number in [1, 2, 3]]"
   ]
  },
  {
   "cell_type": "code",
   "execution_count": 56,
   "metadata": {
    "colab": {
     "base_uri": "https://localhost:8080/"
    },
    "id": "R3Cw3UReUwOd",
    "outputId": "1d93d713-01ea-4238-e62c-a6db78c3134b"
   },
   "outputs": [
    {
     "data": {
      "text/plain": [
       "['сбу', 'лбу', 'обу', 'вбу', 'обу']"
      ]
     },
     "execution_count": 56,
     "metadata": {},
     "output_type": "execute_result"
    }
   ],
   "source": [
    "split_list = [letter + 'бу' for letter in my_word]\n",
    "split_list"
   ]
  },
  {
   "cell_type": "code",
   "execution_count": 57,
   "metadata": {
    "colab": {
     "base_uri": "https://localhost:8080/"
    },
    "id": "i1A55e3DtHt0",
    "outputId": "1015ac84-f939-4fb0-af6c-f69dd1514654"
   },
   "outputs": [
    {
     "data": {
      "text/plain": [
       "['с', 'л', 'в']"
      ]
     },
     "execution_count": 57,
     "metadata": {},
     "output_type": "execute_result"
    }
   ],
   "source": [
    "[letter for letter in 'слово' if letter != 'о'] #!= — это \"не равно\""
   ]
  },
  {
   "cell_type": "markdown",
   "metadata": {
    "id": "mmVek-Eitgvx"
   },
   "source": [
    "#### Задание 9\n",
    "\n",
    "Сделаем вид, что мы умеем выполнять морфологический анализ слов. Будем считать, что все слова в языке — существительные:)\n",
    "\n",
    "Сделайте блок кода, который анализирует каждое слово в предложении, приписывая к нему часть речи — существительное через нижнее подчёркивание. На слова делите просто по пробелам.\n",
    "\n",
    "Используйте генератор списков."
   ]
  },
  {
   "cell_type": "code",
   "execution_count": 58,
   "metadata": {
    "colab": {
     "base_uri": "https://localhost:8080/"
    },
    "id": "ORfywnactOLb",
    "outputId": "da1c88ab-d04a-451f-d10d-27a2dc56a423"
   },
   "outputs": [],
   "source": [
    "#Решение задания 9\n",
    "\n",
    "sentence = 'Никто не заметит, что здесь не только существительные!'\n"
   ]
  },
  {
   "cell_type": "markdown",
   "metadata": {},
   "source": [
    "### Где читать про питон\n",
    "\n",
    "- [Документация](https://www.python.org/)\n",
    "- [Учебник яндекса](https://education.yandex.ru/handbook/python)\n",
    "- [Хабр](https://habr.com/ru/articles/450474/)\n",
    "- [Курс от Stepik](https://stepik.org/course/58852/promo#toc) с короткими текстовыми блоками и множеством заданий\n",
    "- [Ещё один похожий курс](https://www.w3schools.com/python/default.asp) с большей опорой на примеры"
   ]
  }
 ],
 "metadata": {
  "colab": {
   "provenance": []
  },
  "kernelspec": {
   "display_name": "Python 3 (ipykernel)",
   "language": "python",
   "name": "python3"
  },
  "language_info": {
   "codemirror_mode": {
    "name": "ipython",
    "version": 3
   },
   "file_extension": ".py",
   "mimetype": "text/x-python",
   "name": "python",
   "nbconvert_exporter": "python",
   "pygments_lexer": "ipython3",
   "version": "3.12.7"
  }
 },
 "nbformat": 4,
 "nbformat_minor": 4
}
