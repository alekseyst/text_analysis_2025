{
  "cells": [
    {
      "cell_type": "markdown",
      "metadata": {
        "id": "JJLAEQoeRjCu"
      },
      "source": [
        "# Что умеет Питон?\n",
        "\n",
        "## Если коротко\n",
        "\n",
        "- быстро и много работать\n",
        "- но если ему чётко сказать как\n",
        "- вы говорите с ним на особом языке, который похож на английский, но с кучей условностей\n",
        "- это нужно, чтобы вас лучше понимали — но чтобы понимать самим, что происходит, нужно разобраться..."
      ]
    },
    {
      "cell_type": "markdown",
      "metadata": {
        "id": "qPlzHnLusQe9"
      },
      "source": [
        "## Дополнительные соображения, польза которых может стать понятнее позже\n",
        "\n",
        "- всё можно и нужно проверять руками\n",
        "- умение гуглить может пригодиться больше чем знание, как сделать разные вещи в Питоне\n",
        "- если нужно решить задачу, которая поставлена в достаточно общем виде, разбейте её на небольшие пункты, про которые вы понимаете, как их сделать (или понимаете, как загуглить, как их сделать); выстройте пункты в нужном порядке и получите результат\n",
        "- проверяйте, что код работает, в процессе написания"
      ]
    },
    {
      "cell_type": "markdown",
      "metadata": {
        "id": "vOQdkp3-RsFY"
      },
      "source": [
        "## А где мы сейчас?\n",
        "\n",
        "- [перейдите по ссылке](https://colab.research.google.com/)\n",
        "- это Google Colab — онлайн реализация [Jupyter Notebook](https://jupyter.org/)\n",
        "- здесь можно сделать текстовую ячейку с помощью [Markdown](https://www.markdownguide.org/cheat-sheet/)\n",
        "- или ячейку с кодом (они ниже)\n",
        "- в каждой ячейке код выполняется отдельно и в конце выводится результат\n",
        "- [ссылка на эту тетрадку](https://colab.research.google.com/drive/1NUUFBZP3vcmFO405p6J4p46rO9aEalT6?usp=sharing) — её можно скопировать к себе и выполнять задания прямо в ней\n",
        "\n",
        "Удобные горячие клавиши:\n",
        "\n",
        "- Ctrl + Enter: выполнить ячейку\n",
        "- Shift + Enter: перейти на следующую ячейку"
      ]
    },
    {
      "cell_type": "markdown",
      "metadata": {
        "id": "y1Qkj8VXTJ8E"
      },
      "source": [
        "## Перейдём к делу!\n"
      ]
    },
    {
      "cell_type": "code",
      "execution_count": 1,
      "metadata": {
        "id": "-kg8ygXsRgwx"
      },
      "outputs": [],
      "source": [
        "#Это комментарий — он начинается с решётки и ничего не делает\n",
        "#Зато комментариями можно писать пояснения"
      ]
    },
    {
      "cell_type": "markdown",
      "metadata": {
        "id": "ZNIzpRG0TeTv"
      },
      "source": [
        "### Питон можно использовать как калькулятор\n",
        "\n",
        "Из неочевидного (и не очень-то пригодится):\n",
        "\n",
        "- \\* — умножение\n",
        "- / — деление\n",
        "- ** — возведение в степень\n",
        "- // — деление без остатка\n",
        "- % — остаток от деления\n",
        "\n",
        "Чтобы запустить ячейку нажмите на треугольник или Ctrl-Enter"
      ]
    },
    {
      "cell_type": "code",
      "execution_count": 2,
      "metadata": {
        "colab": {
          "base_uri": "https://localhost:8080/"
        },
        "id": "fLG7Bd5eTZvH",
        "outputId": "a3208ad3-fe17-497a-ab70-7e79d55a6217"
      },
      "outputs": [
        {
          "output_type": "execute_result",
          "data": {
            "text/plain": [
              "8"
            ]
          },
          "metadata": {},
          "execution_count": 2
        }
      ],
      "source": [
        "3 + 5"
      ]
    },
    {
      "cell_type": "code",
      "execution_count": 3,
      "metadata": {
        "colab": {
          "base_uri": "https://localhost:8080/"
        },
        "id": "w_H0a6jnT1LL",
        "outputId": "b604ea07-c43f-4e60-fdde-ad47f771c716"
      },
      "outputs": [
        {
          "output_type": "execute_result",
          "data": {
            "text/plain": [
              "3200"
            ]
          },
          "metadata": {},
          "execution_count": 3
        }
      ],
      "source": [
        "8 * 400"
      ]
    },
    {
      "cell_type": "code",
      "execution_count": 4,
      "metadata": {
        "colab": {
          "base_uri": "https://localhost:8080/"
        },
        "id": "m0fAPGiOT3qZ",
        "outputId": "1ff425d5-30fb-47e9-e704-199e715ee582"
      },
      "outputs": [
        {
          "output_type": "execute_result",
          "data": {
            "text/plain": [
              "12.5"
            ]
          },
          "metadata": {},
          "execution_count": 4
        }
      ],
      "source": [
        "(5 ** 2) / 2"
      ]
    },
    {
      "cell_type": "code",
      "execution_count": 5,
      "metadata": {
        "colab": {
          "base_uri": "https://localhost:8080/"
        },
        "id": "KO2lrKJcUBfA",
        "outputId": "2760367a-dc4a-4f1a-be34-9d2c25a1f759"
      },
      "outputs": [
        {
          "output_type": "execute_result",
          "data": {
            "text/plain": [
              "12"
            ]
          },
          "metadata": {},
          "execution_count": 5
        }
      ],
      "source": [
        "25 // 2"
      ]
    },
    {
      "cell_type": "markdown",
      "metadata": {
        "id": "8EY48cBHkhZb"
      },
      "source": [
        "### Немного про приоритет\n",
        "\n",
        "В школьной математике есть понятие «приоритет операции». Приоритет определяет, в какой последовательности должны выполняться операции. Умножение и деление имеют больший приоритет, чем сложение и вычитание, а приоритет возведения в степень выше всех остальных арифметических операций. Например: 2 ** 3 * 2 вычислится в 16."
      ]
    },
    {
      "cell_type": "code",
      "execution_count": 6,
      "metadata": {
        "colab": {
          "base_uri": "https://localhost:8080/"
        },
        "id": "qLuWzuVQsQfB",
        "outputId": "7c017475-3893-4cec-a866-6bc2ed5fcf13"
      },
      "outputs": [
        {
          "output_type": "stream",
          "name": "stdout",
          "text": [
            "9\n",
            "14.0\n"
          ]
        }
      ],
      "source": [
        "print(3 ** (4 - 2))  # => 9\n",
        "print(7 * 3 + (4 / 2) - (8 + (2 - 1)))  # => 14"
      ]
    },
    {
      "cell_type": "markdown",
      "metadata": {
        "id": "_uwTuzzPsQfB"
      },
      "source": [
        "#### Задание 1.1\n",
        "\n",
        "Посчитайте с помощью Питона результат выражения $5 + 8 + 73$"
      ]
    },
    {
      "cell_type": "code",
      "execution_count": 7,
      "metadata": {
        "id": "pSD9XQw3lWXq"
      },
      "outputs": [],
      "source": [
        "#Решение задания 1.1\n",
        "\n"
      ]
    },
    {
      "cell_type": "markdown",
      "metadata": {
        "id": "8tOQUMH1mPq-"
      },
      "source": [
        "#### Задание 1.2\n",
        "\n",
        "Посчитайте с помощью Питона результат выражения $\\frac{365^3}{73^2}$"
      ]
    },
    {
      "cell_type": "code",
      "execution_count": 8,
      "metadata": {
        "id": "_xxipAyxmWw2"
      },
      "outputs": [],
      "source": [
        "#Решение задания 1.2\n",
        "\n"
      ]
    },
    {
      "cell_type": "markdown",
      "metadata": {
        "id": "bKL_feoNY0dg"
      },
      "source": [
        "### Переменные\n",
        "\n",
        "Мы можем попросить Питон что-нибудь запомнить\n",
        "\n",
        "Для этого используетя знак \"=\". Название переменной слева от равно, то, что запоминаем, справа"
      ]
    },
    {
      "cell_type": "code",
      "execution_count": 9,
      "metadata": {
        "colab": {
          "base_uri": "https://localhost:8080/"
        },
        "id": "qmakdbDwWsNx",
        "outputId": "c67c32d0-12cf-407e-f8d3-a4bad9c4d392"
      },
      "outputs": [
        {
          "output_type": "execute_result",
          "data": {
            "text/plain": [
              "5"
            ]
          },
          "metadata": {},
          "execution_count": 9
        }
      ],
      "source": [
        "a = 5\n",
        "\n",
        "a"
      ]
    },
    {
      "cell_type": "code",
      "execution_count": 10,
      "metadata": {
        "id": "NMcNtZEIagwN",
        "colab": {
          "base_uri": "https://localhost:8080/"
        },
        "outputId": "6ded9169-bc1f-477a-baa0-c54a517e5388"
      },
      "outputs": [
        {
          "output_type": "execute_result",
          "data": {
            "text/plain": [
              "12.5"
            ]
          },
          "metadata": {},
          "execution_count": 10
        }
      ],
      "source": [
        "b = (5 ** 2) / 2\n",
        "\n",
        "b"
      ]
    },
    {
      "cell_type": "code",
      "execution_count": 11,
      "metadata": {
        "colab": {
          "base_uri": "https://localhost:8080/"
        },
        "id": "oq8Gyb4ci-A0",
        "outputId": "ac72e1cc-c6c0-423b-f29d-e6938275152e"
      },
      "outputs": [
        {
          "output_type": "execute_result",
          "data": {
            "text/plain": [
              "17.5"
            ]
          },
          "metadata": {},
          "execution_count": 11
        }
      ],
      "source": [
        "a + b"
      ]
    },
    {
      "cell_type": "markdown",
      "metadata": {
        "id": "4oIZhIKdjCgN"
      },
      "source": [
        "Никогда не называйте переменные так, как выше! Используйте понятные название: чтобы вы или кто-то ещё, читая ваш код, не запутался на третьей строчке."
      ]
    },
    {
      "cell_type": "markdown",
      "metadata": {
        "id": "9YfpY274md_8"
      },
      "source": [
        "#### Задание 2\n",
        "\n",
        "Вычислите $\\frac{365^3}{73^2}$ и сразу запишите результат подсчёта выражения  в переменную. Назовите её осмысленно."
      ]
    },
    {
      "cell_type": "code",
      "execution_count": 12,
      "metadata": {
        "id": "yIT_jKqRjN8H"
      },
      "outputs": [],
      "source": [
        "#Решение задания 2\n",
        "\n"
      ]
    },
    {
      "cell_type": "markdown",
      "metadata": {
        "id": "FVRViwgMms8U"
      },
      "source": [
        "### Сравнение\n",
        "\n",
        "Мы используем равно, чтобы что-то записать в переменную. Но как же тогда что-нибудь сравнить?!"
      ]
    },
    {
      "cell_type": "code",
      "execution_count": 15,
      "metadata": {
        "colab": {
          "base_uri": "https://localhost:8080/",
          "height": 108
        },
        "id": "BbTOcsJtjAQA",
        "outputId": "e0479217-951c-4e92-9840-1155c2dcd9d3"
      },
      "outputs": [
        {
          "output_type": "error",
          "ename": "SyntaxError",
          "evalue": "cannot assign to literal here. Maybe you meant '==' instead of '='? (<ipython-input-15-630384a8c793>, line 1)",
          "traceback": [
            "\u001b[0;36m  File \u001b[0;32m\"<ipython-input-15-630384a8c793>\"\u001b[0;36m, line \u001b[0;32m1\u001b[0m\n\u001b[0;31m    5 = 3 + 2\u001b[0m\n\u001b[0m    ^\u001b[0m\n\u001b[0;31mSyntaxError\u001b[0m\u001b[0;31m:\u001b[0m cannot assign to literal here. Maybe you meant '==' instead of '='?\n"
          ]
        }
      ],
      "source": [
        " 5 = 3 + 2"
      ]
    },
    {
      "cell_type": "code",
      "execution_count": 16,
      "metadata": {
        "colab": {
          "base_uri": "https://localhost:8080/"
        },
        "id": "fJu4rB4Nnnm3",
        "outputId": "f39022bd-8d82-4868-9831-092b3ae9a634"
      },
      "outputs": [
        {
          "output_type": "execute_result",
          "data": {
            "text/plain": [
              "True"
            ]
          },
          "metadata": {},
          "execution_count": 16
        }
      ],
      "source": [
        " 5 == 3 + 2"
      ]
    },
    {
      "cell_type": "code",
      "execution_count": 17,
      "metadata": {
        "colab": {
          "base_uri": "https://localhost:8080/"
        },
        "id": "wFuvVJlfnpLe",
        "outputId": "4257b4ad-52f1-4575-ca92-ed06ac386ce1"
      },
      "outputs": [
        {
          "output_type": "execute_result",
          "data": {
            "text/plain": [
              "False"
            ]
          },
          "metadata": {},
          "execution_count": 17
        }
      ],
      "source": [
        " 5 == 3 + 3"
      ]
    },
    {
      "cell_type": "markdown",
      "metadata": {
        "id": "d6vH76LIn2Jo"
      },
      "source": [
        "Для сравнения используем знаки \"==\", \">\", \"<\" и получаем как значения \"Правда\" (True) или \"Ложь\" (False).\n",
        "\n",
        "Зачем это вообще? Для того, чтобы писать условия. Конструкция выглядит так:"
      ]
    },
    {
      "cell_type": "code",
      "execution_count": null,
      "metadata": {
        "id": "A7FMD59HnrhG"
      },
      "outputs": [],
      "source": [
        "# Эта ячейка не отработает, потому что в ней не указано ни условие, ни результат\n",
        "if условие:\n",
        "  #результат 1\n",
        "elif условие 2:\n",
        "  #результат 2\n",
        "else:\n",
        "  #результат 3\n",
        "\n",
        "#Любой фрагмент, кроме первого if, можно опустить"
      ]
    },
    {
      "cell_type": "code",
      "execution_count": 14,
      "metadata": {
        "colab": {
          "base_uri": "https://localhost:8080/"
        },
        "id": "eQO0Zs-Ao_6c",
        "outputId": "04eacac2-33f8-46e5-dd40-0e8109b1c292"
      },
      "outputs": [
        {
          "output_type": "stream",
          "name": "stdout",
          "text": [
            "Это ноль\n"
          ]
        }
      ],
      "source": [
        "#Вот эти вот штуки print(\"Это положительное число\") — это мы забегаем вперёд\n",
        "#Если вы чувствуете, что нам нужны не только числа — то вот они не числа!\n",
        "\n",
        "x = 0\n",
        "\n",
        "if x > 0:\n",
        "  print(\"Это положительное число\")\n",
        "elif x < 0:\n",
        "  print(\"Это отрицательное число\")\n",
        "else:\n",
        "  print(\"Это ноль\")"
      ]
    },
    {
      "cell_type": "markdown",
      "metadata": {
        "id": "YYFFHPZopWm4"
      },
      "source": [
        "#### Задание 3\n",
        "\n",
        "Напишите условие, которое проверяет, равно ли число 5, и если да — печатает 5, а если нет — говорит, что это не 5"
      ]
    },
    {
      "cell_type": "code",
      "execution_count": null,
      "metadata": {
        "id": "Dpg-vcZ9pOXJ"
      },
      "outputs": [],
      "source": [
        "#Решение задания 3\n",
        "\n"
      ]
    },
    {
      "cell_type": "markdown",
      "metadata": {
        "id": "Z24puYJjqNgn"
      },
      "source": [
        "###Типы данных\n",
        "\n",
        "До этого мы в основном работали с числами, но хотим, конечно, работать не только с ними\n",
        "\n",
        "- строки — содержат текстовую информацию и пишутся в кавычках '' или \"\"\n",
        "- списки — содержат набор элементов Питона и пишутся в квадратных скобках через запятую [ ]\n",
        "- словари — содержат пару элементов (ключ — key и значение — value) и пишутся в фигурных скобках через запятую\n",
        "- есть и другие типы данных, но нам пока хватит:)"
      ]
    },
    {
      "cell_type": "code",
      "execution_count": 18,
      "metadata": {
        "colab": {
          "base_uri": "https://localhost:8080/",
          "height": 36
        },
        "id": "Atru_PoBrfw2",
        "outputId": "cdc7acd3-3f7b-48f9-a4af-76541f6c4103"
      },
      "outputs": [
        {
          "output_type": "execute_result",
          "data": {
            "text/plain": [
              "'это строка'"
            ],
            "application/vnd.google.colaboratory.intrinsic+json": {
              "type": "string"
            }
          },
          "metadata": {},
          "execution_count": 18
        }
      ],
      "source": [
        "new_line = 'это строка'\n",
        "\n",
        "new_line"
      ]
    },
    {
      "cell_type": "code",
      "execution_count": 19,
      "metadata": {
        "colab": {
          "base_uri": "https://localhost:8080/"
        },
        "id": "SX0To4Gfrmxn",
        "outputId": "5e60ea1c-42ef-428d-dc65-69c7aa609bbc"
      },
      "outputs": [
        {
          "output_type": "execute_result",
          "data": {
            "text/plain": [
              "[4, 'я очень разнообразный', [2, 3], 'это строка']"
            ]
          },
          "metadata": {},
          "execution_count": 19
        }
      ],
      "source": [
        "new_list = [4, 'я очень разнообразный', [2, 3], new_line]\n",
        "\n",
        "new_list"
      ]
    },
    {
      "cell_type": "code",
      "source": [
        "new_dict = {'ключ': 'значение', 'другой ключ': 42, 'третий ключ': new_list}\n",
        "\n",
        "new_dict"
      ],
      "metadata": {
        "colab": {
          "base_uri": "https://localhost:8080/"
        },
        "id": "IDbnEaSPVJHa",
        "outputId": "73e0a374-06f4-4a89-d65f-3981a5204e04"
      },
      "execution_count": 20,
      "outputs": [
        {
          "output_type": "execute_result",
          "data": {
            "text/plain": [
              "{'ключ': 'значение',\n",
              " 'другой ключ': 42,\n",
              " 'третий ключ': [4, 'я очень разнообразный', [2, 3], 'это строка']}"
            ]
          },
          "metadata": {},
          "execution_count": 20
        }
      ]
    },
    {
      "cell_type": "markdown",
      "source": [
        "Каждый тип данных умеет что-то полезное. В словаре, например, по ключу легко можно получить доступ к значению, а другие типы мы рассмотрим подробнее ниже."
      ],
      "metadata": {
        "id": "2BWodyNbV3Js"
      }
    },
    {
      "cell_type": "code",
      "source": [
        "new_dict['ключ']"
      ],
      "metadata": {
        "colab": {
          "base_uri": "https://localhost:8080/",
          "height": 36
        },
        "id": "StMb7WngVuIx",
        "outputId": "52aba9f7-aeb1-4a72-ab18-9620f37e058f"
      },
      "execution_count": 21,
      "outputs": [
        {
          "output_type": "execute_result",
          "data": {
            "text/plain": [
              "'значение'"
            ],
            "application/vnd.google.colaboratory.intrinsic+json": {
              "type": "string"
            }
          },
          "metadata": {},
          "execution_count": 21
        }
      ]
    },
    {
      "cell_type": "markdown",
      "metadata": {
        "id": "TfOytg3gsD2G"
      },
      "source": [
        "#### Задание 4\n",
        "\n",
        "Создайте список и выведите и запишите в него два любых числа, один список и две переменные. Переменные придётся создать заранее."
      ]
    },
    {
      "cell_type": "code",
      "execution_count": 22,
      "metadata": {
        "id": "7YTn4iCvr5iI"
      },
      "outputs": [],
      "source": [
        "#Решение задания 4\n",
        "\n"
      ]
    },
    {
      "cell_type": "markdown",
      "metadata": {
        "id": "JDEba3spsX04"
      },
      "source": [
        "Со строками и списками, как и с числами, можно производить разные операции. Не всегда предсказуемо, что произойдёт — и чтобы узнать, как сделать что-то конкретное со строкой или списком, обычно приходится искать это"
      ]
    },
    {
      "cell_type": "code",
      "execution_count": 23,
      "metadata": {
        "colab": {
          "base_uri": "https://localhost:8080/",
          "height": 36
        },
        "id": "hy2Re4azsVBD",
        "outputId": "093769ef-6b42-4584-fc3e-0d28ab1b0501"
      },
      "outputs": [
        {
          "output_type": "execute_result",
          "data": {
            "text/plain": [
              "'дваслова'"
            ],
            "application/vnd.google.colaboratory.intrinsic+json": {
              "type": "string"
            }
          },
          "metadata": {},
          "execution_count": 23
        }
      ],
      "source": [
        "two_words = \"два\" + \"слова\"\n",
        "\n",
        "two_words"
      ]
    },
    {
      "cell_type": "code",
      "execution_count": 24,
      "metadata": {
        "colab": {
          "base_uri": "https://localhost:8080/"
        },
        "id": "CoSQLCBpsQfH",
        "outputId": "a14c990d-8bf7-421e-e793-353434000b34"
      },
      "outputs": [
        {
          "output_type": "execute_result",
          "data": {
            "text/plain": [
              "['two', 'words']"
            ]
          },
          "metadata": {},
          "execution_count": 24
        }
      ],
      "source": [
        "two_more_words = ['two'] + ['words']\n",
        "\n",
        "two_more_words"
      ]
    },
    {
      "cell_type": "code",
      "execution_count": 25,
      "metadata": {
        "colab": {
          "base_uri": "https://localhost:8080/"
        },
        "id": "qBzn-QLQsQfH",
        "outputId": "0963b206-4d57-4478-e7ee-8e9909779bc1"
      },
      "outputs": [
        {
          "output_type": "execute_result",
          "data": {
            "text/plain": [
              "['two', 'words', 'two', 'words', 'two', 'words']"
            ]
          },
          "metadata": {},
          "execution_count": 25
        }
      ],
      "source": [
        "two_more_words * 3"
      ]
    },
    {
      "cell_type": "code",
      "execution_count": 26,
      "metadata": {
        "colab": {
          "base_uri": "https://localhost:8080/"
        },
        "id": "YApKMuZRs7wo",
        "outputId": "36558a39-97ab-40d5-c3e1-2ff218ab5489"
      },
      "outputs": [
        {
          "output_type": "execute_result",
          "data": {
            "text/plain": [
              "8"
            ]
          },
          "metadata": {},
          "execution_count": 26
        }
      ],
      "source": [
        "#Считаем длину слова\n",
        "\n",
        "len(two_words)"
      ]
    },
    {
      "cell_type": "code",
      "execution_count": 27,
      "metadata": {
        "colab": {
          "base_uri": "https://localhost:8080/"
        },
        "id": "0lLvC4oTtdUy",
        "outputId": "d112c62e-9a7d-48ee-955a-6daabb837e5f"
      },
      "outputs": [
        {
          "output_type": "execute_result",
          "data": {
            "text/plain": [
              "4"
            ]
          },
          "metadata": {},
          "execution_count": 27
        }
      ],
      "source": [
        "#Считаем длину списка\n",
        "\n",
        "len(new_list)"
      ]
    },
    {
      "cell_type": "code",
      "execution_count": 28,
      "metadata": {
        "colab": {
          "base_uri": "https://localhost:8080/",
          "height": 36
        },
        "id": "mhdIv6adtOPT",
        "outputId": "7e618bad-1e06-4ae6-b586-02121ab0a101"
      },
      "outputs": [
        {
          "output_type": "execute_result",
          "data": {
            "text/plain": [
              "'Дваслова'"
            ],
            "application/vnd.google.colaboratory.intrinsic+json": {
              "type": "string"
            }
          },
          "metadata": {},
          "execution_count": 28
        }
      ],
      "source": [
        "#Делаем, чтобы слово писалось с заглавной буквы\n",
        "\n",
        "two_words.capitalize()"
      ]
    },
    {
      "cell_type": "code",
      "execution_count": 29,
      "metadata": {
        "colab": {
          "base_uri": "https://localhost:8080/"
        },
        "id": "afjeP8zptuvR",
        "outputId": "fdfb05fc-89c2-4308-f873-12ac94a14b9b"
      },
      "outputs": [
        {
          "output_type": "execute_result",
          "data": {
            "text/plain": [
              "False"
            ]
          },
          "metadata": {},
          "execution_count": 29
        }
      ],
      "source": [
        "#Проверяем, на что кончается слово\n",
        "\n",
        "two_words.endswith('ы')"
      ]
    },
    {
      "cell_type": "markdown",
      "metadata": {
        "id": "7IPyJtCqsQfJ"
      },
      "source": [
        "Не все операции приведут к результату"
      ]
    },
    {
      "cell_type": "code",
      "execution_count": null,
      "metadata": {
        "colab": {
          "base_uri": "https://localhost:8080/",
          "height": 143
        },
        "id": "3jbh2L0dsQfJ",
        "outputId": "9bf8f307-58d2-40b1-c2b0-070ade106de7"
      },
      "outputs": [
        {
          "output_type": "error",
          "ename": "TypeError",
          "evalue": "unsupported operand type(s) for -: 'str' and 'str'",
          "traceback": [
            "\u001b[0;31m---------------------------------------------------------------------------\u001b[0m",
            "\u001b[0;31mTypeError\u001b[0m                                 Traceback (most recent call last)",
            "\u001b[0;32m<ipython-input-35-2b749961cd34>\u001b[0m in \u001b[0;36m<cell line: 0>\u001b[0;34m()\u001b[0m\n\u001b[0;32m----> 1\u001b[0;31m \u001b[0;34m'два слова'\u001b[0m \u001b[0;34m-\u001b[0m \u001b[0;34m'два'\u001b[0m\u001b[0;34m\u001b[0m\u001b[0;34m\u001b[0m\u001b[0m\n\u001b[0m",
            "\u001b[0;31mTypeError\u001b[0m: unsupported operand type(s) for -: 'str' and 'str'"
          ]
        }
      ],
      "source": [
        "'два слова' - 'два'"
      ]
    },
    {
      "cell_type": "markdown",
      "metadata": {
        "id": "bcJebMcDsxa4"
      },
      "source": [
        "#### Задание 5\n",
        "\n",
        "Запишите условие, которое проверяет, кончается ли слово на букву \"а\" и если кончается — дописывает к нему ещё 5 букв \"а\", а если нет — просто возвращает слово"
      ]
    },
    {
      "cell_type": "code",
      "execution_count": 30,
      "metadata": {
        "id": "QljaEp7muDO7"
      },
      "outputs": [],
      "source": [
        "#Решение задания 5\n",
        "\n"
      ]
    },
    {
      "cell_type": "markdown",
      "metadata": {
        "id": "XyZPhw9gudGB"
      },
      "source": [
        "### Функции\n",
        "\n",
        "Мы уже использовали функции — особые выражения, которое пишутся со скобками: print() и выполняют какое-то действие с тем, что внутри скобок\n",
        "\n",
        "То, что мы писали через точку после строк — .capitalize() — тоже функции, но с немного особым синтаксисом.\n",
        "\n",
        "В скобках у функции может быть несколько аргументов — и важно понимать, как именно она будет с ними обращаться."
      ]
    },
    {
      "cell_type": "code",
      "execution_count": 31,
      "metadata": {
        "colab": {
          "base_uri": "https://localhost:8080/"
        },
        "id": "MVantWBrBnJx",
        "outputId": "f10d9f12-19cf-4b4f-c579-eb294dfbc652"
      },
      "outputs": [
        {
          "output_type": "stream",
          "name": "stdout",
          "text": [
            "Hello World!\n"
          ]
        }
      ],
      "source": [
        "#Два аргумента функции\n",
        "print('Hello', 'World!')"
      ]
    },
    {
      "cell_type": "code",
      "execution_count": 32,
      "metadata": {
        "colab": {
          "base_uri": "https://localhost:8080/"
        },
        "id": "WIxO2bP59CAl",
        "outputId": "03cada4e-826f-47cb-8d25-2dd691c07c5c"
      },
      "outputs": [
        {
          "output_type": "stream",
          "name": "stdout",
          "text": [
            "Help on built-in function print in module builtins:\n",
            "\n",
            "print(*args, sep=' ', end='\\n', file=None, flush=False)\n",
            "    Prints the values to a stream, or to sys.stdout by default.\n",
            "    \n",
            "    sep\n",
            "      string inserted between values, default a space.\n",
            "    end\n",
            "      string appended after the last value, default a newline.\n",
            "    file\n",
            "      a file-like object (stream); defaults to the current sys.stdout.\n",
            "    flush\n",
            "      whether to forcibly flush the stream.\n",
            "\n"
          ]
        }
      ],
      "source": [
        "help(print)"
      ]
    },
    {
      "cell_type": "code",
      "execution_count": 33,
      "metadata": {
        "colab": {
          "base_uri": "https://localhost:8080/"
        },
        "id": "5AxK_GpUB2sO",
        "outputId": "f458c052-1888-4488-cf70-e8064f5e24c2"
      },
      "outputs": [
        {
          "output_type": "stream",
          "name": "stdout",
          "text": [
            "Hello____World!"
          ]
        }
      ],
      "source": [
        "print('Hello', 'World', sep = '____', end = '!')"
      ]
    },
    {
      "cell_type": "code",
      "execution_count": 34,
      "metadata": {
        "colab": {
          "base_uri": "https://localhost:8080/",
          "height": 36
        },
        "id": "eqxYacDTB6Ob",
        "outputId": "e7ae3cd4-abc1-47de-839b-4ac084c42389"
      },
      "outputs": [
        {
          "output_type": "execute_result",
          "data": {
            "text/plain": [
              "'это предложение, у которого на конце что-то лишнее'"
            ],
            "application/vnd.google.colaboratory.intrinsic+json": {
              "type": "string"
            }
          },
          "metadata": {},
          "execution_count": 34
        }
      ],
      "source": [
        "'это предложение, у которого на конце что-то лишнее \\n'.strip()"
      ]
    },
    {
      "cell_type": "code",
      "execution_count": 35,
      "metadata": {
        "colab": {
          "base_uri": "https://localhost:8080/",
          "height": 36
        },
        "id": "l5PlSD97Gb28",
        "outputId": "3189428c-520d-49c2-88bd-83d7c22562c8"
      },
      "outputs": [
        {
          "output_type": "execute_result",
          "data": {
            "text/plain": [
              "'это предложение, у которого на конце что-то лишнее '"
            ],
            "application/vnd.google.colaboratory.intrinsic+json": {
              "type": "string"
            }
          },
          "metadata": {},
          "execution_count": 35
        }
      ],
      "source": [
        "'это предложение, у которого на конце что-то лишнее \\n'.strip('\\n')"
      ]
    },
    {
      "cell_type": "markdown",
      "metadata": {
        "id": "HzjSqXBGGvQE"
      },
      "source": [
        "Огромное количество функций написано за нас!\n",
        "\n",
        "Эти функции вместе с другими полезными вещами складывают в библиотеки или модули — и их можно брать и использовать!"
      ]
    },
    {
      "cell_type": "code",
      "execution_count": 36,
      "metadata": {
        "id": "2DDXKffYG-SP"
      },
      "outputs": [],
      "source": [
        "import math #Просим загрузить нам модуль"
      ]
    },
    {
      "cell_type": "code",
      "execution_count": 37,
      "metadata": {
        "colab": {
          "base_uri": "https://localhost:8080/"
        },
        "id": "ZHlBPaHwHH5k",
        "outputId": "c779bf4c-c060-41aa-8dee-4508544c97e8"
      },
      "outputs": [
        {
          "output_type": "execute_result",
          "data": {
            "text/plain": [
              "5.0"
            ]
          },
          "metadata": {},
          "execution_count": 37
        }
      ],
      "source": [
        "#Извлекаем квадратный корень функцией из этого модуля\n",
        "math.sqrt(25)"
      ]
    },
    {
      "cell_type": "code",
      "execution_count": 38,
      "metadata": {
        "colab": {
          "base_uri": "https://localhost:8080/"
        },
        "id": "F-aYwdyrHTn9",
        "outputId": "610d57c7-72dd-4406-9d17-4f44e7cca21a"
      },
      "outputs": [
        {
          "output_type": "stream",
          "name": "stdout",
          "text": [
            "Requirement already satisfied: nltk in /usr/local/lib/python3.11/dist-packages (3.9.1)\n",
            "Requirement already satisfied: click in /usr/local/lib/python3.11/dist-packages (from nltk) (8.1.8)\n",
            "Requirement already satisfied: joblib in /usr/local/lib/python3.11/dist-packages (from nltk) (1.4.2)\n",
            "Requirement already satisfied: regex>=2021.8.3 in /usr/local/lib/python3.11/dist-packages (from nltk) (2024.11.6)\n",
            "Requirement already satisfied: tqdm in /usr/local/lib/python3.11/dist-packages (from nltk) (4.67.1)\n"
          ]
        },
        {
          "output_type": "stream",
          "name": "stderr",
          "text": [
            "[nltk_data] Downloading package punkt_tab to /root/nltk_data...\n",
            "[nltk_data]   Unzipping tokenizers/punkt_tab.zip.\n"
          ]
        },
        {
          "output_type": "execute_result",
          "data": {
            "text/plain": [
              "True"
            ]
          },
          "metadata": {},
          "execution_count": 38
        }
      ],
      "source": [
        "!pip install nltk #Скачиваем модуль\n",
        "import nltk #Просим загрузить нам модуль\n",
        "nltk.download('punkt_tab') #Скачиваем ещё кусочек модуля"
      ]
    },
    {
      "cell_type": "code",
      "execution_count": 39,
      "metadata": {
        "colab": {
          "base_uri": "https://localhost:8080/"
        },
        "id": "VocXfuBEH1kW",
        "outputId": "fb090c6f-7993-4742-bf4d-b1ccb5730e91"
      },
      "outputs": [
        {
          "output_type": "execute_result",
          "data": {
            "text/plain": [
              "['Я',\n",
              " 'хочу',\n",
              " 'разделить',\n",
              " 'на',\n",
              " 'слова',\n",
              " 'длинное',\n",
              " 'предложение',\n",
              " ',',\n",
              " 'которое',\n",
              " 'включает',\n",
              " 'в',\n",
              " 'себя',\n",
              " 'знаки',\n",
              " 'препинания',\n",
              " '!']"
            ]
          },
          "metadata": {},
          "execution_count": 39
        }
      ],
      "source": [
        "nltk.tokenize.word_tokenize('Я хочу разделить на слова длинное предложение, которое включает в себя знаки препинания!')"
      ]
    },
    {
      "cell_type": "markdown",
      "metadata": {
        "id": "ndZfv9AMJFtP"
      },
      "source": [
        "#### Задание 6\n",
        "\n",
        "Импортируйте модуль random. Используйте функцию randint из него, чтобы сгенерировать случайное число от одного до 10. Чтобы понять, какие аргументы у этой функции, можно почитать [документацию](https://docs.python.org/3/library/random.html) или просто загуглить random.randint."
      ]
    },
    {
      "cell_type": "code",
      "execution_count": 40,
      "metadata": {
        "id": "bJikhS67JLaD"
      },
      "outputs": [],
      "source": [
        "#Решение задания 6\n",
        "\n"
      ]
    },
    {
      "cell_type": "markdown",
      "metadata": {
        "id": "ez3QGURjW3Oq"
      },
      "source": [
        "### Работа с индексами\n",
        "\n",
        "С помощью квадратных скобок можно обращаться к элементам списка"
      ]
    },
    {
      "cell_type": "code",
      "execution_count": 41,
      "metadata": {
        "colab": {
          "base_uri": "https://localhost:8080/",
          "height": 36
        },
        "id": "U6djiTWtW1yN",
        "outputId": "43707b3d-4f7a-415a-f28b-0dfe7ab696cb"
      },
      "outputs": [
        {
          "output_type": "execute_result",
          "data": {
            "text/plain": [
              "'на'"
            ],
            "application/vnd.google.colaboratory.intrinsic+json": {
              "type": "string"
            }
          },
          "metadata": {},
          "execution_count": 41
        }
      ],
      "source": [
        "my_list = ['Это', 'предложение', 'разбитое', 'на', 'слова']\n",
        "\n",
        "my_list[3] #начинаем с нуля!"
      ]
    },
    {
      "cell_type": "code",
      "execution_count": 42,
      "metadata": {
        "colab": {
          "base_uri": "https://localhost:8080/"
        },
        "id": "sjM8v7pLXsT2",
        "outputId": "b2bb4606-98fd-4d3f-c216-3bc277903967"
      },
      "outputs": [
        {
          "output_type": "execute_result",
          "data": {
            "text/plain": [
              "['разбитое', 'на']"
            ]
          },
          "metadata": {},
          "execution_count": 42
        }
      ],
      "source": [
        "my_list[2:4] #с 2 включительно по 4 не включительно"
      ]
    },
    {
      "cell_type": "code",
      "execution_count": 43,
      "metadata": {
        "colab": {
          "base_uri": "https://localhost:8080/"
        },
        "id": "0ZN6O3s9XzV8",
        "outputId": "7ee4f330-5496-456c-abf1-8f721bba6a60"
      },
      "outputs": [
        {
          "output_type": "execute_result",
          "data": {
            "text/plain": [
              "['Это', 'предложение', 'разбитое', 'на']"
            ]
          },
          "metadata": {},
          "execution_count": 43
        }
      ],
      "source": [
        "my_list[:4] #с начала по 4 не включительно"
      ]
    },
    {
      "cell_type": "code",
      "execution_count": 44,
      "metadata": {
        "colab": {
          "base_uri": "https://localhost:8080/",
          "height": 36
        },
        "id": "-zsZDdsssQfN",
        "outputId": "19516b80-9b3c-462d-cb97-251657219b7e"
      },
      "outputs": [
        {
          "output_type": "execute_result",
          "data": {
            "text/plain": [
              "'слова'"
            ],
            "application/vnd.google.colaboratory.intrinsic+json": {
              "type": "string"
            }
          },
          "metadata": {},
          "execution_count": 44
        }
      ],
      "source": [
        "my_list[-1] #отрицательные числа начинают отсчёт с конца списка; -1 — последний элемент"
      ]
    },
    {
      "cell_type": "markdown",
      "metadata": {
        "id": "U6jzQewNsQfN"
      },
      "source": [
        "То же самое работает и для строк"
      ]
    },
    {
      "cell_type": "code",
      "execution_count": 45,
      "metadata": {
        "colab": {
          "base_uri": "https://localhost:8080/"
        },
        "id": "K7iXqXlZsQfN",
        "outputId": "03423013-47bd-487c-9eb1-323e80f01c3c"
      },
      "outputs": [
        {
          "output_type": "stream",
          "name": "stdout",
          "text": [
            "о\n",
            "то\n",
            "фито\n",
            "ф\n"
          ]
        }
      ],
      "source": [
        "my_string = 'фитотерапия'\n",
        "\n",
        "print(my_string[3])\n",
        "print(my_string[2:4])\n",
        "print(my_string[:4])\n",
        "print(my_string[:1])"
      ]
    },
    {
      "cell_type": "markdown",
      "metadata": {
        "id": "D5ceBjN0sQfO"
      },
      "source": [
        "### Переход от списков к строкам и обратно"
      ]
    },
    {
      "cell_type": "code",
      "execution_count": 46,
      "metadata": {
        "colab": {
          "base_uri": "https://localhost:8080/",
          "height": 36
        },
        "id": "oaUdLWk0YQnL",
        "outputId": "6805c997-a49c-4633-db0a-3686acf14cb5"
      },
      "outputs": [
        {
          "output_type": "execute_result",
          "data": {
            "text/plain": [
              "'Это предложение разбитое на'"
            ],
            "application/vnd.google.colaboratory.intrinsic+json": {
              "type": "string"
            }
          },
          "metadata": {},
          "execution_count": 46
        }
      ],
      "source": [
        "' '.join(my_list[:4]) #Превращаем список в строку с разделителем пробелом"
      ]
    },
    {
      "cell_type": "code",
      "execution_count": 47,
      "metadata": {
        "colab": {
          "base_uri": "https://localhost:8080/",
          "height": 36
        },
        "id": "TVehFMtriBoM",
        "outputId": "6520dbbe-19ec-42dd-9b21-de886b1d9458"
      },
      "outputs": [
        {
          "output_type": "execute_result",
          "data": {
            "text/plain": [
              "'Этопредложениеразбитоена'"
            ],
            "application/vnd.google.colaboratory.intrinsic+json": {
              "type": "string"
            }
          },
          "metadata": {},
          "execution_count": 47
        }
      ],
      "source": [
        "''.join(my_list[:4]) #Можно выбрать любой другой разделитель, в том числе пустую строку"
      ]
    },
    {
      "cell_type": "code",
      "execution_count": 48,
      "metadata": {
        "colab": {
          "base_uri": "https://localhost:8080/"
        },
        "id": "WUOIDfkzaqnO",
        "outputId": "955f40a4-74b8-40ac-c57d-0034035f2c5e"
      },
      "outputs": [
        {
          "output_type": "execute_result",
          "data": {
            "text/plain": [
              "['Это', 'предложение', 'пока', 'не', 'разбито', 'на', 'слова']"
            ]
          },
          "metadata": {},
          "execution_count": 48
        }
      ],
      "source": [
        "'Это предложение пока не разбито на слова'.split() #В скобках можно указать, по какому символу разбивать — по умолчанию пробел"
      ]
    },
    {
      "cell_type": "markdown",
      "metadata": {
        "id": "I1E91MtxZHW-"
      },
      "source": [
        "#### Задание 7\n",
        "\n",
        "Разбейте это предложение на слова по пробелу, выберите и соедините элементы с 6 по 9, выведите результат"
      ]
    },
    {
      "cell_type": "code",
      "execution_count": 49,
      "metadata": {
        "id": "p5KFe_TKbnyJ"
      },
      "outputs": [],
      "source": [
        "#Решение задания 7\n",
        "\n"
      ]
    },
    {
      "cell_type": "markdown",
      "metadata": {
        "id": "RN_TMOWrsQfP"
      },
      "source": [
        "#### Ещё пара слов об изменении списков"
      ]
    },
    {
      "cell_type": "code",
      "execution_count": 50,
      "metadata": {
        "colab": {
          "base_uri": "https://localhost:8080/"
        },
        "id": "EMcCcZ9hsQfP",
        "outputId": "4c59ceac-b417-47a5-eb36-3f64cbb0864b"
      },
      "outputs": [
        {
          "output_type": "execute_result",
          "data": {
            "text/plain": [
              "['элемент']"
            ]
          },
          "metadata": {},
          "execution_count": 50
        }
      ],
      "source": [
        "# добавление элемента\n",
        "my_list = []\n",
        "my_list.append('элемент')\n",
        "my_list"
      ]
    },
    {
      "cell_type": "markdown",
      "metadata": {
        "id": "Pla7_g48sQfP"
      },
      "source": [
        "А в чем разница + и append?\n",
        "\n",
        "**Оператор +**:\n",
        "   - Используется для конкатенации (объединения) двух списков\n",
        "   - Создает новый список, содержащий элементы обоих исходных списков\n",
        "   - Не изменяет исходные списки\n",
        "\n",
        "**Метод append()**:\n",
        "   - Используется для добавления элемента в конец списка\n",
        "   - Изменяет исходный список, добавляя элемент в его конец"
      ]
    },
    {
      "cell_type": "code",
      "execution_count": 51,
      "metadata": {
        "colab": {
          "base_uri": "https://localhost:8080/"
        },
        "id": "aWxXSH4IsQfP",
        "outputId": "8b5e3325-f323-4d33-e2e8-87a4b901e177"
      },
      "outputs": [
        {
          "output_type": "stream",
          "name": "stdout",
          "text": [
            "[1, 2, 3, 4, 5, 6]\n"
          ]
        }
      ],
      "source": [
        "list1 = [1, 2, 3]\n",
        "list2 = [4, 5, 6]\n",
        "combined_list = list1 + list2\n",
        "print(combined_list)  #  [1, 2, 3, 4, 5, 6]"
      ]
    },
    {
      "cell_type": "code",
      "execution_count": 52,
      "metadata": {
        "colab": {
          "base_uri": "https://localhost:8080/"
        },
        "id": "rdfdqW5jsQfP",
        "outputId": "99f0abd5-b603-48fc-9970-ebd5dca7bd06"
      },
      "outputs": [
        {
          "output_type": "stream",
          "name": "stdout",
          "text": [
            "[1, 2, 3, 4]\n"
          ]
        }
      ],
      "source": [
        "my_list = [1, 2, 3]\n",
        "my_list.append(4)\n",
        "print(my_list)  #  [1, 2, 3, 4]"
      ]
    },
    {
      "cell_type": "markdown",
      "metadata": {
        "id": "OzuToxVSsQfQ"
      },
      "source": [
        "Если вы хотите объединить два списка в новом списке, используйте оператор +, а если вы хотите добавить элемент в существующий список, используйте метод append()"
      ]
    },
    {
      "cell_type": "markdown",
      "metadata": {
        "id": "-ok6khtCGot0"
      },
      "source": [
        "### Циклы\n",
        "\n",
        "Бывает, что одно и то же действие нужно выполнить множество раз.\n",
        "\n",
        "Цикл _while_ выполняет действие, пока не выполнится какое-то условие\n",
        "\n",
        "Цикл _for ... in_ идёт по списку (или другому итерируемому объекту) и выполняет действие для каждого элемента.\n",
        "\n",
        "Мы будем использовать практически только второй цикл."
      ]
    },
    {
      "cell_type": "code",
      "execution_count": 53,
      "metadata": {
        "id": "kCofjl5zdVfG"
      },
      "outputs": [],
      "source": [
        "import random"
      ]
    },
    {
      "cell_type": "code",
      "execution_count": 54,
      "metadata": {
        "colab": {
          "base_uri": "https://localhost:8080/",
          "height": 36
        },
        "id": "dHYfvUHJGkL_",
        "outputId": "b6868bb5-fe2c-4029-b29e-d3a627ae205b"
      },
      "outputs": [
        {
          "output_type": "execute_result",
          "data": {
            "text/plain": [
              "'lhfdj'"
            ],
            "application/vnd.google.colaboratory.intrinsic+json": {
              "type": "string"
            }
          },
          "metadata": {},
          "execution_count": 54
        }
      ],
      "source": [
        "letters = 'tyujhgvfbsdfkjsl' #Попробуем понять, что здесь происходит\n",
        "\n",
        "made_up_word = ''\n",
        "\n",
        "while len(made_up_word) < 5:\n",
        "  made_up_word = made_up_word + random.choice(letters)\n",
        "\n",
        "made_up_word"
      ]
    },
    {
      "cell_type": "code",
      "execution_count": 55,
      "metadata": {
        "colab": {
          "base_uri": "https://localhost:8080/"
        },
        "id": "lA_QRbkoc4YL",
        "outputId": "0e2b00a5-1fb3-4bbf-84c7-7ddab316d6cb"
      },
      "outputs": [
        {
          "output_type": "stream",
          "name": "stdout",
          "text": [
            "Это\n",
            "предложение\n",
            "разбитое\n",
            "на\n",
            "слова\n"
          ]
        }
      ],
      "source": [
        "my_list = ['Это', 'предложение', 'разбитое', 'на', 'слова']\n",
        "\n",
        "for word in my_list: #Берём каждый элемент списка my_list и выводим его на печать\n",
        "  print(word)"
      ]
    },
    {
      "cell_type": "code",
      "execution_count": 56,
      "metadata": {
        "colab": {
          "base_uri": "https://localhost:8080/"
        },
        "id": "7SZGAeYrdo6C",
        "outputId": "4834f395-8b95-4cee-c68c-f37f043b1b36"
      },
      "outputs": [
        {
          "output_type": "execute_result",
          "data": {
            "text/plain": [
              "[3, 11, 8, 2, 5]"
            ]
          },
          "metadata": {},
          "execution_count": 56
        }
      ],
      "source": [
        "my_list_lengths = [] #Создаём список, который будет запоминать длины слов\n",
        "\n",
        "for word in my_list:#Берём каждый элемент списка my_list\n",
        "  word_length = len(word) #Считаем длину элемента\n",
        "  my_list_lengths.append(word_length) #Добавляем его в список с длинами слов\n",
        "\n",
        "my_list_lengths"
      ]
    },
    {
      "cell_type": "code",
      "execution_count": 57,
      "metadata": {
        "colab": {
          "base_uri": "https://localhost:8080/"
        },
        "id": "AHV7wcRZd7DS",
        "outputId": "bd4eb5e6-bdec-4894-d5d5-ea765bf59950"
      },
      "outputs": [
        {
          "output_type": "execute_result",
          "data": {
            "text/plain": [
              "5.8"
            ]
          },
          "metadata": {},
          "execution_count": 57
        }
      ],
      "source": [
        "sum(my_list_lengths)/len(my_list_lengths) #Делим сумму всех элементов списка на их количество"
      ]
    },
    {
      "cell_type": "markdown",
      "metadata": {
        "id": "AFGjZXGGfQN0"
      },
      "source": [
        "#### Задание 8\n",
        "\n",
        "Напишите блок кода, в котором после каждой гласной буквы вставляется слог \"бу\" и выводит получившийся результата. Например, _домик_ --> _добумибук_. Можете использовать уже вписанные фрагменты кода, они пригодятся.\n",
        "\n",
        "Указание 1: по элементам строки можно итерировать так же, как и по списку.\n",
        "\n",
        "Указание 2: оператор _in_ умеет проверять, входит ли символ в строку или входит ли элемент в список."
      ]
    },
    {
      "cell_type": "code",
      "execution_count": null,
      "metadata": {
        "id": "gwea8gUkhXfT"
      },
      "outputs": [],
      "source": [
        "my_word = \"домик\"\n",
        "\n",
        "new_word = ''\n",
        "\n",
        "vowels =\n",
        "\n",
        "for ... in:\n",
        "\n",
        "  if\n",
        "\n"
      ]
    },
    {
      "cell_type": "markdown",
      "metadata": {
        "id": "hdJIfqaGsQfS"
      },
      "source": [
        "#### Вложенные циклы"
      ]
    },
    {
      "cell_type": "code",
      "execution_count": 59,
      "metadata": {
        "colab": {
          "base_uri": "https://localhost:8080/"
        },
        "id": "tbI4Ki6fsQfS",
        "outputId": "30147d10-f5d8-4a40-eee6-359f638246dc"
      },
      "outputs": [
        {
          "output_type": "stream",
          "name": "stdout",
          "text": [
            "вложенный\n",
            "в\n",
            "л\n",
            "о\n",
            "ж\n",
            "е\n",
            "н\n",
            "н\n",
            "ы\n",
            "й\n",
            "цикл\n",
            "ц\n",
            "и\n",
            "к\n",
            "л\n"
          ]
        }
      ],
      "source": [
        "n = ['вложенный', 'цикл']\n",
        "for i in n: # идем по каждому элементу (сейчас на уровне списка)\n",
        "    print(i)\n",
        "    for j in i: # идем по каждому элементу (сейчас на уровне строки)\n",
        "        print(j)"
      ]
    },
    {
      "cell_type": "code",
      "execution_count": 60,
      "metadata": {
        "colab": {
          "base_uri": "https://localhost:8080/"
        },
        "id": "2uoSH8W8sQfS",
        "outputId": "8ac934d4-e075-4bb7-acf6-c245c6c6ab05"
      },
      "outputs": [
        {
          "output_type": "stream",
          "name": "stdout",
          "text": [
            " **   ** \n",
            "**** ****\n",
            "*********\n",
            " ******* \n",
            "  *****  \n",
            "   ***   \n",
            "    *    \n"
          ]
        }
      ],
      "source": [
        "h = 7\n",
        "w = h + 2\n",
        "m = w // 4\n",
        "for i in range(1, h+1):\n",
        "    if (i <= m):\n",
        "        print(\" \" * (m-i) + \"*\" * (2*i) + \" \" * (w-2*i-2*m) + \"*\" *(2*i) + \" \" * (m-i))\n",
        "    else:\n",
        "      print(\" \" * (i - 2*m+1) + \"*\" * (w-2*(i-2*m+1)) + \" \" * (i - 2*m+1))"
      ]
    },
    {
      "cell_type": "markdown",
      "metadata": {
        "id": "Yd0i9JNnr3A_"
      },
      "source": [
        "#### Генераторы списков\n",
        "\n",
        "сокращённая версия для записи конкретного вида циклов\n",
        "\n",
        "\\[_то что попадёт в новый список_ for _переменная_ in _старый список_ if _опциональное условие_ \\]\n"
      ]
    },
    {
      "cell_type": "code",
      "execution_count": 61,
      "metadata": {
        "colab": {
          "base_uri": "https://localhost:8080/"
        },
        "id": "YyJZic28sOgm",
        "outputId": "0a124d42-b775-49c1-fc7d-5fa161350e1e"
      },
      "outputs": [
        {
          "output_type": "execute_result",
          "data": {
            "text/plain": [
              "['с', 'л', 'о', 'в', 'о']"
            ]
          },
          "metadata": {},
          "execution_count": 61
        }
      ],
      "source": [
        "my_word = 'слово'\n",
        "\n",
        "split_list = [letter for letter in my_word]\n",
        "split_list"
      ]
    },
    {
      "cell_type": "code",
      "execution_count": 62,
      "metadata": {
        "colab": {
          "base_uri": "https://localhost:8080/"
        },
        "id": "wJEjoCuns1JT",
        "outputId": "632f727f-88ba-4633-8353-51e8f910a88f"
      },
      "outputs": [
        {
          "output_type": "execute_result",
          "data": {
            "text/plain": [
              "['с', 'л', 'о', 'в', 'о']"
            ]
          },
          "metadata": {},
          "execution_count": 62
        }
      ],
      "source": [
        "other_split_list = []\n",
        "\n",
        "for letter in 'слово':\n",
        "  other_split_list.append(letter)\n",
        "\n",
        "other_split_list"
      ]
    },
    {
      "cell_type": "code",
      "execution_count": 63,
      "metadata": {
        "colab": {
          "base_uri": "https://localhost:8080/"
        },
        "id": "aUUxdpWYsTYO",
        "outputId": "038b2562-048d-4781-c909-e6e58f7db7a9"
      },
      "outputs": [
        {
          "output_type": "execute_result",
          "data": {
            "text/plain": [
              "[3, 4, 5]"
            ]
          },
          "metadata": {},
          "execution_count": 63
        }
      ],
      "source": [
        "[number + 2 for number in [1, 2, 3]]"
      ]
    },
    {
      "cell_type": "code",
      "execution_count": 64,
      "metadata": {
        "colab": {
          "base_uri": "https://localhost:8080/"
        },
        "id": "R3Cw3UReUwOd",
        "outputId": "bf50e837-6461-4734-f326-db2862837859"
      },
      "outputs": [
        {
          "output_type": "execute_result",
          "data": {
            "text/plain": [
              "['сбу', 'лбу', 'обу', 'вбу', 'обу']"
            ]
          },
          "metadata": {},
          "execution_count": 64
        }
      ],
      "source": [
        "split_list = [letter + 'бу' for letter in my_word]\n",
        "split_list"
      ]
    },
    {
      "cell_type": "code",
      "execution_count": 65,
      "metadata": {
        "colab": {
          "base_uri": "https://localhost:8080/"
        },
        "id": "i1A55e3DtHt0",
        "outputId": "a7b80be3-ebba-4663-ede1-95b8e99fda35"
      },
      "outputs": [
        {
          "output_type": "execute_result",
          "data": {
            "text/plain": [
              "['с', 'л', 'в']"
            ]
          },
          "metadata": {},
          "execution_count": 65
        }
      ],
      "source": [
        "[letter for letter in 'слово' if letter != 'о'] #!= — это \"не равно\""
      ]
    },
    {
      "cell_type": "markdown",
      "metadata": {
        "id": "mmVek-Eitgvx"
      },
      "source": [
        "#### Задание 9\n",
        "\n",
        "Сделаем вид, что мы умеем выполнять морфологический анализ слов. Будем считать, что все слова в языке — существительные:)\n",
        "\n",
        "Сделайте блок кода, который анализирует каждое слово в предложении, приписывая к нему часть речи — существительное через нижнее подчёркивание. На слова делите просто по пробелам.\n",
        "\n",
        "Используйте генератор списков."
      ]
    },
    {
      "cell_type": "code",
      "execution_count": 66,
      "metadata": {
        "id": "ORfywnactOLb"
      },
      "outputs": [],
      "source": [
        "#Решение задания 9\n",
        "\n",
        "sentence = 'Никто не заметит, что здесь не только существительные!'\n"
      ]
    },
    {
      "cell_type": "markdown",
      "source": [
        "### Бонус\n",
        "\n",
        "Попробуйте разобраться и описать, что происходит во фрагменте кода ниже."
      ],
      "metadata": {
        "id": "vDMwAOIRTs9P"
      }
    },
    {
      "cell_type": "code",
      "source": [
        "#!pip install pymorphy3\n",
        "from pymorphy3 import MorphAnalyzer\n",
        "analyzer = MorphAnalyzer()\n",
        "from nltk import FreqDist #Импортируем функцию, которая создаёт из списка частотный словарь"
      ],
      "metadata": {
        "collapsed": true,
        "id": "-2c5QCCkXBV9"
      },
      "execution_count": 79,
      "outputs": []
    },
    {
      "cell_type": "code",
      "source": [
        "text = '''Сегодня мы хотим побеседовать с Владимиром Тихоновым, студентом-китаистом 5-го курса, о его опыте совмещения учебы и работы журналистом для нескольких интернет-изданий.\n",
        "\n",
        "1. Владимир, мы знаем, что Вы начали сотрудничать с несколькими изданиями еще на младших курсах бакалавриата. Когда и как Вы стали писать тексты для СМИ?\n",
        "\n",
        "Первый опыт работы корреспондентом я получил, будучи на стажировке во Вьетнаме (после третьего курса) – осенью у меня было довольно много свободного времени, поэтому в попытках его заполнить я начал искать работу. Сначала я несколько месяцев я преподавал вьетнамский язык для россиян, которые волею судеб переехали в Ханой, а потом устроился на стажировку в издание «Российская Газета» (РГ).\n",
        "\n",
        "Не могу сказать, что это была какая-то денежная работа, в РГ я скорее учился писать качественные тексты и подстраиваться под требуемый формат. Удаленная работа оказалась прекрасным решением, я мог поехать в какое-нибудь кафе или на природу и работать там. Наверное, только благодаря этому я не бросил эту идею, потому что писать приходилось довольно много и порой в рамках тех направлений, которые мне были не слишком интересны.\n",
        "\n",
        "Спустя пару месяцев меня заметили другие редакторы СМИ, и я написал свои первые большие статьи для изданий «РБК Стиль» и «Ведомости. Как потратить» – там были уже совершенно другие деньги и гораздо больше свободы для творчества, да и какие-то работы можно было выполнять в течение двух-трех дней, никуда не торопясь. Думаю, что примерно с этого момента я начал писать по-настоящему осмысленно.\n",
        "\n",
        "После возвращения в Россию, я ушел из «РГ», на какое-то время ограничившись только лонгридами, а в начале 2024 года устроился корреспондентом в Hi-Tech Mail.ru. Думаю, это был один из самых сложных периодов в моей жизни, поскольку мне приходилось совмещать учебу на четвертом курсе с полноценной восьмичасовой работой. Каждый день проходил по довольно мрачному регламенту: я приезжал в университет, покупал большой капучино, занимал место рядом с зарядкой, писал несколько новостей до начала пар, потом перемещался по аудиториям и продолжал писать, пытаясь сохранить концентрацию и на занятиях, и на материале.\n",
        "\n",
        "Тем не менее, жизнь в таком темпе имеет свой неповторимый шарм, поскольку в «полевых условиях» учит управлять крайне ограниченным набором ресурсов: временем, энергией и мотивацией. Можно сказать, что в этой точке любой проект превращается в спорт, поскольку существует вместе со множеством других дел, претендующих на все свободное время и внимание.\n",
        "\n",
        "Сотрудничать с Hi-Tech я прекратил в конце августа 2024 года, сохранив отношения с другими изданиями и проектами, предлагающими более выгодные условия и свободный график. Я четко определил для себя, что не стану задерживаться на одном месте, а буду постоянно искать новые возможности для развития и получения более справедливого «оффера». В конце концов, получение удовольствия является лишь преходящим побочным эффектом от выполнения работы, нежели ее главной целью.'''\n",
        "\n",
        "#Текст со страницы https://spb.hse.ru/ba/oriental/news/997802008.html\n",
        "\n",
        "word_list = []\n",
        "\n",
        "for i in nltk.tokenize.word_tokenize(text):\n",
        "\n",
        "    norm_form = analyzer.parse(i)[0].normal_form #Тут используется функция, которая делает морфологический разбор и достаёт лемму\n",
        "    word_list.append(norm_form)\n",
        "\n",
        "freq_dict = FreqDist(word_list)"
      ],
      "metadata": {
        "id": "cpRCCq2NTvPI"
      },
      "execution_count": 82,
      "outputs": []
    },
    {
      "cell_type": "code",
      "source": [
        "freq_dict.most_common(10)"
      ],
      "metadata": {
        "colab": {
          "base_uri": "https://localhost:8080/"
        },
        "id": "unjs-94rXhr8",
        "outputId": "6ac3af1c-66ea-4255-853b-250e8ffe6f2d"
      },
      "execution_count": 84,
      "outputs": [
        {
          "output_type": "execute_result",
          "data": {
            "text/plain": [
              "[(',', 41),\n",
              " ('.', 19),\n",
              " ('в', 19),\n",
              " ('и', 17),\n",
              " ('я', 17),\n",
              " ('на', 10),\n",
              " ('с', 8),\n",
              " ('работа', 8),\n",
              " ('быть', 8),\n",
              " ('для', 7)]"
            ]
          },
          "metadata": {},
          "execution_count": 84
        }
      ]
    },
    {
      "cell_type": "markdown",
      "source": [
        "### Создание функций\n",
        "\n",
        "Из написанного блока кода, который мы далее хотим использовать, можно сделать функцию. Для этого используется слово def, в скобках объявляются аргументы, которые принимает функция, и с помощью слова return указывается, что эта функция вернёт.\n",
        "\n",
        "Один из стилей написания кода — функциональный стиль — предполагает разделение кода на множество функций, который далее могут запускаться в требуемом порядке."
      ],
      "metadata": {
        "id": "-wKg8-OMZAQc"
      }
    },
    {
      "cell_type": "code",
      "source": [
        "def process_text(text):\n",
        "  word_list = []\n",
        "\n",
        "  for i in nltk.tokenize.word_tokenize(text):\n",
        "\n",
        "      norm_form = analyzer.parse(i)[0].normal_form #Тут используется функция, которая делает морфологический разбор и достаёт лемму\n",
        "      word_list.append(norm_form)\n",
        "\n",
        "  return FreqDist(word_list)"
      ],
      "metadata": {
        "id": "zVApLe-bY_iD"
      },
      "execution_count": 85,
      "outputs": []
    },
    {
      "cell_type": "code",
      "source": [
        "new_text = '''Главным преимуществом образования, которое я сейчас получаю, стала возможность легко обрабатывать информацию на китайском и вьетнамском языках – это дает более чем ощутимое преимущество при поиске и написании материала.\n",
        "\n",
        "Многие новости и инсайды намного раньше появляются на восточных ресурсах, поэтому я часто работаю с первоисточниками и выпускаю новости намного раньше большинства других русскоязычных платформ.'''\n",
        "\n",
        "process_text(new_text)"
      ],
      "metadata": {
        "colab": {
          "base_uri": "https://localhost:8080/"
        },
        "id": "N1wLp514ZyLL",
        "outputId": "2979fa4f-77dd-49f6-e5dc-763dab8f0506"
      },
      "execution_count": 86,
      "outputs": [
        {
          "output_type": "execute_result",
          "data": {
            "text/plain": [
              "FreqDist({'и': 4, ',': 3, 'преимущество': 2, 'я': 2, 'на': 2, '.': 2, 'новость': 2, 'намного': 2, 'ранний': 2, 'главный': 1, ...})"
            ]
          },
          "metadata": {},
          "execution_count": 86
        }
      ]
    },
    {
      "cell_type": "markdown",
      "source": [
        "Когда вы создаёте функцию, стоит проследить, во всех ли случаях она работает правильным образом (кто знает, к чему её будут применять?), а также прокомментировать код в ней, чтобы, когда вы вернётесь, было понятно, что там происходит.\n",
        "\n",
        "Во всех ли случаях корректно сработает функция выше? И не хочется ли её как-нибудь улучшить, помимо случаев, когда она выдаёт ошибку?"
      ],
      "metadata": {
        "id": "uPFTIvd3bBY1"
      }
    },
    {
      "cell_type": "markdown",
      "metadata": {
        "id": "aAE5U57WsQfV"
      },
      "source": [
        "### Где читать про питон\n",
        "\n",
        "- [Документация](https://www.python.org/)\n",
        "- [Учебник яндекса](https://education.yandex.ru/handbook/python)\n",
        "- [Хабр](https://habr.com/ru/articles/450474/)\n",
        "- [Курс от Stepik](https://stepik.org/course/58852/promo#toc) с короткими текстовыми блоками и множеством заданий\n",
        "- [Ещё один похожий курс](https://www.w3schools.com/python/default.asp) с большей опорой на примеры"
      ]
    }
  ],
  "metadata": {
    "colab": {
      "provenance": []
    },
    "kernelspec": {
      "display_name": "Python 3 (ipykernel)",
      "language": "python",
      "name": "python3"
    },
    "language_info": {
      "codemirror_mode": {
        "name": "ipython",
        "version": 3
      },
      "file_extension": ".py",
      "mimetype": "text/x-python",
      "name": "python",
      "nbconvert_exporter": "python",
      "pygments_lexer": "ipython3",
      "version": "3.12.7"
    }
  },
  "nbformat": 4,
  "nbformat_minor": 0
}